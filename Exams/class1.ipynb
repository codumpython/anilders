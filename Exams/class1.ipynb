{
 "cells": [
  {
   "cell_type": "markdown",
   "metadata": {
    "nbgrader": {
     "grade": false,
     "grade_id": "cell-50be09b55831e38d",
     "locked": true,
     "schema_version": 1,
     "solution": false
    },
    "slideshow": {
     "slide_type": "slide"
    }
   },
   "source": [
    "# Week 1 in class\n",
    "\n",
    "This is one of the notebooks that we work on together in class. In this way you can work on tougher problems, on your own or with a small group of other students, and have plenty of time to ask questions about things that you do not understand. \n",
    "\n",
    "If you do not manage to finish the notebook in class, then finish it yourself at home. The notebook is written in such a way that you can go through it on your own. If you do run into problems, ask us on the discussion forum, in the Q&A session, or next week.\n",
    "\n",
    "#### Learning goals\n",
    "- Extending your knowlegde of object types to *tuples*.\n",
    "- Introducing you to an important application of strings: *string formatting*.\n",
    "- Increasing your comfort with `numpy`, with an application to financial arithmetic."
   ]
  },
  {
   "cell_type": "markdown",
   "metadata": {},
   "source": [
    "## Tuples\n",
    "<a id='3'></a>\n",
    "\n",
    "Tuples are very similar to lists and hold ordered collections of items.\n",
    "\n",
    "However, tuples and lists have three main differences:\n",
    "\n",
    "1. Tuples are created using parenthesis — `(` and `)` — instead of\n",
    "  square brackets — `[` and `]`.  \n",
    "1. Tuples are *immutable*, which is a fancy computer science word\n",
    "  meaning that they can’t be changed or altered after they are created.  \n",
    "1. Tuples and multiple return values\n",
    "  from functions are tightly connected, as we will see in functions.  "
   ]
  },
  {
   "cell_type": "code",
   "execution_count": 1,
   "metadata": {
    "hide-output": false
   },
   "outputs": [
    {
     "name": "stdout",
     "output_type": "stream",
     "text": [
      "t is a <class 'tuple'>\n"
     ]
    },
    {
     "data": {
      "text/plain": [
       "(1, 'hello', 3.0)"
      ]
     },
     "execution_count": 1,
     "metadata": {},
     "output_type": "execute_result"
    }
   ],
   "source": [
    "t = (1, \"hello\", 3.0)\n",
    "print(\"t is a\", type(t))\n",
    "t"
   ]
  },
  {
   "cell_type": "markdown",
   "metadata": {},
   "source": [
    "We can *convert* a list to a tuple by calling the `tuple` function on\n",
    "a list."
   ]
  },
  {
   "cell_type": "code",
   "execution_count": 2,
   "metadata": {
    "hide-output": false
   },
   "outputs": [
    {
     "name": "stdout",
     "output_type": "stream",
     "text": [
      "x is a <class 'list'>\n",
      "tuple(x) is a <class 'tuple'>\n"
     ]
    },
    {
     "data": {
      "text/plain": [
       "(1, 2)"
      ]
     },
     "execution_count": 2,
     "metadata": {},
     "output_type": "execute_result"
    }
   ],
   "source": [
    "x = [1,2]\n",
    "print(\"x is a\", type(x))\n",
    "print(\"tuple(x) is a\", type(tuple(x)))\n",
    "tuple(x)"
   ]
  },
  {
   "cell_type": "markdown",
   "metadata": {},
   "source": [
    "We can also convert a tuple to a list using the list function."
   ]
  },
  {
   "cell_type": "code",
   "execution_count": 3,
   "metadata": {
    "hide-output": false
   },
   "outputs": [
    {
     "data": {
      "text/plain": [
       "[1, 'hello', 3.0]"
      ]
     },
     "execution_count": 3,
     "metadata": {},
     "output_type": "execute_result"
    }
   ],
   "source": [
    "list(t)"
   ]
  },
  {
   "cell_type": "markdown",
   "metadata": {},
   "source": [
    "### List vs Tuple: Which to Use?\n",
    "\n",
    "Should you use a list or tuple?\n",
    "\n",
    "This depends on what you are storing, whether you might need to reorder the elements,\n",
    "or whether you’d add\n",
    "new elements without a complete reinterpretation of the\n",
    "underlying data.\n",
    "\n",
    "For example, take data representing the GDP (in trillions) and population\n",
    "(in billions) for China in 2015."
   ]
  },
  {
   "cell_type": "code",
   "execution_count": 4,
   "metadata": {
    "hide-output": false
   },
   "outputs": [
    {
     "name": "stdout",
     "output_type": "stream",
     "text": [
      "('China', 2015, 11.06, 1.371)\n"
     ]
    }
   ],
   "source": [
    "china_data_2015 = (\"China\", 2015, 11.06, 1.371)\n",
    "\n",
    "print(china_data_2015)"
   ]
  },
  {
   "cell_type": "markdown",
   "metadata": {},
   "source": [
    "In this case, we have used a tuple since: (a) ordering would\n",
    "be meaningless; and (b) adding more data would require a\n",
    "reinterpretation of the whole data structure.\n",
    "\n",
    "On the other hand, consider a list of GDP in China between\n",
    "2014 and 2015."
   ]
  },
  {
   "cell_type": "code",
   "execution_count": 5,
   "metadata": {
    "hide-output": false
   },
   "outputs": [
    {
     "name": "stdout",
     "output_type": "stream",
     "text": [
      "[10.48, 11.06]\n"
     ]
    }
   ],
   "source": [
    "gdp_data = [10.48, 11.06]\n",
    "print(gdp_data)"
   ]
  },
  {
   "cell_type": "markdown",
   "metadata": {},
   "source": [
    "In this case, we have used a list, since adding on a new\n",
    "element to the end of the list for GDP in 2016 would make\n",
    "complete sense.\n",
    "\n",
    "Along these lines, collecting data on China for different\n",
    "years may make sense as a list of tuples (e.g. year, GDP,\n",
    "and population – although we will see better ways to store this sort of data\n",
    "when we learn Pandas"
   ]
  },
  {
   "cell_type": "code",
   "execution_count": 4,
   "metadata": {
    "hide-output": false
   },
   "outputs": [
    {
     "name": "stdout",
     "output_type": "stream",
     "text": [
      "[(2015, 11.06, 1.371), (2014, 10.48, 1.364)]\n"
     ]
    }
   ],
   "source": [
    "china_data = [(2015, 11.06, 1.371), (2014, 10.48, 1.364)]\n",
    "print(china_data)\n",
    "china_data_2015=[(2015, 11.06, 1.371)]"
   ]
  },
  {
   "cell_type": "markdown",
   "metadata": {},
   "source": [
    "#### Exercise 1\n",
    "\n",
    "Verify that tuples are indeed immutable and lists are not, by attempting the following:\n",
    "\n",
    "- Changing the GDP in 2015 to 12.00\n",
    "- Appending observations for 2013: a GDP of 9.607, and a population of 1.357\n",
    "- Sorting the data ascending in years"
   ]
  },
  {
   "cell_type": "code",
   "execution_count": 6,
   "metadata": {},
   "outputs": [
    {
     "ename": "IndexError",
     "evalue": "list assignment index out of range",
     "output_type": "error",
     "traceback": [
      "\u001b[1;31m---------------------------------------------------------------------------\u001b[0m",
      "\u001b[1;31mIndexError\u001b[0m                                Traceback (most recent call last)",
      "Input \u001b[1;32mIn [6]\u001b[0m, in \u001b[0;36m<cell line: 3>\u001b[1;34m()\u001b[0m\n\u001b[0;32m      1\u001b[0m \u001b[38;5;66;03m# YOUR CODE HERE\u001b[39;00m\n\u001b[0;32m      2\u001b[0m \u001b[38;5;66;03m#raise NotImplementedError()\u001b[39;00m\n\u001b[1;32m----> 3\u001b[0m china_data_2015[\u001b[38;5;241m2\u001b[39m] \u001b[38;5;241m=\u001b[39m \u001b[38;5;124m'\u001b[39m\u001b[38;5;124m12.00\u001b[39m\u001b[38;5;124m'\u001b[39m\n\u001b[0;32m      4\u001b[0m x \u001b[38;5;241m=\u001b[39m (\u001b[38;5;241m2013\u001b[39m, \u001b[38;5;241m9.607\u001b[39m, \u001b[38;5;241m1.357\u001b[39m)\n\u001b[0;32m      5\u001b[0m china_data\u001b[38;5;241m.\u001b[39mappend(x)\n",
      "\u001b[1;31mIndexError\u001b[0m: list assignment index out of range"
     ]
    }
   ],
   "source": [
    "# YOUR CODE HERE\n",
    "#raise NotImplementedError()\n",
    "china_data_2015[2] = '12.00'\n",
    "x = (2013, 9.607, 1.357)\n",
    "china_data.append(x)\n",
    "sorted_china = sorted(china_data)\n",
    "print(sorted_china)\n"
   ]
  },
  {
   "cell_type": "markdown",
   "metadata": {},
   "source": [
    "### Conclusion\n",
    "\n",
    "In general, a rule of thumb is to use a list unless you *need* to use a tuple.\n",
    "\n",
    "Key criteria for tuple use are when you want to:\n",
    "\n",
    "- ensure the *order* of elements can’t change  \n",
    "- ensure the actual values of the elements can’t\n",
    "  change  \n",
    "- use the collection as a key in a dictionary (we will learn what this\n",
    "  means next week)  "
   ]
  },
  {
   "cell_type": "markdown",
   "metadata": {},
   "source": [
    "## String Formatting\n",
    "<a id='1'></a>\n",
    "Sometimes we’d like to reuse some portion of a string repeatedly, but\n",
    "still make some relatively small changes at each usage.\n",
    "\n",
    "We can do this with *string formatting*, which done by using `{}` as a\n",
    "*placeholder* where we’d like to change the string, with a variable name\n",
    "or expression.\n",
    "\n",
    "Let’s look at an example."
   ]
  },
  {
   "cell_type": "code",
   "execution_count": 35,
   "metadata": {},
   "outputs": [
    {
     "name": "stdout",
     "output_type": "stream",
     "text": [
      "Vietnam had $223.9 billion GDP in 2017\n"
     ]
    }
   ],
   "source": [
    "country = \"Vietnam\"\n",
    "GDP = 223.9\n",
    "year = 2017\n",
    "my_string = f\"{country} had ${GDP} billion GDP in {year}\"\n",
    "print(my_string)"
   ]
  },
  {
   "cell_type": "markdown",
   "metadata": {},
   "source": [
    "Rather than just substituting a variable name, you can use a calculation\n",
    "or expression."
   ]
  },
  {
   "cell_type": "code",
   "execution_count": 44,
   "metadata": {},
   "outputs": [
    {
     "name": "stdout",
     "output_type": "stream",
     "text": [
      "5**2 = 25\n"
     ]
    }
   ],
   "source": [
    "print(f\"{5}**2 = {5**2}\")"
   ]
  },
  {
   "cell_type": "markdown",
   "metadata": {},
   "source": [
    "Or, using our previous example"
   ]
  },
  {
   "cell_type": "code",
   "execution_count": 45,
   "metadata": {},
   "outputs": [
    {
     "name": "stdout",
     "output_type": "stream",
     "text": [
      "Vietnam had $223900000.0 GDP in 2017\n"
     ]
    }
   ],
   "source": [
    "my_string = f\"{country} had ${GDP * 1_000_000} GDP in {year}\"\n",
    "print(my_string)"
   ]
  },
  {
   "cell_type": "markdown",
   "metadata": {},
   "source": [
    "In these cases, the `f` in front of the string causes Python interpolate\n",
    "any valid expression within the `{}` braces.\n",
    "\n",
    "Alternatively, to reuse a formatted string, you can call the `format` *method* (noting that you do **not** put `f` in front)."
   ]
  },
  {
   "cell_type": "code",
   "execution_count": 46,
   "metadata": {},
   "outputs": [
    {
     "data": {
      "text/plain": [
       "'Vietnam had $223.9 billion in 2017'"
      ]
     },
     "execution_count": 46,
     "metadata": {},
     "output_type": "execute_result"
    }
   ],
   "source": [
    "gdp_string = \"{country} had ${GDP} billion in {year}\"\n",
    "\n",
    "gdp_string.format(country = \"Vietnam\", GDP = 223.9, year = 2017)"
   ]
  },
  {
   "cell_type": "markdown",
   "metadata": {
    "nbgrader": {
     "grade": false,
     "grade_id": "cell-09dbe4ad2af0866f",
     "locked": true,
     "schema_version": 1,
     "solution": false
    }
   },
   "source": [
    "#### Exercise 2\n",
    "\n",
    "Lookup a country in [World Bank database](https://data.worldbank.org/), and format a string showing the growth rate of GDP over the last 2 years.\n",
    "\n",
    "Note, incidently how we created a link in markdown in the previous sentence. Double click on this cell, to see the syntax for a link in markdown."
   ]
  },
  {
   "cell_type": "code",
   "execution_count": 59,
   "metadata": {
    "collapsed": false,
    "jupyter": {
     "outputs_hidden": false
    },
    "nbgrader": {
     "grade": false,
     "grade_id": "cell-255bd00e5fa63d25",
     "locked": true,
     "schema_version": 1,
     "solution": false
    }
   },
   "outputs": [],
   "source": [
    "# YOUR CODE HERE\n",
    "#raise NotImplementedError()\n",
    "GDP_2019 = 31.046\n",
    "GDP_2018 = 30.475\n",
    "year = 2019\n",
    "Country = \"Estonia\""
   ]
  },
  {
   "cell_type": "markdown",
   "metadata": {
    "nbgrader": {
     "grade": false,
     "grade_id": "cell-7d92ba02663fa379",
     "locked": true,
     "schema_version": 1,
     "solution": false
    }
   },
   "source": [
    "Now, instead of hard-coding the values above, try using `format` function by defining country, GDP and year as variables."
   ]
  },
  {
   "cell_type": "code",
   "execution_count": 60,
   "metadata": {
    "collapsed": false,
    "jupyter": {
     "outputs_hidden": false
    },
    "nbgrader": {
     "grade": false,
     "grade_id": "cell-c8cf031e75070ab2",
     "locked": true,
     "schema_version": 1,
     "solution": false
    }
   },
   "outputs": [
    {
     "name": "stdout",
     "output_type": "stream",
     "text": [
      "The GDP Growth rate of Estonia in 2019 was 1.8392063389808606%\n"
     ]
    }
   ],
   "source": [
    "# YOUR CODE HERE\n",
    "#raise NotImplementedError()\n",
    "true_string = f\"The GDP Growth rate of {Country} in {year} was {(GDP_2019-GDP_2018)/GDP_2019 * 100}%\"\n",
    "print(true_string)"
   ]
  },
  {
   "cell_type": "markdown",
   "metadata": {
    "nbgrader": {
     "grade": false,
     "grade_id": "cell-09dbe4ad2af0866f",
     "locked": true,
     "schema_version": 1,
     "solution": false
    }
   },
   "source": [
    "#### Exercise 3\n",
    "\n",
    "Create a new string and use formatting to produce each of the following statements:\n",
    "- \"The 1st quarter revenue was 110M\"\n",
    "- \"The 2nd quarter revenue was 95M\"\n",
    "- \"The 3rd quarter revenue was 100M\"\n",
    "- \"The 4th quarter revenue was 130M\""
   ]
  },
  {
   "cell_type": "code",
   "execution_count": 85,
   "metadata": {
    "collapsed": false,
    "jupyter": {
     "outputs_hidden": false
    }
   },
   "outputs": [
    {
     "name": "stdout",
     "output_type": "stream",
     "text": [
      "The 1st quarter revenue was 110M\n",
      "The 2nd quarter revenue was 95M\n",
      "The 3rd quarter revenue was 100M\n",
      "The 4th quarter revenue was 130M\n"
     ]
    }
   ],
   "source": [
    "# YOUR CODE HERE\n",
    "#raise NotImplementedError()\n",
    "Quarter = [\"1st\", \"2nd\", \"3rd\", \"4th\"]  # () - tuple, [] - list\n",
    "rev = [110, 95,100,130]\n",
    "for i in range(len(rev)):\n",
    "    \n",
    "    ducks =f\"The {Quarter[i]} quarter revenue was {rev[i]}M\"\n",
    "    print(ducks)\n",
    "\n"
   ]
  },
  {
   "cell_type": "markdown",
   "metadata": {},
   "source": [
    "## Numpy\n",
    "\n",
    "Numpy’s core contribution is a data-type called an array. An array is similar to a list, but numpy imposes some additional restrictions on how the data inside is organized.\n",
    "\n",
    "These restrictions allow numpy to\n",
    "\n",
    "1. Be more efficient in performing mathematical and scientific computations.\n",
    "2. Expose functions that allow numpy to do the necessary linear algebra for machine learning and statistics.\n",
    "\n",
    "Before we get started, please note that the convention for importing the numpy package is to use the nickname np:"
   ]
  },
  {
   "cell_type": "code",
   "execution_count": 86,
   "metadata": {},
   "outputs": [],
   "source": [
    "import numpy as np"
   ]
  },
  {
   "cell_type": "markdown",
   "metadata": {},
   "source": [
    "### Array Indexing\n",
    "\n",
    "An array is a multi-dimensional grid of values. Now that there are multiple dimensions, indexing might feel somewhat non-obvious. Do the rows or columns come first? In higher dimensions, what is the order of\n",
    "the index?\n",
    "\n",
    "Notice that the array is built using a list of lists. Indexing into the array will correspond to choosing elements from each list.\n",
    "\n",
    "First, notice that a 3-dimensional array give two stacked matrices:"
   ]
  },
  {
   "cell_type": "code",
   "execution_count": 87,
   "metadata": {
    "hide-output": false
   },
   "outputs": [
    {
     "name": "stdout",
     "output_type": "stream",
     "text": [
      "[[[ 1  2  3]\n",
      "  [ 4  5  6]]\n",
      "\n",
      " [[10 20 30]\n",
      "  [40 50 60]]]\n"
     ]
    }
   ],
   "source": [
    "x_3d_list = [[[1, 2, 3], [4, 5, 6]], [[10, 20, 30], [40, 50, 60]]]\n",
    "x_3d = np.array(x_3d_list)\n",
    "print(x_3d)"
   ]
  },
  {
   "cell_type": "markdown",
   "metadata": {},
   "source": [
    "We can access the matrices with"
   ]
  },
  {
   "cell_type": "code",
   "execution_count": 88,
   "metadata": {
    "hide-output": false
   },
   "outputs": [
    {
     "name": "stdout",
     "output_type": "stream",
     "text": [
      "[[1 2 3]\n",
      " [4 5 6]]\n",
      "[[10 20 30]\n",
      " [40 50 60]]\n"
     ]
    }
   ],
   "source": [
    "print(x_3d[0])\n",
    "print(x_3d[1])"
   ]
  },
  {
   "cell_type": "markdown",
   "metadata": {},
   "source": [
    "In the case of the first, it is synonymous with"
   ]
  },
  {
   "cell_type": "code",
   "execution_count": 92,
   "metadata": {
    "hide-output": false,
    "scrolled": true
   },
   "outputs": [
    {
     "name": "stdout",
     "output_type": "stream",
     "text": [
      "[[1 2 3]\n",
      " [4 5 6]]\n"
     ]
    }
   ],
   "source": [
    "print(x_3d[0, :, :])"
   ]
  },
  {
   "cell_type": "markdown",
   "metadata": {},
   "source": [
    "Let’s work through another example to further clarify this concept with our\n",
    "3-dimensional array.\n",
    "\n",
    "Our goal will be to find the index that retrieves the `4` out of `x_3d`.\n",
    "\n",
    "Recall that when we created `x_3d`, we used the list `[[[1, 2, 3], [4, 5, 6]], [[10, 20, 30], [40, 50, 60]]]`.\n",
    "\n",
    "Notice that the 0 element of that list is `[[1, 2, 3], [4, 5, 6]]`. This is the\n",
    "list that contains the `4` so the first index we would use is a 0."
   ]
  },
  {
   "cell_type": "code",
   "execution_count": 177,
   "metadata": {
    "hide-output": false,
    "scrolled": true
   },
   "outputs": [
    {
     "name": "stdout",
     "output_type": "stream",
     "text": [
      "4\n"
     ]
    }
   ],
   "source": [
    "print(x_3d[0, 1, 0])\n"
   ]
  },
  {
   "cell_type": "markdown",
   "metadata": {},
   "source": [
    "**Exercise 4**\n",
    "\n",
    "What would you do to extract the array `[[5, 6], [50, 60]]` from `x_3d`?"
   ]
  },
  {
   "cell_type": "code",
   "execution_count": 94,
   "metadata": {},
   "outputs": [
    {
     "name": "stdout",
     "output_type": "stream",
     "text": [
      "[[ 5  6]\n",
      " [50 60]]\n"
     ]
    }
   ],
   "source": [
    "# YOUR CODE HERE\n",
    "#raise NotImplementedError()\n",
    "print(x_3d[:,1,1:3])"
   ]
  },
  {
   "cell_type": "markdown",
   "metadata": {},
   "source": [
    "### Array Functionality"
   ]
  },
  {
   "cell_type": "markdown",
   "metadata": {},
   "source": [
    "#### Creating Arrays\n",
    "\n",
    "It’s usually impractical to define arrays by hand as we have done so far.\n",
    "\n",
    "We’ll often need to create an array with default values and then fill it\n",
    "with other values.\n",
    "\n",
    "We can create arrays with the functions `np.zeros` and `np.ones`.\n",
    "\n",
    "Both functions take a tuple that denotes the shape of an array and creates an\n",
    "array filled with 0s or 1s respectively."
   ]
  },
  {
   "cell_type": "code",
   "execution_count": 95,
   "metadata": {
    "hide-output": false
   },
   "outputs": [
    {
     "data": {
      "text/plain": [
       "array([[[0., 0., 0., 0.],\n",
       "        [0., 0., 0., 0.],\n",
       "        [0., 0., 0., 0.]],\n",
       "\n",
       "       [[0., 0., 0., 0.],\n",
       "        [0., 0., 0., 0.],\n",
       "        [0., 0., 0., 0.]]])"
      ]
     },
     "execution_count": 95,
     "metadata": {},
     "output_type": "execute_result"
    }
   ],
   "source": [
    "sizes = (2, 3, 4)\n",
    "x = np.zeros(sizes) # note, a tuple!\n",
    "x"
   ]
  },
  {
   "cell_type": "code",
   "execution_count": 96,
   "metadata": {
    "hide-output": false
   },
   "outputs": [
    {
     "data": {
      "text/plain": [
       "array([1., 1., 1., 1.])"
      ]
     },
     "execution_count": 96,
     "metadata": {},
     "output_type": "execute_result"
    }
   ],
   "source": [
    "y = np.ones((4))\n",
    "y"
   ]
  },
  {
   "cell_type": "markdown",
   "metadata": {},
   "source": [
    "#### Broadcasting Operations\n",
    "\n",
    "Two types of operations that will be useful for arrays of any dimension are:\n",
    "\n",
    "1. Operations between an array and a single number.  \n",
    "1. Operations between two arrays of the same shape.  \n",
    "\n",
    "\n",
    "When we perform operations on an array by using a single number, we simply apply that operation to every element of the array."
   ]
  },
  {
   "cell_type": "code",
   "execution_count": 97,
   "metadata": {},
   "outputs": [
    {
     "name": "stdout",
     "output_type": "stream",
     "text": [
      "x =  [[1. 1.]\n",
      " [1. 1.]]\n",
      "2 + x =  [[3. 3.]\n",
      " [3. 3.]]\n",
      "2 - x =  [[1. 1.]\n",
      " [1. 1.]]\n",
      "2 * x =  [[2. 2.]\n",
      " [2. 2.]]\n",
      "x / 2 =  [[0.5 0.5]\n",
      " [0.5 0.5]]\n"
     ]
    }
   ],
   "source": [
    "# Using np.ones to create an array\n",
    "x = np.ones((2, 2))\n",
    "print(\"x = \", x)\n",
    "print(\"2 + x = \", 2 + x)\n",
    "print(\"2 - x = \", 2 - x)\n",
    "print(\"2 * x = \", 2 * x)\n",
    "print(\"x / 2 = \", x / 2)"
   ]
  },
  {
   "cell_type": "markdown",
   "metadata": {},
   "source": [
    "Operations between two arrays of the same size, in this case `(2, 2)`, simply apply the operation element-wise between the arrays."
   ]
  },
  {
   "cell_type": "code",
   "execution_count": 104,
   "metadata": {},
   "outputs": [
    {
     "name": "stdout",
     "output_type": "stream",
     "text": [
      "x =  [[1. 2.]\n",
      " [3. 4.]]\n",
      "y =  [[1. 1.]\n",
      " [1. 1.]]\n",
      "x + y =  [[2. 3.]\n",
      " [4. 5.]]\n",
      "x - y =  [[0. 1.]\n",
      " [2. 3.]]\n",
      "(elementwise) x * y =  [[1. 2.]\n",
      " [3. 4.]]\n",
      "(elementwise) x / y =  [[1. 2.]\n",
      " [3. 4.]]\n",
      "[5 6 7]\n"
     ]
    }
   ],
   "source": [
    "x = np.array([[1.0, 2.0], [3.0, 4.0]])\n",
    "y = np.ones((2, 2))\n",
    "print(\"x = \", x)\n",
    "print(\"y = \", y)\n",
    "print(\"x + y = \", x + y)\n",
    "print(\"x - y = \", x - y)\n",
    "print(\"(elementwise) x * y = \", x * y)\n",
    "print(\"(elementwise) x / y = \", x / y)\n",
    "result = np.array([1, 2, 3]) + [4]\n",
    "print(result)"
   ]
  },
  {
   "cell_type": "markdown",
   "metadata": {},
   "source": [
    "**Exercise 5**\n",
    "\n",
    "Consider the code `[1, 2, 3] + [4]`. What is the difference between the output of this code and the output of `np.array([1, 2, 3]) + [4]`?"
   ]
  },
  {
   "cell_type": "markdown",
   "metadata": {},
   "source": [
    "First code adds 4 to the list of [1,2,3]. \n",
    "Second code makes a matrix 1x3 with values [1,2,3] and adds 4 to each element - creating a matrix [5,6,7]\n"
   ]
  },
  {
   "cell_type": "markdown",
   "metadata": {},
   "source": [
    "**Exercise 6**\n",
    "\n",
    "Do you recall what multiplication by an integer did for lists?\n",
    "\n",
    "How does broadcasting differ?"
   ]
  },
  {
   "cell_type": "markdown",
   "metadata": {},
   "source": [
    "Python list s can only be multiplied by an integer, in which case the elements of the list are repeated. \n",
    "Broadcasting actually adds the matrix with the number."
   ]
  },
  {
   "cell_type": "markdown",
   "metadata": {},
   "source": [
    "#### Universal Functions\n",
    "\n",
    "We will often need to transform data by applying a function to every element of an array.\n",
    "\n",
    "Numpy has good support for these operations, called *universal functions* or ufuncs for short.\n",
    "\n",
    "The\n",
    "[numpy documentation](https://docs.scipy.org/doc/numpy/reference/ufuncs.html?highlight=ufunc#available-ufuncs)\n",
    "has a list of all available ufuncs.\n",
    "\n",
    ">**Note**\n",
    ">\n",
    ">You should think of operations between a single number and an array, as we\n",
    "just saw, as a ufunc.\n",
    "\n",
    "Below, we will create an array that contains 10 points between 0 and 25."
   ]
  },
  {
   "cell_type": "code",
   "execution_count": 117,
   "metadata": {
    "hide-output": false
   },
   "outputs": [
    {
     "name": "stdout",
     "output_type": "stream",
     "text": [
      "[ 0.5         3.22222222  5.94444444  8.66666667 11.38888889 14.11111111\n",
      " 16.83333333 19.55555556 22.27777778 25.        ]\n"
     ]
    }
   ],
   "source": [
    "# This is similar to range -- but spits out 10 evenly spaced points from 0.5 to 25.\n",
    "x = np.linspace(0.5, 25, 10)\n",
    "print(x)"
   ]
  },
  {
   "cell_type": "markdown",
   "metadata": {},
   "source": [
    "We will experiment with some ufuncs below:"
   ]
  },
  {
   "cell_type": "code",
   "execution_count": 116,
   "metadata": {
    "hide-output": false
   },
   "outputs": [
    {
     "data": {
      "text/plain": [
       "array([ 0.47942554, -0.08054223, -0.33229977,  0.68755122, -0.92364381,\n",
       "        0.99966057, -0.9024271 ,  0.64879484, -0.28272056, -0.13235175])"
      ]
     },
     "execution_count": 116,
     "metadata": {},
     "output_type": "execute_result"
    }
   ],
   "source": [
    "# Applies the sin function to each element of x\n",
    "np.sin(x)"
   ]
  },
  {
   "cell_type": "markdown",
   "metadata": {},
   "source": [
    "You can use the inspector or the docstrings with `np.<TAB>` to see other available functions, such as"
   ]
  },
  {
   "cell_type": "code",
   "execution_count": 122,
   "metadata": {
    "hide-output": false
   },
   "outputs": [
    {
     "data": {
      "text/plain": [
       "array([ 0,  3,  5,  8, 11, 14, 16, 19, 22, 25], dtype=uint8)"
      ]
     },
     "execution_count": 122,
     "metadata": {},
     "output_type": "execute_result"
    }
   ],
   "source": [
    "# Takes natural log of each element of x\n",
    "np.uint8(x)\n"
   ]
  },
  {
   "cell_type": "markdown",
   "metadata": {},
   "source": [
    "A benefit of using the numpy arrays is that numpy has succinct code for combining vectorized operations."
   ]
  },
  {
   "cell_type": "code",
   "execution_count": 123,
   "metadata": {
    "hide-output": false
   },
   "outputs": [
    {
     "data": {
      "text/plain": [
       "array([0.        , 1.38629436, 3.29583687])"
      ]
     },
     "execution_count": 123,
     "metadata": {},
     "output_type": "execute_result"
    }
   ],
   "source": [
    "# Calculate log(z) * z elementwise\n",
    "z = np.array([1,2,3])\n",
    "np.log(z) * z"
   ]
  },
  {
   "cell_type": "markdown",
   "metadata": {},
   "source": [
    "**Exercise 7**\n",
    "\n",
    "Recall from your courses that the equation for pricing a bond with coupon payment $ C $,\n",
    "face value $ M $, yield to maturity $ i $, and periods to maturity\n",
    "$ N $ is\n",
    "\n",
    "$$\n",
    "\\begin{align*}\n",
    "    P &= \\left(\\sum_{n=1}^N \\frac{C}{(i+1)^n}\\right) + \\frac{M}{(1+i)^N} \\\\\n",
    "      &= C \\left(\\frac{1 - (1+i)^{-N}}{i} \\right) + M(1+i)^{-N}\n",
    "\\end{align*}\n",
    "$$\n",
    "\n",
    "In the code cell below, we have defined variables for `i`, `M` and `C`.\n",
    "\n",
    "You have two tasks:\n",
    "\n",
    "1. Define a numpy array `N` that contains all maturities between 1 and 10, including endpoints (*hint:* look at the `np.arange` function).  \n",
    "1. Using the equation above, determine the bond prices of all maturity levels in your array.  "
   ]
  },
  {
   "cell_type": "code",
   "execution_count": 1,
   "metadata": {},
   "outputs": [
    {
     "ename": "NameError",
     "evalue": "name 'np' is not defined",
     "output_type": "error",
     "traceback": [
      "\u001b[1;31m---------------------------------------------------------------------------\u001b[0m",
      "\u001b[1;31mNameError\u001b[0m                                 Traceback (most recent call last)",
      "Input \u001b[1;32mIn [1]\u001b[0m, in \u001b[0;36m<cell line: 7>\u001b[1;34m()\u001b[0m\n\u001b[0;32m      3\u001b[0m C \u001b[38;5;241m=\u001b[39m \u001b[38;5;241m5\u001b[39m\n\u001b[0;32m      5\u001b[0m \u001b[38;5;66;03m# Define array here\u001b[39;00m\n\u001b[0;32m      6\u001b[0m \u001b[38;5;66;03m#raise NotImplementedError()\u001b[39;00m\n\u001b[1;32m----> 7\u001b[0m N \u001b[38;5;241m=\u001b[39m \u001b[43mnp\u001b[49m\u001b[38;5;241m.\u001b[39marange(\u001b[38;5;241m1\u001b[39m,\u001b[38;5;241m11\u001b[39m)\n\u001b[0;32m      9\u001b[0m \u001b[38;5;66;03m# price bonds here\u001b[39;00m\n\u001b[0;32m     11\u001b[0m \u001b[38;5;28mprint\u001b[39m(P)\n",
      "\u001b[1;31mNameError\u001b[0m: name 'np' is not defined"
     ]
    }
   ],
   "source": [
    "i = 0.03\n",
    "M = 100\n",
    "C = 5\n",
    "\n",
    "# Define array here\n",
    "#raise NotImplementedError()\n",
    "N = np.arange(1,11)\n",
    "\n",
    "# price bonds here\n",
    "\n",
    "print(P)"
   ]
  },
  {
   "cell_type": "code",
   "execution_count": null,
   "metadata": {},
   "outputs": [],
   "source": []
  },
  {
   "cell_type": "code",
   "execution_count": null,
   "metadata": {},
   "outputs": [],
   "source": []
  },
  {
   "cell_type": "code",
   "execution_count": null,
   "metadata": {},
   "outputs": [],
   "source": []
  },
  {
   "cell_type": "code",
   "execution_count": null,
   "metadata": {},
   "outputs": [],
   "source": []
  },
  {
   "cell_type": "markdown",
   "metadata": {},
   "source": [
    "# Practice Exam"
   ]
  },
  {
   "cell_type": "code",
   "execution_count": 8,
   "metadata": {},
   "outputs": [],
   "source": [
    "import scipy.optimize as opt\n",
    "import numpy as np\n",
    "import pandas as pd\n",
    "import matplotlib.pyplot as plt\n",
    "%matplotlib inline"
   ]
  },
  {
   "cell_type": "markdown",
   "metadata": {},
   "source": [
    "**Question 1 [12 point]**\n",
    "\n",
    "Compute the sum of the integers between 0 and 100 (including 100), i.e. {0, 1, 2, … , 98, 99, 100}. Enter the sum as your answer, rounded to a whole number (i.e. without decimals)."
   ]
  },
  {
   "cell_type": "code",
   "execution_count": 16,
   "metadata": {},
   "outputs": [
    {
     "data": {
      "text/plain": [
       "5050"
      ]
     },
     "execution_count": 16,
     "metadata": {},
     "output_type": "execute_result"
    }
   ],
   "source": [
    "#ANSWER: 5050\n",
    "\n",
    "#CODE RESULTING IN THE ANSWER\n",
    "values = np.arange(0,101,1)\n",
    "np.sum(values)\n",
    "\n",
    "#ALTERNATIVE CODE RESULTING IN THE ANSWER\n",
    "values = list(range(101))\n",
    "sum(values)"
   ]
  },
  {
   "cell_type": "markdown",
   "metadata": {},
   "source": [
    "**Question 2 [12 point]**\n",
    "\n",
    "Draw one random number from a standard normal distribution (with mean zero and standard deviation one). Just before you sample from this distribution, set the seed using the following code: \n",
    "`np.random.seed(123)`\n",
    "\n",
    "As your answer, give the code for a dictionary with `draw` as key and your randomly drawn number as value, rounded to two decimals. Please don’t add excess spaces because your answer may be considered false if you do."
   ]
  },
  {
   "cell_type": "code",
   "execution_count": 5,
   "metadata": {},
   "outputs": [
    {
     "data": {
      "text/plain": [
       "array([-1.0856306])"
      ]
     },
     "execution_count": 5,
     "metadata": {},
     "output_type": "execute_result"
    }
   ],
   "source": [
    "# CODE RESULTING IN THE ANSWER\n",
    "np.random.seed(123)\n",
    "np.random.normal(0,1,1)"
   ]
  },
  {
   "cell_type": "code",
   "execution_count": 40,
   "metadata": {},
   "outputs": [
    {
     "data": {
      "text/plain": [
       "{'draw': -1.09}"
      ]
     },
     "execution_count": 40,
     "metadata": {},
     "output_type": "execute_result"
    }
   ],
   "source": [
    "#ANSWER:\n",
    "{\"draw\": -1.09}"
   ]
  },
  {
   "cell_type": "markdown",
   "metadata": {},
   "source": [
    "**Question 3 [14 points]**\n",
    "\n",
    "Consider the code below. This code results in an error. Copy the code, make the smallest possible change that gets rid of the error, and enter the full correct code as your answer."
   ]
  },
  {
   "cell_type": "code",
   "execution_count": 6,
   "metadata": {},
   "outputs": [
    {
     "data": {
      "text/plain": [
       "array([101.94174757, 103.82693939, 105.65722271, 107.43419681,\n",
       "       109.15941437, 110.83438289, 112.46056591, 114.03938438,\n",
       "       115.57221784, 117.06040567])"
      ]
     },
     "execution_count": 6,
     "metadata": {},
     "output_type": "execute_result"
    }
   ],
   "source": [
    "#ERROR:\n",
    "#5((1-(1+0.03)**-np.arange(1, 11))/0.03) + 100*(1+0.03)**-np.arange(1, 11)"
   ]
  },
  {
   "cell_type": "code",
   "execution_count": 6,
   "metadata": {},
   "outputs": [
    {
     "data": {
      "text/plain": [
       "array([101.94174757, 103.82693939, 105.65722271, 107.43419681,\n",
       "       109.15941437, 110.83438289, 112.46056591, 114.03938438,\n",
       "       115.57221784, 117.06040567])"
      ]
     },
     "execution_count": 6,
     "metadata": {},
     "output_type": "execute_result"
    }
   ],
   "source": [
    "#ANSWER\n",
    "5*((1-(1+0.03)**-np.arange(1, 11))/0.03) + 100*(1+0.03)**-np.arange(1, 11)"
   ]
  },
  {
   "cell_type": "markdown",
   "metadata": {},
   "source": [
    "**Question 4 [14 points]**\n",
    "\n",
    "Give the minimum value of the function $f(x) = x^2 – 5x + 3$. Give your answer rounded to two decimals"
   ]
  },
  {
   "cell_type": "code",
   "execution_count": 37,
   "metadata": {},
   "outputs": [
    {
     "data": {
      "text/plain": [
       "     fun: -3.25\n",
       "    nfev: 9\n",
       "     nit: 5\n",
       " success: True\n",
       "       x: 2.5"
      ]
     },
     "execution_count": 37,
     "metadata": {},
     "output_type": "execute_result"
    }
   ],
   "source": [
    "#ANSWER: -3.25\n",
    "\n",
    "#CODE SHOWING THE ANSWER\n",
    "def parabola(x):\n",
    "    return x**2 - 5*x + 3\n",
    "opt.minimize_scalar(parabola,[0,5])"
   ]
  },
  {
   "cell_type": "code",
   "execution_count": 35,
   "metadata": {},
   "outputs": [
    {
     "data": {
      "image/png": "[encoded data removed]",
      "text/plain": [
       "<Figure size 432x288 with 1 Axes>"
      ]
     },
     "metadata": {
      "needs_background": "light"
     },
     "output_type": "display_data"
    }
   ],
   "source": [
    "# BACKGROUND CODE\n",
    "x = np.linspace(0, 5, 100)\n",
    "plt.plot(x, parabola(x))\n",
    "plt.show()"
   ]
  },
  {
   "cell_type": "markdown",
   "metadata": {},
   "source": [
    "**Question 5 [16 points]**\n",
    "\n",
    "Run the following code that constructs a pandas dataframe with information on cars in the United States in 1978. "
   ]
  },
  {
   "cell_type": "code",
   "execution_count": 9,
   "metadata": {},
   "outputs": [],
   "source": [
    "np.random.seed(123)\n",
    "list_1 = [\"Domestic\" for i in range(50)]+[\"Foreign\" for i in range(50)]\n",
    "list_2 = np.linspace(1,10,100) + np.random.normal(17,2,100)\n",
    "list_3 = np.round(1000*(np.linspace(10,3,100) + 5.2*np.random.random(100)),2)\n",
    "autos = pd.DataFrame({\"price\":list_3,\"mpg\":list_2,\"origin\":list_1})"
   ]
  },
  {
   "cell_type": "markdown",
   "metadata": {},
   "source": [
    "The dataframe contains three variables for 100 different car types, indexed from 0 to 99. The dataset reports the price (in dollars), miles per gallon (mpg), and origin (Domestic or Foreign) for each type.\n",
    "\n",
    "It is often said that American cars are not as fuel efficient as other cars. Create a bar plot that shows the average miles per gallon (mpg) for each origin. What does the bar plot look like?"
   ]
  },
  {
   "cell_type": "code",
   "execution_count": 12,
   "metadata": {},
   "outputs": [
    {
     "data": {
      "image/png": "[encoded data removed]",
      "text/plain": [
       "<Figure size 432x288 with 1 Axes>"
      ]
     },
     "metadata": {
      "needs_background": "light"
     },
     "output_type": "display_data"
    }
   ],
   "source": [
    "# CODE RESULTING IN THE ANSWER\n",
    "avg_mpg_by_origin = autos.groupby(\"origin\")[\"mpg\"].mean()\n",
    "avg_mpg_by_origin.plot(kind = \"bar\")\n",
    "plt.show()"
   ]
  },
  {
   "cell_type": "markdown",
   "metadata": {},
   "source": [
    "**Question 6 [16 points]**\n",
    "\n",
    "Copy and run the code below to create a DataFrame `sales` that contains information about housing sales in Ames, Iowa. \n",
    "\n",
    "`from sklearn.datasets import fetch_openml\n",
    "housing = fetch_openml(name=\"house_prices\", as_frame=True)\n",
    "sales = pd.DataFrame(housing.data, columns=housing.feature_names).set_index(\"Id\")`\n",
    "\n",
    "The dataset contains many variables, most of which provide information about the characteristics of each house (the unit of observation). You can find background information about these variables by running the following code:\n",
    "\n",
    "`print(housing['DESCR'])`\n",
    "\n",
    "One of these variables is the variable `PoolArea`. This variable gives the pool area (in square feet), which is zero in case the house has no pool.\n",
    "\n",
    "What is the mean pool area of the houses *with* pools? Round your answer to two decimals."
   ]
  },
  {
   "cell_type": "code",
   "execution_count": 29,
   "metadata": {},
   "outputs": [
    {
     "data": {
      "text/plain": [
       "575.4285714285714"
      ]
     },
     "execution_count": 29,
     "metadata": {},
     "output_type": "execute_result"
    }
   ],
   "source": [
    "#ANSWER: 575.43\n",
    "\n",
    "# CODE TO COPY\n",
    "from sklearn.datasets import fetch_openml\n",
    "housing = fetch_openml(name=\"house_prices\", as_frame=True)\n",
    "sales = pd.DataFrame(housing.data, columns=housing.feature_names).set_index(\"Id\")\n",
    "\n",
    "# CODE RESULTING IN THE ANSWER\n",
    "sales[sales[\"PoolArea\"]>0][\"PoolArea\"].mean()"
   ]
  },
  {
   "cell_type": "markdown",
   "metadata": {},
   "source": [
    "**Question 7 [18 points]**\n",
    "\n",
    "Create a list of 1000 random numbers between 0 and 1. Just before you do so, set the seed using the following code: \n",
    "np.random.seed(123). \n",
    "\n",
    "Then write a loop that adds the random numbers from the list one-by-one to each other, starting at the first element, adding the second, then the third, etc. If you continue to the very end, the sum is 499.37. However, you can stop earlier.\n",
    "\n",
    "For which `i` is `sum(x[0:i])>250` and `sum(x[0:i-1])<=250`?\n",
    "\n",
    "(Which element `i` (so the element that you would index with `i-1`) makes the sum to *exceed* 250?)"
   ]
  },
  {
   "cell_type": "code",
   "execution_count": 20,
   "metadata": {},
   "outputs": [
    {
     "name": "stdout",
     "output_type": "stream",
     "text": [
      "506\n",
      "250.19336029481292\n",
      "249.69685232243782\n"
     ]
    }
   ],
   "source": [
    "#ANSWER 506\n",
    "\n",
    "# CODE RESULTING IN THE ANSWER\n",
    "np.random.seed(123)\n",
    "x = np.random.rand(1000)\n",
    "total = 0\n",
    "i = 0\n",
    "while total<250:\n",
    "    total = total + x[i]\n",
    "    i = i+1\n",
    "print(i)\n",
    "# CODE TO CHECK THE ANSWER\n",
    "print(sum(x[0:i]))\n",
    "print(sum(x[0:i-1]))"
   ]
  },
  {
   "cell_type": "code",
   "execution_count": 19,
   "metadata": {},
   "outputs": [
    {
     "data": {
      "text/plain": [
       "0.6964691855978616"
      ]
     },
     "execution_count": 19,
     "metadata": {},
     "output_type": "execute_result"
    }
   ],
   "source": [
    "x[0]"
   ]
  },
  {
   "cell_type": "code",
   "execution_count": 21,
   "metadata": {},
   "outputs": [
    {
     "data": {
      "text/plain": [
       "506"
      ]
     },
     "execution_count": 21,
     "metadata": {},
     "output_type": "execute_result"
    }
   ],
   "source": [
    "#ALTERNATIVE CODE\n",
    "np.random.seed(123)\n",
    "x = np.random.rand(1000)\n",
    "total = 0\n",
    "for i in range(len(x)):\n",
    "    if total>250:\n",
    "        break\n",
    "    else:\n",
    "        total = total + x[i]\n",
    "i"
   ]
  },
  {
   "cell_type": "code",
   "execution_count": null,
   "metadata": {},
   "outputs": [],
   "source": []
  }
 ],
 "metadata": {
  "date": 1595397098.7581346,
  "download_nb": false,
  "filename": "basics.rst",
  "filename_with_path": "python_fundamentals/collections",
  "kernelspec": {
   "display_name": "Python 3",
   "language": "python",
   "name": "python3"
  },
  "language_info": {
   "codemirror_mode": {
    "name": "ipython",
    "version": 3
   },
   "file_extension": ".py",
   "mimetype": "text/x-python",
   "name": "python",
   "nbconvert_exporter": "python",
   "pygments_lexer": "ipython3",
   "version": "3.8.16 (default, Jan 10 2023, 15:23:34) \n[GCC 9.4.0]"
  },
  "title": "Basics",
  "vscode": {
   "interpreter": {
    "hash": "9ac03a0a6051494cc606d484d27d20fce22fb7b4d169f583271e11d5ba46a56e"
   }
  }
 },
 "nbformat": 4,
 "nbformat_minor": 4
}
