{
 "cells": [
  {
   "cell_type": "markdown",
   "metadata": {},
   "source": [
    "# Week 6 in class\n",
    "\n",
    "#### Learning goals\n",
    "- Introducing you to advanced data cleaning methods\n",
    "- Introducing you to saving DataFrames\n",
    "- Increasing your comfort with using `groupby`, `pivot_table`, and reshaping."
   ]
  },
  {
   "cell_type": "code",
   "execution_count": 1,
   "metadata": {},
   "outputs": [],
   "source": [
    "import numpy as np\n",
    "import pandas as pd\n",
    "import matplotlib.pyplot as plt\n",
    "%matplotlib inline"
   ]
  },
  {
   "cell_type": "markdown",
   "metadata": {},
   "source": [
    "## Cleaning Data\n",
    "\n",
    "For many data projects, a [significant proportion of\n",
    "time](https://www.forbes.com/sites/gilpress/2016/03/23/data-preparation-most-time-consuming-least-enjoyable-data-science-task-survey-says/#74d447456f63)\n",
    "is spent collecting and cleaning the data — not performing the analysis.\n",
    "\n",
    "This non-analysis work is often called “data cleaning”.\n",
    "\n",
    "pandas provides very powerful data cleaning tools, which we\n",
    "will demonstrate using the following dataset."
   ]
  },
  {
   "cell_type": "code",
   "execution_count": 3,
   "metadata": {
    "hide-output": false
   },
   "outputs": [
    {
     "data": {
      "text/html": [
       "<div>\n",
       "<style scoped>\n",
       "    .dataframe tbody tr th:only-of-type {\n",
       "        vertical-align: middle;\n",
       "    }\n",
       "\n",
       "    .dataframe tbody tr th {\n",
       "        vertical-align: top;\n",
       "    }\n",
       "\n",
       "    .dataframe thead th {\n",
       "        text-align: right;\n",
       "    }\n",
       "</style>\n",
       "<table border=\"1\" class=\"dataframe\">\n",
       "  <thead>\n",
       "    <tr style=\"text-align: right;\">\n",
       "      <th></th>\n",
       "      <th>numbers</th>\n",
       "      <th>nums</th>\n",
       "      <th>colors</th>\n",
       "    </tr>\n",
       "  </thead>\n",
       "  <tbody>\n",
       "    <tr>\n",
       "      <th>0</th>\n",
       "      <td>#23</td>\n",
       "      <td>23</td>\n",
       "      <td>green</td>\n",
       "    </tr>\n",
       "    <tr>\n",
       "      <th>1</th>\n",
       "      <td>#24</td>\n",
       "      <td>24</td>\n",
       "      <td>red</td>\n",
       "    </tr>\n",
       "    <tr>\n",
       "      <th>2</th>\n",
       "      <td>#18</td>\n",
       "      <td>18</td>\n",
       "      <td>yellow</td>\n",
       "    </tr>\n",
       "    <tr>\n",
       "      <th>3</th>\n",
       "      <td>#14</td>\n",
       "      <td>14</td>\n",
       "      <td>orange</td>\n",
       "    </tr>\n",
       "    <tr>\n",
       "      <th>4</th>\n",
       "      <td>#12</td>\n",
       "      <td>NaN</td>\n",
       "      <td>purple</td>\n",
       "    </tr>\n",
       "    <tr>\n",
       "      <th>5</th>\n",
       "      <td>#10</td>\n",
       "      <td>XYZ</td>\n",
       "      <td>blue</td>\n",
       "    </tr>\n",
       "    <tr>\n",
       "      <th>6</th>\n",
       "      <td>#35</td>\n",
       "      <td>35</td>\n",
       "      <td>pink</td>\n",
       "    </tr>\n",
       "  </tbody>\n",
       "</table>\n",
       "</div>"
      ],
      "text/plain": [
       "  numbers nums  colors\n",
       "0     #23   23   green\n",
       "1     #24   24     red\n",
       "2     #18   18  yellow\n",
       "3     #14   14  orange\n",
       "4     #12  NaN  purple\n",
       "5     #10  XYZ    blue\n",
       "6     #35   35    pink"
      ]
     },
     "execution_count": 3,
     "metadata": {},
     "output_type": "execute_result"
    }
   ],
   "source": [
    "df = pd.DataFrame({\"numbers\": [\"#23\", \"#24\", \"#18\", \"#14\", \"#12\", \"#10\", \"#35\"],\n",
    "                   \"nums\": [\"23\", \"24\", \"18\", \"14\", np.nan, \"XYZ\", \"35\"],\n",
    "                   \"colors\": [\"green\", \"red\", \"yellow\", \"orange\", \"purple\", \"blue\", \"pink\"]})\n",
    "df"
   ]
  },
  {
   "cell_type": "markdown",
   "metadata": {},
   "source": [
    "What would happen if we wanted to try and compute the mean of\n",
    "`numbers`?"
   ]
  },
  {
   "cell_type": "code",
   "execution_count": 48,
   "metadata": {
    "hide-output": false
   },
   "outputs": [],
   "source": [
    "#df[\"numbers\"].mean()\n"
   ]
  },
  {
   "cell_type": "markdown",
   "metadata": {},
   "source": [
    "It throws an error!\n",
    "\n",
    "Can you figure out why? Hint: As always, when looking at error messages, start at the very\n",
    "bottom.\n",
    "\n",
    "The final error says, `TypeError: Could not convert #23#24... to numeric`.\n",
    "\n",
    "---------\n",
    "\n",
    "**Exercise 1**\n",
    "\n",
    "Convert the string below into a number."
   ]
  },
  {
   "cell_type": "code",
   "execution_count": 2,
   "metadata": {},
   "outputs": [
    {
     "data": {
      "text/plain": [
       "dtype('int64')"
      ]
     },
     "execution_count": 2,
     "metadata": {},
     "output_type": "execute_result"
    }
   ],
   "source": [
    "c2n = \"#39\"\n",
    "# YOUR CODE HERE\n",
    "#raise NotImplementedErro\n",
    "c2n = pd.to_numeric(c2n.replace(\"#\", \"\"))\n",
    "c2n.dtype"
   ]
  },
  {
   "cell_type": "markdown",
   "metadata": {},
   "source": [
    "### String Methods\n",
    "\n",
    "One way to make this change to every element of a column would be to loop through all elements of the column and apply the desired string methods… One significantly faster (and easier) method is to apply a string method to an entire column of data.\n",
    "\n",
    "Most methods that are available to a Python string are also available to a pandas Series that has `dtype` object. We access them by doing `s.str.method_name` where `method_name` is the name of the method. When we apply the method to a Series `s`, it is applied to all rows in the Series in one shot!\n",
    "\n",
    "For example, we can check whether the colors contain blue, as below:"
   ]
  },
  {
   "cell_type": "code",
   "execution_count": 27,
   "metadata": {},
   "outputs": [
    {
     "data": {
      "text/plain": [
       "0    False\n",
       "1    False\n",
       "2    False\n",
       "3    False\n",
       "4    False\n",
       "5     True\n",
       "6    False\n",
       "Name: colors, dtype: bool"
      ]
     },
     "execution_count": 27,
     "metadata": {},
     "output_type": "execute_result"
    }
   ],
   "source": [
    "df[\"colors\"].str.contains(\"blue\")"
   ]
  },
  {
   "cell_type": "markdown",
   "metadata": {},
   "source": [
    "**Exercise 2**\n",
    "\n",
    "Make a new column called `numbers_str` that contains the elements of\n",
    "`numbers` but without `\"#\"`. Afterwards, show the data types in the DataFrame."
   ]
  },
  {
   "cell_type": "code",
   "execution_count": 36,
   "metadata": {},
   "outputs": [
    {
     "data": {
      "text/html": [
       "<div>\n",
       "<style scoped>\n",
       "    .dataframe tbody tr th:only-of-type {\n",
       "        vertical-align: middle;\n",
       "    }\n",
       "\n",
       "    .dataframe tbody tr th {\n",
       "        vertical-align: top;\n",
       "    }\n",
       "\n",
       "    .dataframe thead th {\n",
       "        text-align: right;\n",
       "    }\n",
       "</style>\n",
       "<table border=\"1\" class=\"dataframe\">\n",
       "  <thead>\n",
       "    <tr style=\"text-align: right;\">\n",
       "      <th></th>\n",
       "      <th>numbers</th>\n",
       "      <th>nums</th>\n",
       "      <th>colors</th>\n",
       "      <th>numbers_str</th>\n",
       "    </tr>\n",
       "  </thead>\n",
       "  <tbody>\n",
       "    <tr>\n",
       "      <th>0</th>\n",
       "      <td>#23</td>\n",
       "      <td>23</td>\n",
       "      <td>green</td>\n",
       "      <td>23</td>\n",
       "    </tr>\n",
       "    <tr>\n",
       "      <th>1</th>\n",
       "      <td>#24</td>\n",
       "      <td>24</td>\n",
       "      <td>red</td>\n",
       "      <td>24</td>\n",
       "    </tr>\n",
       "    <tr>\n",
       "      <th>2</th>\n",
       "      <td>#18</td>\n",
       "      <td>18</td>\n",
       "      <td>yellow</td>\n",
       "      <td>18</td>\n",
       "    </tr>\n",
       "    <tr>\n",
       "      <th>3</th>\n",
       "      <td>#14</td>\n",
       "      <td>14</td>\n",
       "      <td>orange</td>\n",
       "      <td>14</td>\n",
       "    </tr>\n",
       "    <tr>\n",
       "      <th>4</th>\n",
       "      <td>#12</td>\n",
       "      <td>NaN</td>\n",
       "      <td>purple</td>\n",
       "      <td>12</td>\n",
       "    </tr>\n",
       "    <tr>\n",
       "      <th>5</th>\n",
       "      <td>#10</td>\n",
       "      <td>XYZ</td>\n",
       "      <td>blue</td>\n",
       "      <td>10</td>\n",
       "    </tr>\n",
       "    <tr>\n",
       "      <th>6</th>\n",
       "      <td>#35</td>\n",
       "      <td>35</td>\n",
       "      <td>pink</td>\n",
       "      <td>35</td>\n",
       "    </tr>\n",
       "  </tbody>\n",
       "</table>\n",
       "</div>"
      ],
      "text/plain": [
       "  numbers nums  colors numbers_str\n",
       "0     #23   23   green          23\n",
       "1     #24   24     red          24\n",
       "2     #18   18  yellow          18\n",
       "3     #14   14  orange          14\n",
       "4     #12  NaN  purple          12\n",
       "5     #10  XYZ    blue          10\n",
       "6     #35   35    pink          35"
      ]
     },
     "execution_count": 36,
     "metadata": {},
     "output_type": "execute_result"
    }
   ],
   "source": [
    "# YOUR CODE HERE\n",
    "#raise NotImplementedError()\n",
    "df[\"numbers_str\"] = df[\"numbers\"].str.replace(\"#\", \"\")\n",
    "df"
   ]
  },
  {
   "cell_type": "markdown",
   "metadata": {},
   "source": [
    "### Type Conversions\n",
    "\n",
    "The `dtype` of the `numbers_str` column shows that pandas still treats it as a string even after we have removed the `\"#\"`.\n",
    "\n",
    "We need to convert this column to numbers. The best way to do this is using the `pd.to_numeric` function.\n",
    "\n",
    "This method attempts to convert whatever is stored in a Series into numeric values. For example, after the `\"#\"` removed, the numbers of column `\"numbers\"` are ready to be converted to actual numbers, as below."
   ]
  },
  {
   "cell_type": "code",
   "execution_count": 55,
   "metadata": {},
   "outputs": [
    {
     "data": {
      "text/plain": [
       "numbers            object\n",
       "nums               object\n",
       "colors             object\n",
       "numbers_str        object\n",
       "numbers_numeric     int64\n",
       "dtype: object"
      ]
     },
     "execution_count": 55,
     "metadata": {},
     "output_type": "execute_result"
    }
   ],
   "source": [
    "df[\"numbers_numeric\"] = pd.to_numeric(df[\"numbers_str\"])\n",
    "df.dtypes"
   ]
  },
  {
   "cell_type": "markdown",
   "metadata": {},
   "source": [
    "We can convert to other types well. Using the `astype` method, we can convert to any of the supported pandas `dtypes`. For example, we can convert our new variable from integers to floats, as below."
   ]
  },
  {
   "cell_type": "code",
   "execution_count": 56,
   "metadata": {},
   "outputs": [
    {
     "data": {
      "text/plain": [
       "numbers             object\n",
       "nums                object\n",
       "colors              object\n",
       "numbers_str         object\n",
       "numbers_numeric    float64\n",
       "dtype: object"
      ]
     },
     "execution_count": 56,
     "metadata": {},
     "output_type": "execute_result"
    }
   ],
   "source": [
    "df[\"numbers_numeric\"] = df[\"numbers_numeric\"].astype(float)\n",
    "df.dtypes"
   ]
  },
  {
   "cell_type": "markdown",
   "metadata": {},
   "source": [
    "**Exercise 3**\n",
    "\n",
    "Convert the column `\"nums\"` to a numeric type and save it to the DataFrame as `\"nums_tonumeric\"`.\n",
    "\n",
    "*Hint:* Notice that there is a missing value, and a value that is not a number. Look at the documentation for `pd.to_numeric` and think about how to overcome this.\n",
    "\n",
    "Why could your solution be a bad idea if used without knowing what your data looks like? \n",
    "\n",
    "*Hint:* Think about what happens when you apply it to the `\"numbers\"` column before replacing the `\"#\"`."
   ]
  },
  {
   "cell_type": "code",
   "execution_count": 23,
   "metadata": {},
   "outputs": [
    {
     "data": {
      "text/html": [
       "<div>\n",
       "<style scoped>\n",
       "    .dataframe tbody tr th:only-of-type {\n",
       "        vertical-align: middle;\n",
       "    }\n",
       "\n",
       "    .dataframe tbody tr th {\n",
       "        vertical-align: top;\n",
       "    }\n",
       "\n",
       "    .dataframe thead th {\n",
       "        text-align: right;\n",
       "    }\n",
       "</style>\n",
       "<table border=\"1\" class=\"dataframe\">\n",
       "  <thead>\n",
       "    <tr style=\"text-align: right;\">\n",
       "      <th></th>\n",
       "      <th>numbers</th>\n",
       "      <th>nums</th>\n",
       "      <th>colors</th>\n",
       "      <th>nums_tonumeric</th>\n",
       "    </tr>\n",
       "  </thead>\n",
       "  <tbody>\n",
       "    <tr>\n",
       "      <th>0</th>\n",
       "      <td>#23</td>\n",
       "      <td>23</td>\n",
       "      <td>green</td>\n",
       "      <td>23.0</td>\n",
       "    </tr>\n",
       "    <tr>\n",
       "      <th>1</th>\n",
       "      <td>#24</td>\n",
       "      <td>24</td>\n",
       "      <td>red</td>\n",
       "      <td>24.0</td>\n",
       "    </tr>\n",
       "    <tr>\n",
       "      <th>2</th>\n",
       "      <td>#18</td>\n",
       "      <td>18</td>\n",
       "      <td>yellow</td>\n",
       "      <td>18.0</td>\n",
       "    </tr>\n",
       "    <tr>\n",
       "      <th>3</th>\n",
       "      <td>#14</td>\n",
       "      <td>14</td>\n",
       "      <td>orange</td>\n",
       "      <td>14.0</td>\n",
       "    </tr>\n",
       "    <tr>\n",
       "      <th>4</th>\n",
       "      <td>#12</td>\n",
       "      <td>NaN</td>\n",
       "      <td>purple</td>\n",
       "      <td>NaN</td>\n",
       "    </tr>\n",
       "    <tr>\n",
       "      <th>5</th>\n",
       "      <td>#10</td>\n",
       "      <td>XYZ</td>\n",
       "      <td>blue</td>\n",
       "      <td>10.0</td>\n",
       "    </tr>\n",
       "    <tr>\n",
       "      <th>6</th>\n",
       "      <td>#35</td>\n",
       "      <td>35</td>\n",
       "      <td>pink</td>\n",
       "      <td>35.0</td>\n",
       "    </tr>\n",
       "  </tbody>\n",
       "</table>\n",
       "</div>"
      ],
      "text/plain": [
       "  numbers nums  colors  nums_tonumeric\n",
       "0     #23   23   green            23.0\n",
       "1     #24   24     red            24.0\n",
       "2     #18   18  yellow            18.0\n",
       "3     #14   14  orange            14.0\n",
       "4     #12  NaN  purple             NaN\n",
       "5     #10  XYZ    blue            10.0\n",
       "6     #35   35    pink            35.0"
      ]
     },
     "execution_count": 23,
     "metadata": {},
     "output_type": "execute_result"
    }
   ],
   "source": [
    "# YOUR CODE HERE\n",
    "#raise NotImplementedError()\n",
    "df[\"nums_tonumeric\"] = pd.to_numeric(df[\"nums\"].str.replace(\"XYZ\", \"10\"))\n",
    "#df[\"nums_tonumeric\"] = df[\"nums\"]\n",
    "df\n"
   ]
  },
  {
   "cell_type": "markdown",
   "metadata": {},
   "source": [
    "YOUR ANSWER HERE"
   ]
  },
  {
   "cell_type": "markdown",
   "metadata": {},
   "source": [
    "**Exercise 4**\n",
    "\n",
    "Convert the column `\"numbers_numeric\"` back into integers."
   ]
  },
  {
   "cell_type": "code",
   "execution_count": 65,
   "metadata": {},
   "outputs": [
    {
     "data": {
      "text/plain": [
       "0    23\n",
       "1    24\n",
       "2    18\n",
       "3    14\n",
       "4    12\n",
       "5    10\n",
       "6    35\n",
       "Name: numbers_numeric, dtype: int32"
      ]
     },
     "execution_count": 65,
     "metadata": {},
     "output_type": "execute_result"
    }
   ],
   "source": [
    "# YOUR CODE HERE\n",
    "#raise NotImplementedError()\n",
    "df[\"numbers_numeric\"].astype(int)"
   ]
  },
  {
   "cell_type": "markdown",
   "metadata": {},
   "source": [
    "### Missing data"
   ]
  },
  {
   "cell_type": "markdown",
   "metadata": {},
   "source": [
    "**Exercise 5**\n",
    "\n",
    "Looking at the other variables, you notice that the missing item should be 10. Replace the missing item with 10."
   ]
  },
  {
   "cell_type": "code",
   "execution_count": 66,
   "metadata": {},
   "outputs": [
    {
     "data": {
      "text/plain": [
       "0     23\n",
       "1     24\n",
       "2     18\n",
       "3     14\n",
       "4    NaN\n",
       "5     10\n",
       "6     35\n",
       "Name: nums, dtype: object"
      ]
     },
     "execution_count": 66,
     "metadata": {},
     "output_type": "execute_result"
    }
   ],
   "source": [
    "# YOUR CODE HERE\n",
    "#raise NotImplementedError()\n",
    "df[\"nums\"].str.replace(\"XYZ\", \"10\")"
   ]
  },
  {
   "cell_type": "markdown",
   "metadata": {},
   "source": [
    "## Case study\n",
    "\n",
    "We will now use data from an [article](https://www.nytimes.com/interactive/2015/02/17/upshot/what-do-people-actually-order-at-chipotle.html) written by The Upshot at the NYTimes.\n",
    "\n",
    "The csv-file `chipotle_raw.csv` has order information from almost 2,000 [Chipotle](https://en.wikipedia.org/wiki/Chipotle_Mexican_Grill) orders and includes information on what was ordered and how much it cost."
   ]
  },
  {
   "cell_type": "code",
   "execution_count": 2,
   "metadata": {},
   "outputs": [
    {
     "data": {
      "text/html": [
       "<div>\n",
       "<style scoped>\n",
       "    .dataframe tbody tr th:only-of-type {\n",
       "        vertical-align: middle;\n",
       "    }\n",
       "\n",
       "    .dataframe tbody tr th {\n",
       "        vertical-align: top;\n",
       "    }\n",
       "\n",
       "    .dataframe thead th {\n",
       "        text-align: right;\n",
       "    }\n",
       "</style>\n",
       "<table border=\"1\" class=\"dataframe\">\n",
       "  <thead>\n",
       "    <tr style=\"text-align: right;\">\n",
       "      <th></th>\n",
       "      <th>order_id</th>\n",
       "      <th>quantity</th>\n",
       "      <th>item_name</th>\n",
       "      <th>choice_description</th>\n",
       "      <th>item_price</th>\n",
       "    </tr>\n",
       "  </thead>\n",
       "  <tbody>\n",
       "    <tr>\n",
       "      <th>0</th>\n",
       "      <td>1</td>\n",
       "      <td>1</td>\n",
       "      <td>Chips and Fresh Tomato Salsa</td>\n",
       "      <td>NaN</td>\n",
       "      <td>$2.39</td>\n",
       "    </tr>\n",
       "    <tr>\n",
       "      <th>1</th>\n",
       "      <td>1</td>\n",
       "      <td>1</td>\n",
       "      <td>Izze</td>\n",
       "      <td>[Clementine]</td>\n",
       "      <td>$3.39</td>\n",
       "    </tr>\n",
       "    <tr>\n",
       "      <th>2</th>\n",
       "      <td>1</td>\n",
       "      <td>1</td>\n",
       "      <td>Nantucket Nectar</td>\n",
       "      <td>[Apple]</td>\n",
       "      <td>$3.39</td>\n",
       "    </tr>\n",
       "    <tr>\n",
       "      <th>3</th>\n",
       "      <td>1</td>\n",
       "      <td>1</td>\n",
       "      <td>Chips and Tomatillo-Green Chili Salsa</td>\n",
       "      <td>NaN</td>\n",
       "      <td>$2.39</td>\n",
       "    </tr>\n",
       "    <tr>\n",
       "      <th>4</th>\n",
       "      <td>2</td>\n",
       "      <td>2</td>\n",
       "      <td>Chicken Bowl</td>\n",
       "      <td>[Tomatillo-Red Chili Salsa (Hot), [Black Beans...</td>\n",
       "      <td>$16.98</td>\n",
       "    </tr>\n",
       "  </tbody>\n",
       "</table>\n",
       "</div>"
      ],
      "text/plain": [
       "   order_id  quantity                              item_name  \\\n",
       "0         1         1           Chips and Fresh Tomato Salsa   \n",
       "1         1         1                                   Izze   \n",
       "2         1         1                       Nantucket Nectar   \n",
       "3         1         1  Chips and Tomatillo-Green Chili Salsa   \n",
       "4         2         2                           Chicken Bowl   \n",
       "\n",
       "                                  choice_description item_price  \n",
       "0                                                NaN     $2.39   \n",
       "1                                       [Clementine]     $3.39   \n",
       "2                                            [Apple]     $3.39   \n",
       "3                                                NaN     $2.39   \n",
       "4  [Tomatillo-Red Chili Salsa (Hot), [Black Beans...    $16.98   "
      ]
     },
     "execution_count": 2,
     "metadata": {},
     "output_type": "execute_result"
    }
   ],
   "source": [
    "chipotle = pd.read_csv(\"chipotle_raw.csv\")\n",
    "chipotle.head()"
   ]
  },
  {
   "cell_type": "markdown",
   "metadata": {},
   "source": [
    "**Exercise 6**\n",
    "\n",
    "We'd like you to use this data and all your data cleaning skills to answer the following questions.\n",
    "\n",
    "- What is the average price of an item with chicken?  \n",
    "- What is the average price of an item with steak?  \n",
    "- Did chicken or steak produce more revenue (total)? \n",
    "\n",
    "*Hint:* You may need to use the string methods shown above, and don't forget to use the variable `quantity`."
   ]
  },
  {
   "cell_type": "code",
   "execution_count": 3,
   "metadata": {},
   "outputs": [
    {
     "data": {
      "text/html": [
       "<div>\n",
       "<style scoped>\n",
       "    .dataframe tbody tr th:only-of-type {\n",
       "        vertical-align: middle;\n",
       "    }\n",
       "\n",
       "    .dataframe tbody tr th {\n",
       "        vertical-align: top;\n",
       "    }\n",
       "\n",
       "    .dataframe thead th {\n",
       "        text-align: right;\n",
       "    }\n",
       "</style>\n",
       "<table border=\"1\" class=\"dataframe\">\n",
       "  <thead>\n",
       "    <tr style=\"text-align: right;\">\n",
       "      <th></th>\n",
       "      <th>order_id</th>\n",
       "      <th>quantity</th>\n",
       "      <th>item_name</th>\n",
       "      <th>choice_description</th>\n",
       "      <th>item_price</th>\n",
       "      <th>price_numeric</th>\n",
       "      <th>revenue</th>\n",
       "    </tr>\n",
       "  </thead>\n",
       "  <tbody>\n",
       "    <tr>\n",
       "      <th>0</th>\n",
       "      <td>1</td>\n",
       "      <td>1</td>\n",
       "      <td>Chips and Fresh Tomato Salsa</td>\n",
       "      <td>NaN</td>\n",
       "      <td>$2.39</td>\n",
       "      <td>2.39</td>\n",
       "      <td>2.39</td>\n",
       "    </tr>\n",
       "    <tr>\n",
       "      <th>1</th>\n",
       "      <td>1</td>\n",
       "      <td>1</td>\n",
       "      <td>Izze</td>\n",
       "      <td>[Clementine]</td>\n",
       "      <td>$3.39</td>\n",
       "      <td>3.39</td>\n",
       "      <td>3.39</td>\n",
       "    </tr>\n",
       "    <tr>\n",
       "      <th>2</th>\n",
       "      <td>1</td>\n",
       "      <td>1</td>\n",
       "      <td>Nantucket Nectar</td>\n",
       "      <td>[Apple]</td>\n",
       "      <td>$3.39</td>\n",
       "      <td>3.39</td>\n",
       "      <td>3.39</td>\n",
       "    </tr>\n",
       "    <tr>\n",
       "      <th>3</th>\n",
       "      <td>1</td>\n",
       "      <td>1</td>\n",
       "      <td>Chips and Tomatillo-Green Chili Salsa</td>\n",
       "      <td>NaN</td>\n",
       "      <td>$2.39</td>\n",
       "      <td>2.39</td>\n",
       "      <td>2.39</td>\n",
       "    </tr>\n",
       "    <tr>\n",
       "      <th>4</th>\n",
       "      <td>2</td>\n",
       "      <td>2</td>\n",
       "      <td>Chicken Bowl</td>\n",
       "      <td>[Tomatillo-Red Chili Salsa (Hot), [Black Beans...</td>\n",
       "      <td>$16.98</td>\n",
       "      <td>16.98</td>\n",
       "      <td>33.96</td>\n",
       "    </tr>\n",
       "  </tbody>\n",
       "</table>\n",
       "</div>"
      ],
      "text/plain": [
       "   order_id  quantity                              item_name  \\\n",
       "0         1         1           Chips and Fresh Tomato Salsa   \n",
       "1         1         1                                   Izze   \n",
       "2         1         1                       Nantucket Nectar   \n",
       "3         1         1  Chips and Tomatillo-Green Chili Salsa   \n",
       "4         2         2                           Chicken Bowl   \n",
       "\n",
       "                                  choice_description item_price  \\\n",
       "0                                                NaN     $2.39    \n",
       "1                                       [Clementine]     $3.39    \n",
       "2                                            [Apple]     $3.39    \n",
       "3                                                NaN     $2.39    \n",
       "4  [Tomatillo-Red Chili Salsa (Hot), [Black Beans...    $16.98    \n",
       "\n",
       "   price_numeric  revenue  \n",
       "0           2.39     2.39  \n",
       "1           3.39     3.39  \n",
       "2           3.39     3.39  \n",
       "3           2.39     2.39  \n",
       "4          16.98    33.96  "
      ]
     },
     "execution_count": 3,
     "metadata": {},
     "output_type": "execute_result"
    }
   ],
   "source": [
    "# YOUR CODE HERE\n",
    "#raise NotImplementedError()\n",
    "chipotle[\"price_numeric\"] = pd.to_numeric(chipotle[\"item_price\"].str.replace(\"$\", \"\", regex = True))\n",
    "chipotle[\"revenue\"] = chipotle[\"quantity\"]*chipotle[\"price_numeric\"]\n",
    "chipotle.head()\n",
    "\n"
   ]
  },
  {
   "cell_type": "code",
   "execution_count": 9,
   "metadata": {},
   "outputs": [
    {
     "name": "stdout",
     "output_type": "stream",
     "text": [
      "Chicken avg. price and revenue\n",
      "10.124990415335414\n",
      "17779.15\n"
     ]
    }
   ],
   "source": [
    "\n",
    "\n",
    "chicken = chipotle[(chipotle[\"choice_description\"].str.contains(\"Chicken\")) | chipotle[\"item_name\"].str.contains(\"Chicken\")]\n",
    "print(\"Chicken avg. price and revenue\")\n",
    "print(chicken[\"price_numeric\"].mean())\n",
    "print(chicken[\"revenue\"].sum())"
   ]
  },
  {
   "cell_type": "code",
   "execution_count": 5,
   "metadata": {},
   "outputs": [
    {
     "name": "stdout",
     "output_type": "stream",
     "text": [
      "Steak avg. price and revenue\n",
      "10.501218130311576\n",
      "8102.22\n"
     ]
    }
   ],
   "source": [
    "cow = chipotle[(chipotle[\"choice_description\"].str.contains(\"Steak\")) | chipotle[\"item_name\"].str.contains(\"Steak\")]\n",
    "print(\"Steak avg. price and revenue\")\n",
    "print(cow[\"price_numeric\"].mean())\n",
    "print(cow[\"revenue\"].sum())\n"
   ]
  },
  {
   "cell_type": "code",
   "execution_count": 7,
   "metadata": {},
   "outputs": [
    {
     "data": {
      "text/html": [
       "<div>\n",
       "<style scoped>\n",
       "    .dataframe tbody tr th:only-of-type {\n",
       "        vertical-align: middle;\n",
       "    }\n",
       "\n",
       "    .dataframe tbody tr th {\n",
       "        vertical-align: top;\n",
       "    }\n",
       "\n",
       "    .dataframe thead th {\n",
       "        text-align: right;\n",
       "    }\n",
       "</style>\n",
       "<table border=\"1\" class=\"dataframe\">\n",
       "  <thead>\n",
       "    <tr style=\"text-align: right;\">\n",
       "      <th></th>\n",
       "      <th>order_id</th>\n",
       "      <th>quantity</th>\n",
       "      <th>item_name</th>\n",
       "      <th>choice_description</th>\n",
       "      <th>item_price</th>\n",
       "      <th>price_numeric</th>\n",
       "      <th>revenue</th>\n",
       "      <th>CK</th>\n",
       "      <th>chicken</th>\n",
       "    </tr>\n",
       "  </thead>\n",
       "  <tbody>\n",
       "    <tr>\n",
       "      <th>0</th>\n",
       "      <td>1</td>\n",
       "      <td>1</td>\n",
       "      <td>Chips and Fresh Tomato Salsa</td>\n",
       "      <td>NaN</td>\n",
       "      <td>$2.39</td>\n",
       "      <td>2.39</td>\n",
       "      <td>2.39</td>\n",
       "      <td>NaN</td>\n",
       "      <td>False</td>\n",
       "    </tr>\n",
       "    <tr>\n",
       "      <th>1</th>\n",
       "      <td>1</td>\n",
       "      <td>1</td>\n",
       "      <td>Izze</td>\n",
       "      <td>[Clementine]</td>\n",
       "      <td>$3.39</td>\n",
       "      <td>3.39</td>\n",
       "      <td>3.39</td>\n",
       "      <td>False</td>\n",
       "      <td>False</td>\n",
       "    </tr>\n",
       "    <tr>\n",
       "      <th>2</th>\n",
       "      <td>1</td>\n",
       "      <td>1</td>\n",
       "      <td>Nantucket Nectar</td>\n",
       "      <td>[Apple]</td>\n",
       "      <td>$3.39</td>\n",
       "      <td>3.39</td>\n",
       "      <td>3.39</td>\n",
       "      <td>False</td>\n",
       "      <td>False</td>\n",
       "    </tr>\n",
       "    <tr>\n",
       "      <th>3</th>\n",
       "      <td>1</td>\n",
       "      <td>1</td>\n",
       "      <td>Chips and Tomatillo-Green Chili Salsa</td>\n",
       "      <td>NaN</td>\n",
       "      <td>$2.39</td>\n",
       "      <td>2.39</td>\n",
       "      <td>2.39</td>\n",
       "      <td>NaN</td>\n",
       "      <td>False</td>\n",
       "    </tr>\n",
       "    <tr>\n",
       "      <th>4</th>\n",
       "      <td>2</td>\n",
       "      <td>2</td>\n",
       "      <td>Chicken Bowl</td>\n",
       "      <td>[Tomatillo-Red Chili Salsa (Hot), [Black Beans...</td>\n",
       "      <td>$16.98</td>\n",
       "      <td>16.98</td>\n",
       "      <td>33.96</td>\n",
       "      <td>False</td>\n",
       "      <td>True</td>\n",
       "    </tr>\n",
       "  </tbody>\n",
       "</table>\n",
       "</div>"
      ],
      "text/plain": [
       "   order_id  quantity                              item_name  \\\n",
       "0         1         1           Chips and Fresh Tomato Salsa   \n",
       "1         1         1                                   Izze   \n",
       "2         1         1                       Nantucket Nectar   \n",
       "3         1         1  Chips and Tomatillo-Green Chili Salsa   \n",
       "4         2         2                           Chicken Bowl   \n",
       "\n",
       "                                  choice_description item_price  \\\n",
       "0                                                NaN     $2.39    \n",
       "1                                       [Clementine]     $3.39    \n",
       "2                                            [Apple]     $3.39    \n",
       "3                                                NaN     $2.39    \n",
       "4  [Tomatillo-Red Chili Salsa (Hot), [Black Beans...    $16.98    \n",
       "\n",
       "   price_numeric  revenue     CK  chicken  \n",
       "0           2.39     2.39    NaN    False  \n",
       "1           3.39     3.39  False    False  \n",
       "2           3.39     3.39  False    False  \n",
       "3           2.39     2.39    NaN    False  \n",
       "4          16.98    33.96  False     True  "
      ]
     },
     "execution_count": 7,
     "metadata": {},
     "output_type": "execute_result"
    }
   ],
   "source": [
    "chipotle.head()"
   ]
  },
  {
   "cell_type": "code",
   "execution_count": 6,
   "metadata": {},
   "outputs": [
    {
     "name": "stdout",
     "output_type": "stream",
     "text": [
      "17779.15$ is the total revenue of chicken\n",
      "11.360479233226787\n"
     ]
    }
   ],
   "source": [
    "chipotle[\"CK\"] = chipotle[\"choice_description\"].str.contains(\"Chicken\")\n",
    "chipotle[\"chicken\"] = chipotle[\"item_name\"].str.contains(\"Chicken\")\n",
    "total = 0\n",
    "for i in range(len(chipotle)):\n",
    "    if chipotle[\"chicken\"].loc[i] == True:\n",
    "        total  = total +  chipotle[\"revenue\"][i]\n",
    "    if chipotle[\"CK\"].loc[i] == True:\n",
    "        total  = total +  chipotle[\"revenue\"][i]  #.loc[i] is optional after chipotle[\"revenue\"]\n",
    "\n",
    "print(f\"{round(total, 3)}$ is the total revenue of chicken\")\n",
    "print(total/len(chicken))"
   ]
  },
  {
   "cell_type": "markdown",
   "metadata": {},
   "source": [
    "## Writing DataFrames"
   ]
  },
  {
   "cell_type": "markdown",
   "metadata": {},
   "source": [
    "Let’s now talk about saving a DataFrame to a file.\n",
    "\n",
    "As a general rule of thumb, if we have a DataFrame `df` and we would like to save to save it as a file of type `FOO`, then we would call the method named `df.to_FOO(...)`.\n",
    "\n",
    "We will show you how this can be done and try to highlight some issues. But, we will not cover all possible options and features — we feel it is best to learn these as you need them by consulting the appropriate documentation.\n",
    "\n",
    "Let’s show `df.to_csv` as an example.\n",
    "\n",
    "Without any additional arguments, the `df.to_csv` function will return a string containing the csv form of the DataFrame:"
   ]
  },
  {
   "cell_type": "code",
   "execution_count": 45,
   "metadata": {},
   "outputs": [
    {
     "name": "stdout",
     "output_type": "stream",
     "text": [
      ",order_id,quantity,item_name,choice_description,item_price,price_numeric,revenue,CK,chicken\n",
      "0,1,1,Chips and Fresh Tomato Salsa,,$2.39 ,2.39,2.39,,False\n",
      "1,1,1,Izze,[Clementine],$3.39 ,3.39,3.39,False,False\n",
      "2,1,1,Nantucket Nectar,[Apple],$3.39 ,3.39,3.39,False,False\n",
      "3,1,1,Chips and Tomatillo-Green Chili Salsa,,$2.39 ,2.39,2.39,,False\n",
      "4,2,2,Chicken Bowl,\"[Tomatillo-Red Chili Salsa (Hot), [Black Beans, Rice, Cheese, Sour Cream]]\",$16.98 ,16.98,33.96,False,True\n",
      "\n"
     ]
    }
   ],
   "source": [
    "print(chipotle.head().to_csv())"
   ]
  },
  {
   "cell_type": "markdown",
   "metadata": {},
   "source": [
    "If we do pass an argument, the first argument will be used as the file name. By default, it ends up in the same folder as your notebook (but you can also specify another path)."
   ]
  },
  {
   "cell_type": "code",
   "execution_count": 46,
   "metadata": {},
   "outputs": [],
   "source": [
    "chipotle.to_csv(\"chipotle.csv\")"
   ]
  },
  {
   "cell_type": "markdown",
   "metadata": {},
   "source": [
    "You can see above and in the file that the csv-form contains the index, which will appear as a variable once you read the csv-file again in pandas. You can prevent this with `index = False`, as below."
   ]
  },
  {
   "cell_type": "code",
   "execution_count": 47,
   "metadata": {},
   "outputs": [],
   "source": [
    "chipotle.to_csv(\"chipotle.csv\", index = False)"
   ]
  },
  {
   "cell_type": "markdown",
   "metadata": {},
   "source": [
    "**Exercise 7**\n",
    "\n",
    "Analogous to above, export the `chipotle` DataFrame as an excel-file `chipotle.xlsx`."
   ]
  },
  {
   "cell_type": "code",
   "execution_count": 51,
   "metadata": {},
   "outputs": [
    {
     "name": "stdout",
     "output_type": "stream",
     "text": [
      "None\n"
     ]
    }
   ],
   "source": [
    "# YOUR CODE HERE\n",
    "#raise NotImplementedError()\n",
    "chipotle.head().to_excel(\"chipotle.xlsx\", index = False)"
   ]
  },
  {
   "cell_type": "markdown",
   "metadata": {},
   "source": [
    "## Combining groupby, pivot tables, and reshaping.\n",
    "\n",
    "Remember the nlsw88 data on a sample of women from this week's homework."
   ]
  },
  {
   "cell_type": "code",
   "execution_count": 61,
   "metadata": {},
   "outputs": [
    {
     "data": {
      "text/plain": [
       "idcode             int64\n",
       "age                int64\n",
       "race              object\n",
       "married           object\n",
       "never_married      int64\n",
       "grade            float64\n",
       "collgrad          object\n",
       "south              int64\n",
       "smsa              object\n",
       "c_city             int64\n",
       "industry          object\n",
       "occupation        object\n",
       "union             object\n",
       "wage             float64\n",
       "hours            float64\n",
       "ttl_exp          float64\n",
       "tenure           float64\n",
       "dtype: object"
      ]
     },
     "execution_count": 61,
     "metadata": {},
     "output_type": "execute_result"
    }
   ],
   "source": [
    "women = pd.read_csv(\"nlsw88.csv\")\n",
    "women.head()\n",
    "women.dtypes"
   ]
  },
  {
   "cell_type": "markdown",
   "metadata": {},
   "source": [
    "### Pivot tables\n",
    "\n",
    "**Exercise 8**\n",
    "\n",
    "In the homework we used `groupby` to create a bar plot showing average wages of women of different race, see the code below. Now use `pivot_table` instead of `groupby` to create the same bar plot."
   ]
  },
  {
   "cell_type": "code",
   "execution_count": 74,
   "metadata": {},
   "outputs": [
    {
     "data": {
      "text/html": [
       "<div>\n",
       "<style scoped>\n",
       "    .dataframe tbody tr th:only-of-type {\n",
       "        vertical-align: middle;\n",
       "    }\n",
       "\n",
       "    .dataframe tbody tr th {\n",
       "        vertical-align: top;\n",
       "    }\n",
       "\n",
       "    .dataframe thead th {\n",
       "        text-align: right;\n",
       "    }\n",
       "</style>\n",
       "<table border=\"1\" class=\"dataframe\">\n",
       "  <thead>\n",
       "    <tr style=\"text-align: right;\">\n",
       "      <th></th>\n",
       "      <th>wage</th>\n",
       "    </tr>\n",
       "    <tr>\n",
       "      <th>race</th>\n",
       "      <th></th>\n",
       "    </tr>\n",
       "  </thead>\n",
       "  <tbody>\n",
       "    <tr>\n",
       "      <th>black</th>\n",
       "      <td>6.844558</td>\n",
       "    </tr>\n",
       "    <tr>\n",
       "      <th>other</th>\n",
       "      <td>8.550781</td>\n",
       "    </tr>\n",
       "    <tr>\n",
       "      <th>white</th>\n",
       "      <td>8.082999</td>\n",
       "    </tr>\n",
       "  </tbody>\n",
       "</table>\n",
       "</div>"
      ],
      "text/plain": [
       "           wage\n",
       "race           \n",
       "black  6.844558\n",
       "other  8.550781\n",
       "white  8.082999"
      ]
     },
     "execution_count": 74,
     "metadata": {},
     "output_type": "execute_result"
    },
    {
     "data": {
      "image/png": "[encoded data removed]",
      "text/plain": [
       "<Figure size 432x288 with 1 Axes>"
      ]
     },
     "metadata": {
      "needs_background": "light"
     },
     "output_type": "display_data"
    }
   ],
   "source": [
    "women.groupby(\"race\")[\"wage\"].mean().plot(kind=\"bar\")\n",
    "# YOUR CODE HERE\n",
    "#raise NotImplementedError()\n",
    "women.pivot_table(values = \"wage\", index = \"race\").plot(kind = \"bar\")"
   ]
  },
  {
   "cell_type": "markdown",
   "metadata": {},
   "source": [
    "**Exercise 9**\n",
    "\n",
    "Use `T` to create a table with each race in a separate column, and rows with average wages, working hours, and education levels (grades)"
   ]
  },
  {
   "cell_type": "code",
   "execution_count": 81,
   "metadata": {},
   "outputs": [
    {
     "data": {
      "text/html": [
       "<div>\n",
       "<style scoped>\n",
       "    .dataframe tbody tr th:only-of-type {\n",
       "        vertical-align: middle;\n",
       "    }\n",
       "\n",
       "    .dataframe tbody tr th {\n",
       "        vertical-align: top;\n",
       "    }\n",
       "\n",
       "    .dataframe thead th {\n",
       "        text-align: right;\n",
       "    }\n",
       "</style>\n",
       "<table border=\"1\" class=\"dataframe\">\n",
       "  <thead>\n",
       "    <tr style=\"text-align: right;\">\n",
       "      <th>race</th>\n",
       "      <th>black</th>\n",
       "      <th>other</th>\n",
       "      <th>white</th>\n",
       "    </tr>\n",
       "  </thead>\n",
       "  <tbody>\n",
       "    <tr>\n",
       "      <th>grade</th>\n",
       "      <td>12.457045</td>\n",
       "      <td>13.269231</td>\n",
       "      <td>13.324572</td>\n",
       "    </tr>\n",
       "    <tr>\n",
       "      <th>hours</th>\n",
       "      <td>38.120482</td>\n",
       "      <td>36.807692</td>\n",
       "      <td>36.903976</td>\n",
       "    </tr>\n",
       "    <tr>\n",
       "      <th>wage</th>\n",
       "      <td>6.844558</td>\n",
       "      <td>8.550781</td>\n",
       "      <td>8.082999</td>\n",
       "    </tr>\n",
       "  </tbody>\n",
       "</table>\n",
       "</div>"
      ],
      "text/plain": [
       "race       black      other      white\n",
       "grade  12.457045  13.269231  13.324572\n",
       "hours  38.120482  36.807692  36.903976\n",
       "wage    6.844558   8.550781   8.082999"
      ]
     },
     "execution_count": 81,
     "metadata": {},
     "output_type": "execute_result"
    }
   ],
   "source": [
    "# YOUR CODE HERE\n",
    "#raise NotImplementedError()\n",
    "yes = women.pivot_table(values = [\"wage\", \"hours\", \"grade\"], index = \"race\")\n",
    "yes.T"
   ]
  },
  {
   "cell_type": "markdown",
   "metadata": {},
   "source": [
    "**Exercise 10**\n",
    "\n",
    "The tabel shows that black women earn lower wages and have a lower education level than white women on average. Can the lower education level  explain why black women earn lower wages? \n",
    "\n",
    "Use `pivot_table` to create a two-way table with `race` in the columns, `collgrad` in the rows, and average wages as values."
   ]
  },
  {
   "cell_type": "code",
   "execution_count": 106,
   "metadata": {},
   "outputs": [
    {
     "data": {
      "text/html": [
       "<div>\n",
       "<style scoped>\n",
       "    .dataframe tbody tr th:only-of-type {\n",
       "        vertical-align: middle;\n",
       "    }\n",
       "\n",
       "    .dataframe tbody tr th {\n",
       "        vertical-align: top;\n",
       "    }\n",
       "\n",
       "    .dataframe thead th {\n",
       "        text-align: right;\n",
       "    }\n",
       "</style>\n",
       "<table border=\"1\" class=\"dataframe\">\n",
       "  <thead>\n",
       "    <tr style=\"text-align: right;\">\n",
       "      <th>race</th>\n",
       "      <th>black</th>\n",
       "      <th>other</th>\n",
       "      <th>white</th>\n",
       "    </tr>\n",
       "    <tr>\n",
       "      <th>collgrad</th>\n",
       "      <th></th>\n",
       "      <th></th>\n",
       "      <th></th>\n",
       "    </tr>\n",
       "  </thead>\n",
       "  <tbody>\n",
       "    <tr>\n",
       "      <th>college grad</th>\n",
       "      <td>11.358608</td>\n",
       "      <td>11.596778</td>\n",
       "      <td>10.298948</td>\n",
       "    </tr>\n",
       "    <tr>\n",
       "      <th>not college grad</th>\n",
       "      <td>5.875918</td>\n",
       "      <td>6.938195</td>\n",
       "      <td>7.318251</td>\n",
       "    </tr>\n",
       "  </tbody>\n",
       "</table>\n",
       "</div>"
      ],
      "text/plain": [
       "race                  black      other      white\n",
       "collgrad                                         \n",
       "college grad      11.358608  11.596778  10.298948\n",
       "not college grad   5.875918   6.938195   7.318251"
      ]
     },
     "execution_count": 106,
     "metadata": {},
     "output_type": "execute_result"
    }
   ],
   "source": [
    "ex10 = women.pivot_table(values=\"wage\", index=\"collgrad\", columns=\"race\")\n",
    "ex10"
   ]
  },
  {
   "cell_type": "markdown",
   "metadata": {},
   "source": [
    "We see that the evidence is mixed. Black women with a college degree earn more than white women with a college degree, but black women without a college degree earn less than white women without a college degree. \n",
    "\n",
    "### Groupby objects\n",
    "\n",
    "You conclude that it may be useful to condition on both race and education level. One way to do so is to use a groupby object, like below:"
   ]
  },
  {
   "cell_type": "code",
   "execution_count": 84,
   "metadata": {},
   "outputs": [
    {
     "name": "stdout",
     "output_type": "stream",
     "text": [
      "<pandas.core.groupby.generic.DataFrameGroupBy object at 0x0000015F6F67CFD0>\n"
     ]
    }
   ],
   "source": [
    "gbCollegeRace = women.groupby([\"collgrad\", \"race\"])\n",
    "type(gbCollegeRace)"
   ]
  },
  {
   "cell_type": "markdown",
   "metadata": {},
   "source": [
    "You can select those observations that satisfy the group characteristics that you are interested using `get_group`. For instance, the code below shows the first five lines of the DataFrame of all black women without a college degree."
   ]
  },
  {
   "cell_type": "code",
   "execution_count": 102,
   "metadata": {},
   "outputs": [
    {
     "data": {
      "text/html": [
       "<div>\n",
       "<style scoped>\n",
       "    .dataframe tbody tr th:only-of-type {\n",
       "        vertical-align: middle;\n",
       "    }\n",
       "\n",
       "    .dataframe tbody tr th {\n",
       "        vertical-align: top;\n",
       "    }\n",
       "\n",
       "    .dataframe thead th {\n",
       "        text-align: right;\n",
       "    }\n",
       "</style>\n",
       "<table border=\"1\" class=\"dataframe\">\n",
       "  <thead>\n",
       "    <tr style=\"text-align: right;\">\n",
       "      <th></th>\n",
       "      <th>idcode</th>\n",
       "      <th>age</th>\n",
       "      <th>race</th>\n",
       "      <th>married</th>\n",
       "      <th>never_married</th>\n",
       "      <th>grade</th>\n",
       "      <th>collgrad</th>\n",
       "      <th>south</th>\n",
       "      <th>smsa</th>\n",
       "      <th>c_city</th>\n",
       "      <th>industry</th>\n",
       "      <th>occupation</th>\n",
       "      <th>union</th>\n",
       "      <th>wage</th>\n",
       "      <th>hours</th>\n",
       "      <th>ttl_exp</th>\n",
       "      <th>tenure</th>\n",
       "    </tr>\n",
       "  </thead>\n",
       "  <tbody>\n",
       "    <tr>\n",
       "      <th>0</th>\n",
       "      <td>1</td>\n",
       "      <td>37</td>\n",
       "      <td>black</td>\n",
       "      <td>single</td>\n",
       "      <td>0</td>\n",
       "      <td>12.0</td>\n",
       "      <td>not college grad</td>\n",
       "      <td>0</td>\n",
       "      <td>SMSA</td>\n",
       "      <td>0</td>\n",
       "      <td>Transport/Comm/Utility</td>\n",
       "      <td>Operatives</td>\n",
       "      <td>union</td>\n",
       "      <td>11.739125</td>\n",
       "      <td>48.0</td>\n",
       "      <td>10.333334</td>\n",
       "      <td>5.333334</td>\n",
       "    </tr>\n",
       "    <tr>\n",
       "      <th>1</th>\n",
       "      <td>2</td>\n",
       "      <td>37</td>\n",
       "      <td>black</td>\n",
       "      <td>single</td>\n",
       "      <td>0</td>\n",
       "      <td>12.0</td>\n",
       "      <td>not college grad</td>\n",
       "      <td>0</td>\n",
       "      <td>SMSA</td>\n",
       "      <td>1</td>\n",
       "      <td>Manufacturing</td>\n",
       "      <td>Craftsmen</td>\n",
       "      <td>union</td>\n",
       "      <td>6.400963</td>\n",
       "      <td>40.0</td>\n",
       "      <td>13.621795</td>\n",
       "      <td>5.250000</td>\n",
       "    </tr>\n",
       "    <tr>\n",
       "      <th>2</th>\n",
       "      <td>3</td>\n",
       "      <td>42</td>\n",
       "      <td>black</td>\n",
       "      <td>single</td>\n",
       "      <td>1</td>\n",
       "      <td>12.0</td>\n",
       "      <td>not college grad</td>\n",
       "      <td>0</td>\n",
       "      <td>SMSA</td>\n",
       "      <td>1</td>\n",
       "      <td>Manufacturing</td>\n",
       "      <td>Sales</td>\n",
       "      <td>NaN</td>\n",
       "      <td>5.016723</td>\n",
       "      <td>40.0</td>\n",
       "      <td>17.730770</td>\n",
       "      <td>1.250000</td>\n",
       "    </tr>\n",
       "    <tr>\n",
       "      <th>39</th>\n",
       "      <td>75</td>\n",
       "      <td>39</td>\n",
       "      <td>black</td>\n",
       "      <td>single</td>\n",
       "      <td>0</td>\n",
       "      <td>11.0</td>\n",
       "      <td>not college grad</td>\n",
       "      <td>0</td>\n",
       "      <td>nonSMSA</td>\n",
       "      <td>0</td>\n",
       "      <td>Manufacturing</td>\n",
       "      <td>Operatives</td>\n",
       "      <td>union</td>\n",
       "      <td>12.500001</td>\n",
       "      <td>40.0</td>\n",
       "      <td>14.499999</td>\n",
       "      <td>9.333333</td>\n",
       "    </tr>\n",
       "    <tr>\n",
       "      <th>47</th>\n",
       "      <td>106</td>\n",
       "      <td>38</td>\n",
       "      <td>black</td>\n",
       "      <td>single</td>\n",
       "      <td>0</td>\n",
       "      <td>12.0</td>\n",
       "      <td>not college grad</td>\n",
       "      <td>1</td>\n",
       "      <td>SMSA</td>\n",
       "      <td>1</td>\n",
       "      <td>Public Administration</td>\n",
       "      <td>Sales</td>\n",
       "      <td>nonunion</td>\n",
       "      <td>10.837358</td>\n",
       "      <td>40.0</td>\n",
       "      <td>17.416666</td>\n",
       "      <td>17.416666</td>\n",
       "    </tr>\n",
       "  </tbody>\n",
       "</table>\n",
       "</div>"
      ],
      "text/plain": [
       "    idcode  age   race married  never_married  grade          collgrad  south  \\\n",
       "0        1   37  black  single              0   12.0  not college grad      0   \n",
       "1        2   37  black  single              0   12.0  not college grad      0   \n",
       "2        3   42  black  single              1   12.0  not college grad      0   \n",
       "39      75   39  black  single              0   11.0  not college grad      0   \n",
       "47     106   38  black  single              0   12.0  not college grad      1   \n",
       "\n",
       "       smsa  c_city                industry  occupation     union       wage  \\\n",
       "0      SMSA       0  Transport/Comm/Utility  Operatives     union  11.739125   \n",
       "1      SMSA       1           Manufacturing   Craftsmen     union   6.400963   \n",
       "2      SMSA       1           Manufacturing       Sales       NaN   5.016723   \n",
       "39  nonSMSA       0           Manufacturing  Operatives     union  12.500001   \n",
       "47     SMSA       1   Public Administration       Sales  nonunion  10.837358   \n",
       "\n",
       "    hours    ttl_exp     tenure  \n",
       "0    48.0  10.333334   5.333334  \n",
       "1    40.0  13.621795   5.250000  \n",
       "2    40.0  17.730770   1.250000  \n",
       "39   40.0  14.499999   9.333333  \n",
       "47   40.0  17.416666  17.416666  "
      ]
     },
     "execution_count": 102,
     "metadata": {},
     "output_type": "execute_result"
    }
   ],
   "source": [
    "gbCollegeRace.get_group((\"not college grad\",\"black\")).head() # note a tuple!"
   ]
  },
  {
   "cell_type": "markdown",
   "metadata": {},
   "source": [
    "One can directly apply methods to a groupby object. For instance, using `gbCollegeRace` one can compute the mean for each variable splitting observations by both college graduation and race."
   ]
  },
  {
   "cell_type": "code",
   "execution_count": 118,
   "metadata": {},
   "outputs": [
    {
     "data": {
      "text/html": [
       "<div>\n",
       "<style scoped>\n",
       "    .dataframe tbody tr th:only-of-type {\n",
       "        vertical-align: middle;\n",
       "    }\n",
       "\n",
       "    .dataframe tbody tr th {\n",
       "        vertical-align: top;\n",
       "    }\n",
       "\n",
       "    .dataframe thead th {\n",
       "        text-align: right;\n",
       "    }\n",
       "</style>\n",
       "<table border=\"1\" class=\"dataframe\">\n",
       "  <thead>\n",
       "    <tr style=\"text-align: right;\">\n",
       "      <th></th>\n",
       "      <th></th>\n",
       "      <th>idcode</th>\n",
       "      <th>age</th>\n",
       "      <th>never_married</th>\n",
       "      <th>grade</th>\n",
       "      <th>south</th>\n",
       "      <th>c_city</th>\n",
       "      <th>wage</th>\n",
       "      <th>hours</th>\n",
       "      <th>ttl_exp</th>\n",
       "      <th>tenure</th>\n",
       "    </tr>\n",
       "    <tr>\n",
       "      <th>collgrad</th>\n",
       "      <th>race</th>\n",
       "      <th></th>\n",
       "      <th></th>\n",
       "      <th></th>\n",
       "      <th></th>\n",
       "      <th></th>\n",
       "      <th></th>\n",
       "      <th></th>\n",
       "      <th></th>\n",
       "      <th></th>\n",
       "      <th></th>\n",
       "    </tr>\n",
       "  </thead>\n",
       "  <tbody>\n",
       "    <tr>\n",
       "      <th rowspan=\"3\" valign=\"top\">college grad</th>\n",
       "      <th>black</th>\n",
       "      <td>3010.427184</td>\n",
       "      <td>38.378641</td>\n",
       "      <td>0.174757</td>\n",
       "      <td>16.679612</td>\n",
       "      <td>0.631068</td>\n",
       "      <td>0.611650</td>\n",
       "      <td>11.358608</td>\n",
       "      <td>39.728155</td>\n",
       "      <td>13.840055</td>\n",
       "      <td>8.066993</td>\n",
       "    </tr>\n",
       "    <tr>\n",
       "      <th>other</th>\n",
       "      <td>4023.888889</td>\n",
       "      <td>39.777778</td>\n",
       "      <td>0.222222</td>\n",
       "      <td>16.444444</td>\n",
       "      <td>0.000000</td>\n",
       "      <td>0.333333</td>\n",
       "      <td>11.596778</td>\n",
       "      <td>41.111111</td>\n",
       "      <td>13.238604</td>\n",
       "      <td>4.500000</td>\n",
       "    </tr>\n",
       "    <tr>\n",
       "      <th>white</th>\n",
       "      <td>2297.002381</td>\n",
       "      <td>39.278571</td>\n",
       "      <td>0.145238</td>\n",
       "      <td>16.735714</td>\n",
       "      <td>0.364286</td>\n",
       "      <td>0.280952</td>\n",
       "      <td>10.298948</td>\n",
       "      <td>38.556086</td>\n",
       "      <td>13.351221</td>\n",
       "      <td>6.582538</td>\n",
       "    </tr>\n",
       "    <tr>\n",
       "      <th rowspan=\"3\" valign=\"top\">not college grad</th>\n",
       "      <th>black</th>\n",
       "      <td>3191.666667</td>\n",
       "      <td>38.904167</td>\n",
       "      <td>0.181250</td>\n",
       "      <td>11.549061</td>\n",
       "      <td>0.641667</td>\n",
       "      <td>0.464583</td>\n",
       "      <td>5.875918</td>\n",
       "      <td>37.774059</td>\n",
       "      <td>12.478045</td>\n",
       "      <td>6.166141</td>\n",
       "    </tr>\n",
       "    <tr>\n",
       "      <th>other</th>\n",
       "      <td>3688.470588</td>\n",
       "      <td>39.058824</td>\n",
       "      <td>0.058824</td>\n",
       "      <td>11.588235</td>\n",
       "      <td>0.176471</td>\n",
       "      <td>0.235294</td>\n",
       "      <td>6.938195</td>\n",
       "      <td>34.529412</td>\n",
       "      <td>12.259804</td>\n",
       "      <td>5.186274</td>\n",
       "    </tr>\n",
       "    <tr>\n",
       "      <th>white</th>\n",
       "      <td>2434.090386</td>\n",
       "      <td>39.270337</td>\n",
       "      <td>0.053410</td>\n",
       "      <td>12.146382</td>\n",
       "      <td>0.339359</td>\n",
       "      <td>0.200493</td>\n",
       "      <td>7.318251</td>\n",
       "      <td>36.334704</td>\n",
       "      <td>12.163922</td>\n",
       "      <td>5.539666</td>\n",
       "    </tr>\n",
       "  </tbody>\n",
       "</table>\n",
       "</div>"
      ],
      "text/plain": [
       "                             idcode        age  never_married      grade  \\\n",
       "collgrad         race                                                      \n",
       "college grad     black  3010.427184  38.378641       0.174757  16.679612   \n",
       "                 other  4023.888889  39.777778       0.222222  16.444444   \n",
       "                 white  2297.002381  39.278571       0.145238  16.735714   \n",
       "not college grad black  3191.666667  38.904167       0.181250  11.549061   \n",
       "                 other  3688.470588  39.058824       0.058824  11.588235   \n",
       "                 white  2434.090386  39.270337       0.053410  12.146382   \n",
       "\n",
       "                           south    c_city       wage      hours    ttl_exp  \\\n",
       "collgrad         race                                                         \n",
       "college grad     black  0.631068  0.611650  11.358608  39.728155  13.840055   \n",
       "                 other  0.000000  0.333333  11.596778  41.111111  13.238604   \n",
       "                 white  0.364286  0.280952  10.298948  38.556086  13.351221   \n",
       "not college grad black  0.641667  0.464583   5.875918  37.774059  12.478045   \n",
       "                 other  0.176471  0.235294   6.938195  34.529412  12.259804   \n",
       "                 white  0.339359  0.200493   7.318251  36.334704  12.163922   \n",
       "\n",
       "                          tenure  \n",
       "collgrad         race             \n",
       "college grad     black  8.066993  \n",
       "                 other  4.500000  \n",
       "                 white  6.582538  \n",
       "not college grad black  6.166141  \n",
       "                 other  5.186274  \n",
       "                 white  5.539666  "
      ]
     },
     "execution_count": 118,
     "metadata": {},
     "output_type": "execute_result"
    }
   ],
   "source": [
    "gbCollegeRace.mean()"
   ]
  },
  {
   "cell_type": "markdown",
   "metadata": {},
   "source": [
    "Note that `collgrad` and `race` appear as (hierarchical) indices.\n",
    "\n",
    "**Exercise 11**\n",
    "\n",
    "Use one of the reshaping methods studied last week (`set_index`, `reset_index`, `stack`, or `unstack`) and the groupby object `gbCollegeRace` to create the same two-way table as you made for the previous Exercise."
   ]
  },
  {
   "cell_type": "code",
   "execution_count": 112,
   "metadata": {},
   "outputs": [
    {
     "data": {
      "text/html": [
       "<div>\n",
       "<style scoped>\n",
       "    .dataframe tbody tr th:only-of-type {\n",
       "        vertical-align: middle;\n",
       "    }\n",
       "\n",
       "    .dataframe tbody tr th {\n",
       "        vertical-align: top;\n",
       "    }\n",
       "\n",
       "    .dataframe thead th {\n",
       "        text-align: right;\n",
       "    }\n",
       "</style>\n",
       "<table border=\"1\" class=\"dataframe\">\n",
       "  <thead>\n",
       "    <tr style=\"text-align: right;\">\n",
       "      <th>race</th>\n",
       "      <th>black</th>\n",
       "      <th>other</th>\n",
       "      <th>white</th>\n",
       "    </tr>\n",
       "    <tr>\n",
       "      <th>collgrad</th>\n",
       "      <th></th>\n",
       "      <th></th>\n",
       "      <th></th>\n",
       "    </tr>\n",
       "  </thead>\n",
       "  <tbody>\n",
       "    <tr>\n",
       "      <th>college grad</th>\n",
       "      <td>11.358608</td>\n",
       "      <td>11.596778</td>\n",
       "      <td>10.298948</td>\n",
       "    </tr>\n",
       "    <tr>\n",
       "      <th>not college grad</th>\n",
       "      <td>5.875918</td>\n",
       "      <td>6.938195</td>\n",
       "      <td>7.318251</td>\n",
       "    </tr>\n",
       "  </tbody>\n",
       "</table>\n",
       "</div>"
      ],
      "text/plain": [
       "race                  black      other      white\n",
       "collgrad                                         \n",
       "college grad      11.358608  11.596778  10.298948\n",
       "not college grad   5.875918   6.938195   7.318251"
      ]
     },
     "execution_count": 112,
     "metadata": {},
     "output_type": "execute_result"
    }
   ],
   "source": [
    "# YOUR CODE HERE\n",
    "#raise NotImplementedError()\n",
    "gbCollegeRace.mean().unstack()[\"wage\"]"
   ]
  },
  {
   "cell_type": "code",
   "execution_count": 107,
   "metadata": {},
   "outputs": [
    {
     "data": {
      "text/html": [
       "<div>\n",
       "<style scoped>\n",
       "    .dataframe tbody tr th:only-of-type {\n",
       "        vertical-align: middle;\n",
       "    }\n",
       "\n",
       "    .dataframe tbody tr th {\n",
       "        vertical-align: top;\n",
       "    }\n",
       "\n",
       "    .dataframe thead th {\n",
       "        text-align: right;\n",
       "    }\n",
       "</style>\n",
       "<table border=\"1\" class=\"dataframe\">\n",
       "  <thead>\n",
       "    <tr style=\"text-align: right;\">\n",
       "      <th>race</th>\n",
       "      <th>black</th>\n",
       "      <th>other</th>\n",
       "      <th>white</th>\n",
       "    </tr>\n",
       "    <tr>\n",
       "      <th>collgrad</th>\n",
       "      <th></th>\n",
       "      <th></th>\n",
       "      <th></th>\n",
       "    </tr>\n",
       "  </thead>\n",
       "  <tbody>\n",
       "    <tr>\n",
       "      <th>college grad</th>\n",
       "      <td>11.358608</td>\n",
       "      <td>11.596778</td>\n",
       "      <td>10.298948</td>\n",
       "    </tr>\n",
       "    <tr>\n",
       "      <th>not college grad</th>\n",
       "      <td>5.875918</td>\n",
       "      <td>6.938195</td>\n",
       "      <td>7.318251</td>\n",
       "    </tr>\n",
       "  </tbody>\n",
       "</table>\n",
       "</div>"
      ],
      "text/plain": [
       "race                  black      other      white\n",
       "collgrad                                         \n",
       "college grad      11.358608  11.596778  10.298948\n",
       "not college grad   5.875918   6.938195   7.318251"
      ]
     },
     "execution_count": 107,
     "metadata": {},
     "output_type": "execute_result"
    }
   ],
   "source": [
    "ex10"
   ]
  },
  {
   "cell_type": "markdown",
   "metadata": {},
   "source": [
    "# Python Homework Week 6\n",
    "\n",
    "#### Learning goals\n",
    "- Refreshing your knowledge on data visualisation and missing data\n",
    "- Increasing your comfort with aggregations and datetime objects"
   ]
  },
  {
   "cell_type": "code",
   "execution_count": 1,
   "metadata": {},
   "outputs": [],
   "source": [
    "import pandas as pd\n",
    "import numpy as np\n",
    "import matplotlib.pyplot as plt\n",
    "%matplotlib inline"
   ]
  },
  {
   "cell_type": "markdown",
   "metadata": {},
   "source": [
    "## Data visualization and missing data\n",
    "\n",
    "We will study a real world dataset on a group of women in their 30s and early 40s to study labor force patterns."
   ]
  },
  {
   "cell_type": "markdown",
   "metadata": {},
   "source": [
    "**a) [1 point]**\n",
    "\n",
    "The csv-file `nlsw88.csv` contains wages and and other job and background characteristics of a sample of women in the United States in 1988. The data come from the National Longitudinal Survey of Young Woman. Variable definitions are available at this [link](https://www.rdocumentation.org/packages/Counterfactual/versions/1.2/topics/nlsw88).\n",
    "\n",
    "Create a DataFrame `women` using `nlsw88.csv`, and investigate what variables are present in this DataFrame. \n",
    "\n",
    "*Hint:* Make sure that the csv-file is in the same folder as this notebook, or specify a path. "
   ]
  },
  {
   "cell_type": "code",
   "execution_count": 2,
   "metadata": {},
   "outputs": [
    {
     "data": {
      "text/html": [
       "<div>\n",
       "<style scoped>\n",
       "    .dataframe tbody tr th:only-of-type {\n",
       "        vertical-align: middle;\n",
       "    }\n",
       "\n",
       "    .dataframe tbody tr th {\n",
       "        vertical-align: top;\n",
       "    }\n",
       "\n",
       "    .dataframe thead th {\n",
       "        text-align: right;\n",
       "    }\n",
       "</style>\n",
       "<table border=\"1\" class=\"dataframe\">\n",
       "  <thead>\n",
       "    <tr style=\"text-align: right;\">\n",
       "      <th></th>\n",
       "      <th>idcode</th>\n",
       "      <th>age</th>\n",
       "      <th>race</th>\n",
       "      <th>married</th>\n",
       "      <th>never_married</th>\n",
       "      <th>grade</th>\n",
       "      <th>collgrad</th>\n",
       "      <th>south</th>\n",
       "      <th>smsa</th>\n",
       "      <th>c_city</th>\n",
       "      <th>industry</th>\n",
       "      <th>occupation</th>\n",
       "      <th>union</th>\n",
       "      <th>wage</th>\n",
       "      <th>hours</th>\n",
       "      <th>ttl_exp</th>\n",
       "      <th>tenure</th>\n",
       "    </tr>\n",
       "  </thead>\n",
       "  <tbody>\n",
       "    <tr>\n",
       "      <th>0</th>\n",
       "      <td>1</td>\n",
       "      <td>37</td>\n",
       "      <td>black</td>\n",
       "      <td>single</td>\n",
       "      <td>0</td>\n",
       "      <td>12.0</td>\n",
       "      <td>not college grad</td>\n",
       "      <td>0</td>\n",
       "      <td>SMSA</td>\n",
       "      <td>0</td>\n",
       "      <td>Transport/Comm/Utility</td>\n",
       "      <td>Operatives</td>\n",
       "      <td>union</td>\n",
       "      <td>11.739125</td>\n",
       "      <td>48.0</td>\n",
       "      <td>10.333334</td>\n",
       "      <td>5.333334</td>\n",
       "    </tr>\n",
       "    <tr>\n",
       "      <th>1</th>\n",
       "      <td>2</td>\n",
       "      <td>37</td>\n",
       "      <td>black</td>\n",
       "      <td>single</td>\n",
       "      <td>0</td>\n",
       "      <td>12.0</td>\n",
       "      <td>not college grad</td>\n",
       "      <td>0</td>\n",
       "      <td>SMSA</td>\n",
       "      <td>1</td>\n",
       "      <td>Manufacturing</td>\n",
       "      <td>Craftsmen</td>\n",
       "      <td>union</td>\n",
       "      <td>6.400963</td>\n",
       "      <td>40.0</td>\n",
       "      <td>13.621795</td>\n",
       "      <td>5.250000</td>\n",
       "    </tr>\n",
       "    <tr>\n",
       "      <th>2</th>\n",
       "      <td>3</td>\n",
       "      <td>42</td>\n",
       "      <td>black</td>\n",
       "      <td>single</td>\n",
       "      <td>1</td>\n",
       "      <td>12.0</td>\n",
       "      <td>not college grad</td>\n",
       "      <td>0</td>\n",
       "      <td>SMSA</td>\n",
       "      <td>1</td>\n",
       "      <td>Manufacturing</td>\n",
       "      <td>Sales</td>\n",
       "      <td>NaN</td>\n",
       "      <td>5.016723</td>\n",
       "      <td>40.0</td>\n",
       "      <td>17.730770</td>\n",
       "      <td>1.250000</td>\n",
       "    </tr>\n",
       "    <tr>\n",
       "      <th>3</th>\n",
       "      <td>4</td>\n",
       "      <td>43</td>\n",
       "      <td>white</td>\n",
       "      <td>married</td>\n",
       "      <td>0</td>\n",
       "      <td>17.0</td>\n",
       "      <td>college grad</td>\n",
       "      <td>0</td>\n",
       "      <td>SMSA</td>\n",
       "      <td>0</td>\n",
       "      <td>Professional Services</td>\n",
       "      <td>Other</td>\n",
       "      <td>union</td>\n",
       "      <td>9.033812</td>\n",
       "      <td>42.0</td>\n",
       "      <td>13.211537</td>\n",
       "      <td>1.750000</td>\n",
       "    </tr>\n",
       "    <tr>\n",
       "      <th>4</th>\n",
       "      <td>6</td>\n",
       "      <td>42</td>\n",
       "      <td>white</td>\n",
       "      <td>married</td>\n",
       "      <td>0</td>\n",
       "      <td>12.0</td>\n",
       "      <td>not college grad</td>\n",
       "      <td>0</td>\n",
       "      <td>SMSA</td>\n",
       "      <td>0</td>\n",
       "      <td>Manufacturing</td>\n",
       "      <td>Operatives</td>\n",
       "      <td>nonunion</td>\n",
       "      <td>8.083731</td>\n",
       "      <td>48.0</td>\n",
       "      <td>17.820513</td>\n",
       "      <td>17.750000</td>\n",
       "    </tr>\n",
       "    <tr>\n",
       "      <th>...</th>\n",
       "      <td>...</td>\n",
       "      <td>...</td>\n",
       "      <td>...</td>\n",
       "      <td>...</td>\n",
       "      <td>...</td>\n",
       "      <td>...</td>\n",
       "      <td>...</td>\n",
       "      <td>...</td>\n",
       "      <td>...</td>\n",
       "      <td>...</td>\n",
       "      <td>...</td>\n",
       "      <td>...</td>\n",
       "      <td>...</td>\n",
       "      <td>...</td>\n",
       "      <td>...</td>\n",
       "      <td>...</td>\n",
       "      <td>...</td>\n",
       "    </tr>\n",
       "    <tr>\n",
       "      <th>2241</th>\n",
       "      <td>5153</td>\n",
       "      <td>35</td>\n",
       "      <td>white</td>\n",
       "      <td>single</td>\n",
       "      <td>1</td>\n",
       "      <td>12.0</td>\n",
       "      <td>not college grad</td>\n",
       "      <td>1</td>\n",
       "      <td>SMSA</td>\n",
       "      <td>0</td>\n",
       "      <td>Professional Services</td>\n",
       "      <td>Laborers</td>\n",
       "      <td>NaN</td>\n",
       "      <td>5.517124</td>\n",
       "      <td>35.0</td>\n",
       "      <td>11.987180</td>\n",
       "      <td>2.083333</td>\n",
       "    </tr>\n",
       "    <tr>\n",
       "      <th>2242</th>\n",
       "      <td>5154</td>\n",
       "      <td>44</td>\n",
       "      <td>white</td>\n",
       "      <td>married</td>\n",
       "      <td>0</td>\n",
       "      <td>16.0</td>\n",
       "      <td>college grad</td>\n",
       "      <td>1</td>\n",
       "      <td>SMSA</td>\n",
       "      <td>0</td>\n",
       "      <td>Professional Services</td>\n",
       "      <td>Professional/technical</td>\n",
       "      <td>nonunion</td>\n",
       "      <td>14.323667</td>\n",
       "      <td>40.0</td>\n",
       "      <td>12.705128</td>\n",
       "      <td>12.166667</td>\n",
       "    </tr>\n",
       "    <tr>\n",
       "      <th>2243</th>\n",
       "      <td>5156</td>\n",
       "      <td>42</td>\n",
       "      <td>white</td>\n",
       "      <td>married</td>\n",
       "      <td>0</td>\n",
       "      <td>12.0</td>\n",
       "      <td>not college grad</td>\n",
       "      <td>1</td>\n",
       "      <td>nonSMSA</td>\n",
       "      <td>0</td>\n",
       "      <td>Business/Repair Svc</td>\n",
       "      <td>Sales</td>\n",
       "      <td>nonunion</td>\n",
       "      <td>3.824476</td>\n",
       "      <td>40.0</td>\n",
       "      <td>18.858974</td>\n",
       "      <td>9.583333</td>\n",
       "    </tr>\n",
       "    <tr>\n",
       "      <th>2244</th>\n",
       "      <td>5157</td>\n",
       "      <td>38</td>\n",
       "      <td>black</td>\n",
       "      <td>married</td>\n",
       "      <td>0</td>\n",
       "      <td>12.0</td>\n",
       "      <td>not college grad</td>\n",
       "      <td>1</td>\n",
       "      <td>nonSMSA</td>\n",
       "      <td>0</td>\n",
       "      <td>Professional Services</td>\n",
       "      <td>Laborers</td>\n",
       "      <td>nonunion</td>\n",
       "      <td>2.447664</td>\n",
       "      <td>35.0</td>\n",
       "      <td>11.160256</td>\n",
       "      <td>10.750000</td>\n",
       "    </tr>\n",
       "    <tr>\n",
       "      <th>2245</th>\n",
       "      <td>5159</td>\n",
       "      <td>43</td>\n",
       "      <td>black</td>\n",
       "      <td>single</td>\n",
       "      <td>0</td>\n",
       "      <td>12.0</td>\n",
       "      <td>not college grad</td>\n",
       "      <td>1</td>\n",
       "      <td>SMSA</td>\n",
       "      <td>1</td>\n",
       "      <td>Professional Services</td>\n",
       "      <td>Sales</td>\n",
       "      <td>union</td>\n",
       "      <td>7.157810</td>\n",
       "      <td>38.0</td>\n",
       "      <td>10.596154</td>\n",
       "      <td>3.416667</td>\n",
       "    </tr>\n",
       "  </tbody>\n",
       "</table>\n",
       "<p>2246 rows × 17 columns</p>\n",
       "</div>"
      ],
      "text/plain": [
       "      idcode  age   race  married  never_married  grade          collgrad  \\\n",
       "0          1   37  black   single              0   12.0  not college grad   \n",
       "1          2   37  black   single              0   12.0  not college grad   \n",
       "2          3   42  black   single              1   12.0  not college grad   \n",
       "3          4   43  white  married              0   17.0      college grad   \n",
       "4          6   42  white  married              0   12.0  not college grad   \n",
       "...      ...  ...    ...      ...            ...    ...               ...   \n",
       "2241    5153   35  white   single              1   12.0  not college grad   \n",
       "2242    5154   44  white  married              0   16.0      college grad   \n",
       "2243    5156   42  white  married              0   12.0  not college grad   \n",
       "2244    5157   38  black  married              0   12.0  not college grad   \n",
       "2245    5159   43  black   single              0   12.0  not college grad   \n",
       "\n",
       "      south     smsa  c_city                industry              occupation  \\\n",
       "0         0     SMSA       0  Transport/Comm/Utility              Operatives   \n",
       "1         0     SMSA       1           Manufacturing               Craftsmen   \n",
       "2         0     SMSA       1           Manufacturing                   Sales   \n",
       "3         0     SMSA       0   Professional Services                   Other   \n",
       "4         0     SMSA       0           Manufacturing              Operatives   \n",
       "...     ...      ...     ...                     ...                     ...   \n",
       "2241      1     SMSA       0   Professional Services                Laborers   \n",
       "2242      1     SMSA       0   Professional Services  Professional/technical   \n",
       "2243      1  nonSMSA       0     Business/Repair Svc                   Sales   \n",
       "2244      1  nonSMSA       0   Professional Services                Laborers   \n",
       "2245      1     SMSA       1   Professional Services                   Sales   \n",
       "\n",
       "         union       wage  hours    ttl_exp     tenure  \n",
       "0        union  11.739125   48.0  10.333334   5.333334  \n",
       "1        union   6.400963   40.0  13.621795   5.250000  \n",
       "2          NaN   5.016723   40.0  17.730770   1.250000  \n",
       "3        union   9.033812   42.0  13.211537   1.750000  \n",
       "4     nonunion   8.083731   48.0  17.820513  17.750000  \n",
       "...        ...        ...    ...        ...        ...  \n",
       "2241       NaN   5.517124   35.0  11.987180   2.083333  \n",
       "2242  nonunion  14.323667   40.0  12.705128  12.166667  \n",
       "2243  nonunion   3.824476   40.0  18.858974   9.583333  \n",
       "2244  nonunion   2.447664   35.0  11.160256  10.750000  \n",
       "2245     union   7.157810   38.0  10.596154   3.416667  \n",
       "\n",
       "[2246 rows x 17 columns]"
      ]
     },
     "execution_count": 2,
     "metadata": {},
     "output_type": "execute_result"
    }
   ],
   "source": [
    "# YOUR CODE HERE\n",
    "#raise NotImplementedError()\n",
    "women = pd.read_csv(\"nlsw88.csv\")\n",
    "women"
   ]
  },
  {
   "cell_type": "markdown",
   "metadata": {},
   "source": [
    "**b) [1 point]**\n",
    "\n",
    "Use a method to quickly investigate what values the variable `south` can take. What do you think this variable tells you?"
   ]
  },
  {
   "cell_type": "code",
   "execution_count": 3,
   "metadata": {
    "scrolled": true
   },
   "outputs": [
    {
     "data": {
      "text/plain": [
       "count    2246.000000\n",
       "mean        0.419412\n",
       "std         0.493573\n",
       "min         0.000000\n",
       "25%         0.000000\n",
       "50%         0.000000\n",
       "75%         1.000000\n",
       "max         1.000000\n",
       "Name: south, dtype: float64"
      ]
     },
     "execution_count": 3,
     "metadata": {},
     "output_type": "execute_result"
    }
   ],
   "source": [
    "# YOUR CODE HERE\n",
    "#raise NotImplementedError()\n",
    "women[\"south\"].describe()"
   ]
  },
  {
   "cell_type": "markdown",
   "metadata": {},
   "source": [
    "Is 0 if the woman is from the south or 1 if she is."
   ]
  },
  {
   "cell_type": "markdown",
   "metadata": {},
   "source": [
    "**c) [1 point]**\n",
    "\n",
    "Create a new variable `log_wage` that is the natural logarithm of `wage`. "
   ]
  },
  {
   "cell_type": "code",
   "execution_count": 7,
   "metadata": {},
   "outputs": [],
   "source": [
    "# YOUR CODE HERE\n",
    "#raise NotImplementedError()\n",
    "women[\"log_wage\"] = np.log(women[\"wage\"])\n"
   ]
  },
  {
   "cell_type": "markdown",
   "metadata": {},
   "source": [
    "**d) [1 point]**\n",
    "\n",
    "Create a plot that shows the relationship between `wage` and `ttl_exp`. Use a size for each observation of 2 and a translucence of 0.5. \n",
    "\n",
    "What can one learn from this plot?"
   ]
  },
  {
   "cell_type": "code",
   "execution_count": 9,
   "metadata": {},
   "outputs": [
    {
     "data": {
      "text/plain": [
       "<AxesSubplot:xlabel='ttl_exp', ylabel='wage'>"
      ]
     },
     "execution_count": 9,
     "metadata": {},
     "output_type": "execute_result"
    },
    {
     "data": {
      "image/png": "[encoded data removed]",
      "text/plain": [
       "<Figure size 432x288 with 1 Axes>"
      ]
     },
     "metadata": {
      "needs_background": "light"
     },
     "output_type": "display_data"
    },
    {
     "data": {
      "image/png": "[encoded data removed]",
      "text/plain": [
       "<Figure size 432x288 with 1 Axes>"
      ]
     },
     "metadata": {
      "needs_background": "light"
     },
     "output_type": "display_data"
    }
   ],
   "source": [
    "# YOUR CODE HERE\n",
    "\n",
    "plt.scatter(women[\"ttl_exp\"], women[\"wage\"], alpha = 0.5, s = 2)\n",
    "\n",
    "#tutorial way\n",
    "women.plot(\"ttl_exp\", \"wage\", kind = \"scatter\", s = 2, alpha = 0.5)"
   ]
  },
  {
   "cell_type": "markdown",
   "metadata": {},
   "source": [
    "YOUR ANSWER HERE"
   ]
  },
  {
   "cell_type": "markdown",
   "metadata": {},
   "source": [
    "**e) [1 point]**\n",
    "\n",
    "Women of different race earn on average different wages. Use `groupby` to create a plot that shows average wage by race."
   ]
  },
  {
   "cell_type": "code",
   "execution_count": 10,
   "metadata": {},
   "outputs": [
    {
     "data": {
      "text/plain": [
       "<AxesSubplot:xlabel='race'>"
      ]
     },
     "execution_count": 10,
     "metadata": {},
     "output_type": "execute_result"
    },
    {
     "data": {
      "image/png": "[encoded data removed]",
      "text/plain": [
       "<Figure size 432x288 with 1 Axes>"
      ]
     },
     "metadata": {
      "needs_background": "light"
     },
     "output_type": "display_data"
    }
   ],
   "source": [
    "# YOUR CODE HERE\n",
    "#raise NotImplementedError()\n",
    "racer = women.groupby([\"race\"]).mean()\n",
    "\n",
    "plt.bar(racer.index.values, racer['wage'])\n",
    "\n",
    "#tutorial way\n",
    "women.groupby(\"race\")[\"wage\"].mean().plot(kind = \"bar\")"
   ]
  },
  {
   "cell_type": "markdown",
   "metadata": {},
   "source": [
    "One way to depict income inequality is [Pen's Parade](https://en.wikipedia.org/wiki/Pen%27s_parade), named after the Dutch economist Jan Pen. The parade lasts one hour and consists of a succession of 60 marchers (one each minute) representing 1 out of 60 [quantiles](https://en.wikipedia.org/wiki/Quantile) of the income distribution (a quantile is the general word for a percentile, decile, quartile, etc.). The height of every marcher is proportional to the income of their quantile, and marchers are ordered from lowest to greatest.\n",
    "\n",
    "**f) [1 point]**\n",
    "\n",
    "Create a bar plot of Pen's Parade to depict wage inequality among American women in 1988.\n",
    "1. Create 60 equally-spaced bins between 0 and 1.\n",
    "2. Use the `quantile` function to find the wage corresponding to each of the 60 bins.\n",
    "3. Plot the wages corresponding to each bin, numbering the bars from 1 to 60.\n",
    "\n",
    "Why do you think Jan Pen called his parade a parade of many dwarves and a few giants?"
   ]
  },
  {
   "cell_type": "code",
   "execution_count": 12,
   "metadata": {},
   "outputs": [
    {
     "data": {
      "image/png": "[encoded data removed]",
      "text/plain": [
       "<Figure size 432x288 with 1 Axes>"
      ]
     },
     "metadata": {
      "needs_background": "light"
     },
     "output_type": "display_data"
    }
   ],
   "source": [
    "# YOUR CODE HERE\n",
    "#raise NotImplementedError()\n",
    "minutes = np.linspace(0,1,60)\n",
    "quantiles = women[\"wage\"].quantile(minutes)\n",
    "plt.bar(np.arange(1,61), quantiles)\n",
    "plt.show()\n",
    "###"
   ]
  },
  {
   "cell_type": "markdown",
   "metadata": {},
   "source": [
    "YOUR ANSWER HERE"
   ]
  },
  {
   "cell_type": "markdown",
   "metadata": {},
   "source": [
    "**g) [1 point]**\n",
    "\n",
    "Many datasets have missing data, including this one. Show which variables contain missing data."
   ]
  },
  {
   "cell_type": "code",
   "execution_count": 16,
   "metadata": {},
   "outputs": [
    {
     "data": {
      "text/plain": [
       "idcode           False\n",
       "age              False\n",
       "race             False\n",
       "married          False\n",
       "never_married    False\n",
       "grade             True\n",
       "collgrad         False\n",
       "south            False\n",
       "smsa             False\n",
       "c_city           False\n",
       "industry          True\n",
       "occupation        True\n",
       "union             True\n",
       "wage             False\n",
       "hours             True\n",
       "ttl_exp          False\n",
       "tenure            True\n",
       "log_wage         False\n",
       "dtype: bool"
      ]
     },
     "execution_count": 16,
     "metadata": {},
     "output_type": "execute_result"
    }
   ],
   "source": [
    "# YOUR CODE HERE\n",
    "#raise NotImplementedError()\n",
    "women.isna().any()\n",
    "###"
   ]
  },
  {
   "cell_type": "markdown",
   "metadata": {},
   "source": [
    "**h) [1 point]**\n",
    "\n",
    "How many observations in this dataset contain missing data?"
   ]
  },
  {
   "cell_type": "code",
   "execution_count": 28,
   "metadata": {},
   "outputs": [
    {
     "data": {
      "text/plain": [
       "398"
      ]
     },
     "execution_count": 28,
     "metadata": {},
     "output_type": "execute_result"
    }
   ],
   "source": [
    "# YOUR CODE HERE\n",
    "#raise NotImplementedError()\n",
    "women.isna().sum().sum()\n",
    "#but in this case some obs. contain more than one missing item we avoid double counting by:\n",
    "women.isna().any(axis=1).sum()"
   ]
  },
  {
   "cell_type": "markdown",
   "metadata": {},
   "source": [
    "## Aggregations and `datetime`\n",
    "\n",
    "Below we will use unemployment data by US state at a monthly frequency, as contained in the file `state_unemployment.csv`. The pandas `read_csv` function will determine most datatypes of the underlying columns. The exception here is that we need to give pandas a hint so it can load up the `Date` column as a Python datetime type, as below."
   ]
  },
  {
   "cell_type": "code",
   "execution_count": 29,
   "metadata": {},
   "outputs": [
    {
     "name": "stdout",
     "output_type": "stream",
     "text": [
      "Date                datetime64[ns]\n",
      "state                       object\n",
      "LaborForce                 float64\n",
      "UnemploymentRate           float64\n",
      "dtype: object\n"
     ]
    },
    {
     "data": {
      "text/html": [
       "<div>\n",
       "<style scoped>\n",
       "    .dataframe tbody tr th:only-of-type {\n",
       "        vertical-align: middle;\n",
       "    }\n",
       "\n",
       "    .dataframe tbody tr th {\n",
       "        vertical-align: top;\n",
       "    }\n",
       "\n",
       "    .dataframe thead th {\n",
       "        text-align: right;\n",
       "    }\n",
       "</style>\n",
       "<table border=\"1\" class=\"dataframe\">\n",
       "  <thead>\n",
       "    <tr style=\"text-align: right;\">\n",
       "      <th></th>\n",
       "      <th>Date</th>\n",
       "      <th>state</th>\n",
       "      <th>LaborForce</th>\n",
       "      <th>UnemploymentRate</th>\n",
       "    </tr>\n",
       "  </thead>\n",
       "  <tbody>\n",
       "    <tr>\n",
       "      <th>0</th>\n",
       "      <td>2000-01-01</td>\n",
       "      <td>Alabama</td>\n",
       "      <td>2142945.0</td>\n",
       "      <td>4.7</td>\n",
       "    </tr>\n",
       "    <tr>\n",
       "      <th>1</th>\n",
       "      <td>2000-01-01</td>\n",
       "      <td>Alaska</td>\n",
       "      <td>319059.0</td>\n",
       "      <td>6.3</td>\n",
       "    </tr>\n",
       "    <tr>\n",
       "      <th>2</th>\n",
       "      <td>2000-01-01</td>\n",
       "      <td>Arizona</td>\n",
       "      <td>2499980.0</td>\n",
       "      <td>4.1</td>\n",
       "    </tr>\n",
       "    <tr>\n",
       "      <th>3</th>\n",
       "      <td>2000-01-01</td>\n",
       "      <td>Arkansas</td>\n",
       "      <td>1264619.0</td>\n",
       "      <td>4.4</td>\n",
       "    </tr>\n",
       "    <tr>\n",
       "      <th>4</th>\n",
       "      <td>2000-01-01</td>\n",
       "      <td>California</td>\n",
       "      <td>16680246.0</td>\n",
       "      <td>5.0</td>\n",
       "    </tr>\n",
       "  </tbody>\n",
       "</table>\n",
       "</div>"
      ],
      "text/plain": [
       "        Date       state  LaborForce  UnemploymentRate\n",
       "0 2000-01-01     Alabama   2142945.0               4.7\n",
       "1 2000-01-01      Alaska    319059.0               6.3\n",
       "2 2000-01-01     Arizona   2499980.0               4.1\n",
       "3 2000-01-01    Arkansas   1264619.0               4.4\n",
       "4 2000-01-01  California  16680246.0               5.0"
      ]
     },
     "execution_count": 29,
     "metadata": {},
     "output_type": "execute_result"
    }
   ],
   "source": [
    "unemp_raw = pd.read_csv(\"state_unemployment.csv\", parse_dates=[\"Date\"])\n",
    "print(unemp_raw.dtypes)\n",
    "unemp_raw.head()"
   ]
  },
  {
   "cell_type": "markdown",
   "metadata": {},
   "source": [
    "**i) [1 point]**\n",
    "\n",
    "One of the reasons people are concerned about business cycles is that unemployment can increase a lot during recessions. \n",
    "\n",
    "One way to look at unemployment changes is to study the variance of unemployment over time. Which states are relatively volatile? Compute the variance of unemployment for each state."
   ]
  },
  {
   "cell_type": "code",
   "execution_count": 30,
   "metadata": {},
   "outputs": [
    {
     "data": {
      "text/plain": [
       "state\n",
       "Alabama            4.548286\n",
       "Alaska             0.257506\n",
       "Arizona            4.179021\n",
       "Arkansas           1.957209\n",
       "California         6.039162\n",
       "Colorado           3.449818\n",
       "Connecticut        3.674742\n",
       "Delaware           2.779145\n",
       "Florida            5.780556\n",
       "Georgia            5.011162\n",
       "Hawaii             2.265971\n",
       "Idaho              3.397612\n",
       "Illinois           3.846785\n",
       "Indiana            4.685977\n",
       "Iowa               0.942789\n",
       "Kansas             1.076341\n",
       "Kentucky           3.402510\n",
       "Louisiana          1.469891\n",
       "Maine              2.558667\n",
       "Maryland           1.930448\n",
       "Massachusetts      2.291571\n",
       "Michigan           6.817340\n",
       "Minnesota          1.676511\n",
       "Mississippi        2.724155\n",
       "Missouri           2.913183\n",
       "Montana            1.253705\n",
       "Nebraska           0.340393\n",
       "Nevada            10.002977\n",
       "New Hampshire      1.170149\n",
       "New Mexico         1.538129\n",
       "New York           2.293530\n",
       "New jersey         3.987372\n",
       "North Carolina     4.847969\n",
       "North Dakota       0.174066\n",
       "Ohio               3.296091\n",
       "Oklahoma           0.938862\n",
       "Oregon             4.056062\n",
       "Pennsylvania       1.879314\n",
       "Rhode island       6.497766\n",
       "South Carolina     4.791610\n",
       "South Dakota       0.530046\n",
       "Tennessee          3.819410\n",
       "Texas              1.663234\n",
       "Utah               2.324309\n",
       "Vermont            1.050016\n",
       "Virginia           1.940358\n",
       "Washington         2.704584\n",
       "West Virginia      1.563783\n",
       "Wisconsin          2.502692\n",
       "Wyoming            1.144320\n",
       "Name: UnemploymentRate, dtype: float64"
      ]
     },
     "execution_count": 30,
     "metadata": {},
     "output_type": "execute_result"
    }
   ],
   "source": [
    "# YOUR CODE HERE\n",
    "#raise NotImplementedError()\n",
    "county = unemp_raw.groupby([\"state\"])[\"UnemploymentRate\"].var()\n",
    "county\n",
    "###"
   ]
  },
  {
   "cell_type": "markdown",
   "metadata": {},
   "source": [
    "**j) [1 point]**\n",
    "\n",
    "Instead of using a built-in aggregation like `var`, it is also possible to write your own aggregation, which you can call with `agg`, as you have seen in Datacamp.\n",
    "\n",
    "Create a function `high_or_low` that takes a pandas Series as argument. The function should return `\"High\"` if the variance of the series is equal to or above 2.5, and should return `\"Low\"` if the variance of the series is below 2.5.\n",
    "\n",
    "Apply your function to find out which states have volatile unemployment, and which don't."
   ]
  },
  {
   "cell_type": "code",
   "execution_count": 33,
   "metadata": {},
   "outputs": [
    {
     "data": {
      "text/plain": [
       "state\n",
       "Alabama           high\n",
       "Alaska             low\n",
       "Arizona           high\n",
       "Arkansas           low\n",
       "California        high\n",
       "Colorado          high\n",
       "Connecticut       high\n",
       "Delaware          high\n",
       "Florida           high\n",
       "Georgia           high\n",
       "Hawaii             low\n",
       "Idaho             high\n",
       "Illinois          high\n",
       "Indiana           high\n",
       "Iowa               low\n",
       "Kansas             low\n",
       "Kentucky          high\n",
       "Louisiana          low\n",
       "Maine             high\n",
       "Maryland           low\n",
       "Massachusetts      low\n",
       "Michigan          high\n",
       "Minnesota          low\n",
       "Mississippi       high\n",
       "Missouri          high\n",
       "Montana            low\n",
       "Nebraska           low\n",
       "Nevada            high\n",
       "New Hampshire      low\n",
       "New Mexico         low\n",
       "New York           low\n",
       "New jersey        high\n",
       "North Carolina    high\n",
       "North Dakota       low\n",
       "Ohio              high\n",
       "Oklahoma           low\n",
       "Oregon            high\n",
       "Pennsylvania       low\n",
       "Rhode island      high\n",
       "South Carolina    high\n",
       "South Dakota       low\n",
       "Tennessee         high\n",
       "Texas              low\n",
       "Utah               low\n",
       "Vermont            low\n",
       "Virginia           low\n",
       "Washington        high\n",
       "West Virginia      low\n",
       "Wisconsin         high\n",
       "Wyoming            low\n",
       "Name: UnemploymentRate, dtype: object"
      ]
     },
     "execution_count": 33,
     "metadata": {},
     "output_type": "execute_result"
    }
   ],
   "source": [
    "# YOUR CODE HERE\n",
    "#raise NotImplementedError()\n",
    "def high_or_low(s):\n",
    "    if s.var() < 2.5:\n",
    "        out = \"low\"\n",
    "    else:\n",
    "        out = \"high\"\n",
    "    return out\n",
    "unemp_raw.groupby([\"state\"])[\"UnemploymentRate\"].agg(high_or_low)"
   ]
  },
  {
   "cell_type": "markdown",
   "metadata": {},
   "source": [
    "**k) [1 point]**\n",
    "\n",
    "Use `pivot_table` to create a DataFrame `unemp_all` containing the unemployment rates, with the US states as columns and `Date` as index."
   ]
  },
  {
   "cell_type": "code",
   "execution_count": 42,
   "metadata": {},
   "outputs": [
    {
     "data": {
      "text/html": [
       "<div>\n",
       "<style scoped>\n",
       "    .dataframe tbody tr th:only-of-type {\n",
       "        vertical-align: middle;\n",
       "    }\n",
       "\n",
       "    .dataframe tbody tr th {\n",
       "        vertical-align: top;\n",
       "    }\n",
       "\n",
       "    .dataframe thead th {\n",
       "        text-align: right;\n",
       "    }\n",
       "</style>\n",
       "<table border=\"1\" class=\"dataframe\">\n",
       "  <thead>\n",
       "    <tr style=\"text-align: right;\">\n",
       "      <th>state</th>\n",
       "      <th>Alabama</th>\n",
       "      <th>Alaska</th>\n",
       "      <th>Arizona</th>\n",
       "      <th>Arkansas</th>\n",
       "      <th>California</th>\n",
       "      <th>Colorado</th>\n",
       "      <th>Connecticut</th>\n",
       "      <th>Delaware</th>\n",
       "      <th>Florida</th>\n",
       "      <th>Georgia</th>\n",
       "      <th>...</th>\n",
       "      <th>South Dakota</th>\n",
       "      <th>Tennessee</th>\n",
       "      <th>Texas</th>\n",
       "      <th>Utah</th>\n",
       "      <th>Vermont</th>\n",
       "      <th>Virginia</th>\n",
       "      <th>Washington</th>\n",
       "      <th>West Virginia</th>\n",
       "      <th>Wisconsin</th>\n",
       "      <th>Wyoming</th>\n",
       "    </tr>\n",
       "    <tr>\n",
       "      <th>Date</th>\n",
       "      <th></th>\n",
       "      <th></th>\n",
       "      <th></th>\n",
       "      <th></th>\n",
       "      <th></th>\n",
       "      <th></th>\n",
       "      <th></th>\n",
       "      <th></th>\n",
       "      <th></th>\n",
       "      <th></th>\n",
       "      <th></th>\n",
       "      <th></th>\n",
       "      <th></th>\n",
       "      <th></th>\n",
       "      <th></th>\n",
       "      <th></th>\n",
       "      <th></th>\n",
       "      <th></th>\n",
       "      <th></th>\n",
       "      <th></th>\n",
       "      <th></th>\n",
       "    </tr>\n",
       "  </thead>\n",
       "  <tbody>\n",
       "    <tr>\n",
       "      <th>2000-01-01</th>\n",
       "      <td>4.7</td>\n",
       "      <td>6.3</td>\n",
       "      <td>4.1</td>\n",
       "      <td>4.4</td>\n",
       "      <td>5.0</td>\n",
       "      <td>2.8</td>\n",
       "      <td>2.8</td>\n",
       "      <td>3.5</td>\n",
       "      <td>3.7</td>\n",
       "      <td>3.7</td>\n",
       "      <td>...</td>\n",
       "      <td>2.4</td>\n",
       "      <td>3.7</td>\n",
       "      <td>4.6</td>\n",
       "      <td>3.1</td>\n",
       "      <td>2.7</td>\n",
       "      <td>2.6</td>\n",
       "      <td>4.9</td>\n",
       "      <td>5.8</td>\n",
       "      <td>3.2</td>\n",
       "      <td>4.1</td>\n",
       "    </tr>\n",
       "    <tr>\n",
       "      <th>2000-02-01</th>\n",
       "      <td>4.7</td>\n",
       "      <td>6.3</td>\n",
       "      <td>4.1</td>\n",
       "      <td>4.3</td>\n",
       "      <td>5.0</td>\n",
       "      <td>2.8</td>\n",
       "      <td>2.7</td>\n",
       "      <td>3.6</td>\n",
       "      <td>3.7</td>\n",
       "      <td>3.6</td>\n",
       "      <td>...</td>\n",
       "      <td>2.4</td>\n",
       "      <td>3.7</td>\n",
       "      <td>4.6</td>\n",
       "      <td>3.1</td>\n",
       "      <td>2.6</td>\n",
       "      <td>2.5</td>\n",
       "      <td>4.9</td>\n",
       "      <td>5.6</td>\n",
       "      <td>3.2</td>\n",
       "      <td>3.9</td>\n",
       "    </tr>\n",
       "    <tr>\n",
       "      <th>2000-03-01</th>\n",
       "      <td>4.6</td>\n",
       "      <td>6.3</td>\n",
       "      <td>4.0</td>\n",
       "      <td>4.3</td>\n",
       "      <td>5.0</td>\n",
       "      <td>2.7</td>\n",
       "      <td>2.6</td>\n",
       "      <td>3.6</td>\n",
       "      <td>3.7</td>\n",
       "      <td>3.6</td>\n",
       "      <td>...</td>\n",
       "      <td>2.4</td>\n",
       "      <td>3.8</td>\n",
       "      <td>4.5</td>\n",
       "      <td>3.1</td>\n",
       "      <td>2.6</td>\n",
       "      <td>2.4</td>\n",
       "      <td>5.0</td>\n",
       "      <td>5.5</td>\n",
       "      <td>3.3</td>\n",
       "      <td>3.9</td>\n",
       "    </tr>\n",
       "    <tr>\n",
       "      <th>2000-04-01</th>\n",
       "      <td>4.6</td>\n",
       "      <td>6.3</td>\n",
       "      <td>4.0</td>\n",
       "      <td>4.3</td>\n",
       "      <td>5.1</td>\n",
       "      <td>2.7</td>\n",
       "      <td>2.5</td>\n",
       "      <td>3.7</td>\n",
       "      <td>3.7</td>\n",
       "      <td>3.7</td>\n",
       "      <td>...</td>\n",
       "      <td>2.4</td>\n",
       "      <td>3.8</td>\n",
       "      <td>4.4</td>\n",
       "      <td>3.1</td>\n",
       "      <td>2.7</td>\n",
       "      <td>2.4</td>\n",
       "      <td>5.0</td>\n",
       "      <td>5.4</td>\n",
       "      <td>3.4</td>\n",
       "      <td>3.8</td>\n",
       "    </tr>\n",
       "    <tr>\n",
       "      <th>2000-05-01</th>\n",
       "      <td>4.5</td>\n",
       "      <td>6.3</td>\n",
       "      <td>4.0</td>\n",
       "      <td>4.2</td>\n",
       "      <td>5.1</td>\n",
       "      <td>2.7</td>\n",
       "      <td>2.4</td>\n",
       "      <td>3.7</td>\n",
       "      <td>3.7</td>\n",
       "      <td>3.7</td>\n",
       "      <td>...</td>\n",
       "      <td>2.4</td>\n",
       "      <td>3.9</td>\n",
       "      <td>4.3</td>\n",
       "      <td>3.2</td>\n",
       "      <td>2.7</td>\n",
       "      <td>2.3</td>\n",
       "      <td>5.1</td>\n",
       "      <td>5.4</td>\n",
       "      <td>3.5</td>\n",
       "      <td>3.8</td>\n",
       "    </tr>\n",
       "    <tr>\n",
       "      <th>...</th>\n",
       "      <td>...</td>\n",
       "      <td>...</td>\n",
       "      <td>...</td>\n",
       "      <td>...</td>\n",
       "      <td>...</td>\n",
       "      <td>...</td>\n",
       "      <td>...</td>\n",
       "      <td>...</td>\n",
       "      <td>...</td>\n",
       "      <td>...</td>\n",
       "      <td>...</td>\n",
       "      <td>...</td>\n",
       "      <td>...</td>\n",
       "      <td>...</td>\n",
       "      <td>...</td>\n",
       "      <td>...</td>\n",
       "      <td>...</td>\n",
       "      <td>...</td>\n",
       "      <td>...</td>\n",
       "      <td>...</td>\n",
       "      <td>...</td>\n",
       "    </tr>\n",
       "    <tr>\n",
       "      <th>2017-08-01</th>\n",
       "      <td>4.0</td>\n",
       "      <td>7.2</td>\n",
       "      <td>4.7</td>\n",
       "      <td>3.7</td>\n",
       "      <td>4.6</td>\n",
       "      <td>2.9</td>\n",
       "      <td>4.5</td>\n",
       "      <td>4.6</td>\n",
       "      <td>4.0</td>\n",
       "      <td>4.5</td>\n",
       "      <td>...</td>\n",
       "      <td>3.4</td>\n",
       "      <td>3.4</td>\n",
       "      <td>4.0</td>\n",
       "      <td>3.2</td>\n",
       "      <td>3.0</td>\n",
       "      <td>3.7</td>\n",
       "      <td>4.8</td>\n",
       "      <td>5.2</td>\n",
       "      <td>3.3</td>\n",
       "      <td>4.1</td>\n",
       "    </tr>\n",
       "    <tr>\n",
       "      <th>2017-09-01</th>\n",
       "      <td>3.9</td>\n",
       "      <td>7.2</td>\n",
       "      <td>4.7</td>\n",
       "      <td>3.7</td>\n",
       "      <td>4.5</td>\n",
       "      <td>3.0</td>\n",
       "      <td>4.5</td>\n",
       "      <td>4.5</td>\n",
       "      <td>3.9</td>\n",
       "      <td>4.5</td>\n",
       "      <td>...</td>\n",
       "      <td>3.4</td>\n",
       "      <td>3.3</td>\n",
       "      <td>4.0</td>\n",
       "      <td>3.2</td>\n",
       "      <td>2.9</td>\n",
       "      <td>3.6</td>\n",
       "      <td>4.7</td>\n",
       "      <td>5.3</td>\n",
       "      <td>3.3</td>\n",
       "      <td>4.1</td>\n",
       "    </tr>\n",
       "    <tr>\n",
       "      <th>2017-10-01</th>\n",
       "      <td>3.8</td>\n",
       "      <td>7.2</td>\n",
       "      <td>4.7</td>\n",
       "      <td>3.7</td>\n",
       "      <td>4.5</td>\n",
       "      <td>3.0</td>\n",
       "      <td>4.5</td>\n",
       "      <td>4.5</td>\n",
       "      <td>3.9</td>\n",
       "      <td>4.5</td>\n",
       "      <td>...</td>\n",
       "      <td>3.4</td>\n",
       "      <td>3.3</td>\n",
       "      <td>3.9</td>\n",
       "      <td>3.2</td>\n",
       "      <td>2.9</td>\n",
       "      <td>3.6</td>\n",
       "      <td>4.7</td>\n",
       "      <td>5.4</td>\n",
       "      <td>3.2</td>\n",
       "      <td>4.2</td>\n",
       "    </tr>\n",
       "    <tr>\n",
       "      <th>2017-11-01</th>\n",
       "      <td>3.8</td>\n",
       "      <td>7.2</td>\n",
       "      <td>4.7</td>\n",
       "      <td>3.7</td>\n",
       "      <td>4.5</td>\n",
       "      <td>3.0</td>\n",
       "      <td>4.5</td>\n",
       "      <td>4.5</td>\n",
       "      <td>3.9</td>\n",
       "      <td>4.5</td>\n",
       "      <td>...</td>\n",
       "      <td>3.4</td>\n",
       "      <td>3.3</td>\n",
       "      <td>3.9</td>\n",
       "      <td>3.2</td>\n",
       "      <td>2.9</td>\n",
       "      <td>3.6</td>\n",
       "      <td>4.7</td>\n",
       "      <td>5.4</td>\n",
       "      <td>3.2</td>\n",
       "      <td>4.2</td>\n",
       "    </tr>\n",
       "    <tr>\n",
       "      <th>2017-12-01</th>\n",
       "      <td>3.8</td>\n",
       "      <td>7.2</td>\n",
       "      <td>4.7</td>\n",
       "      <td>3.7</td>\n",
       "      <td>4.5</td>\n",
       "      <td>3.0</td>\n",
       "      <td>4.5</td>\n",
       "      <td>4.5</td>\n",
       "      <td>3.9</td>\n",
       "      <td>4.5</td>\n",
       "      <td>...</td>\n",
       "      <td>3.4</td>\n",
       "      <td>3.3</td>\n",
       "      <td>4.0</td>\n",
       "      <td>3.2</td>\n",
       "      <td>2.9</td>\n",
       "      <td>3.6</td>\n",
       "      <td>4.7</td>\n",
       "      <td>5.4</td>\n",
       "      <td>3.2</td>\n",
       "      <td>4.1</td>\n",
       "    </tr>\n",
       "  </tbody>\n",
       "</table>\n",
       "<p>216 rows × 50 columns</p>\n",
       "</div>"
      ],
      "text/plain": [
       "state       Alabama  Alaska  Arizona  Arkansas  California  Colorado  \\\n",
       "Date                                                                   \n",
       "2000-01-01      4.7     6.3      4.1       4.4         5.0       2.8   \n",
       "2000-02-01      4.7     6.3      4.1       4.3         5.0       2.8   \n",
       "2000-03-01      4.6     6.3      4.0       4.3         5.0       2.7   \n",
       "2000-04-01      4.6     6.3      4.0       4.3         5.1       2.7   \n",
       "2000-05-01      4.5     6.3      4.0       4.2         5.1       2.7   \n",
       "...             ...     ...      ...       ...         ...       ...   \n",
       "2017-08-01      4.0     7.2      4.7       3.7         4.6       2.9   \n",
       "2017-09-01      3.9     7.2      4.7       3.7         4.5       3.0   \n",
       "2017-10-01      3.8     7.2      4.7       3.7         4.5       3.0   \n",
       "2017-11-01      3.8     7.2      4.7       3.7         4.5       3.0   \n",
       "2017-12-01      3.8     7.2      4.7       3.7         4.5       3.0   \n",
       "\n",
       "state       Connecticut  Delaware  Florida  Georgia  ...  South Dakota  \\\n",
       "Date                                                 ...                 \n",
       "2000-01-01          2.8       3.5      3.7      3.7  ...           2.4   \n",
       "2000-02-01          2.7       3.6      3.7      3.6  ...           2.4   \n",
       "2000-03-01          2.6       3.6      3.7      3.6  ...           2.4   \n",
       "2000-04-01          2.5       3.7      3.7      3.7  ...           2.4   \n",
       "2000-05-01          2.4       3.7      3.7      3.7  ...           2.4   \n",
       "...                 ...       ...      ...      ...  ...           ...   \n",
       "2017-08-01          4.5       4.6      4.0      4.5  ...           3.4   \n",
       "2017-09-01          4.5       4.5      3.9      4.5  ...           3.4   \n",
       "2017-10-01          4.5       4.5      3.9      4.5  ...           3.4   \n",
       "2017-11-01          4.5       4.5      3.9      4.5  ...           3.4   \n",
       "2017-12-01          4.5       4.5      3.9      4.5  ...           3.4   \n",
       "\n",
       "state       Tennessee  Texas  Utah  Vermont  Virginia  Washington  \\\n",
       "Date                                                                \n",
       "2000-01-01        3.7    4.6   3.1      2.7       2.6         4.9   \n",
       "2000-02-01        3.7    4.6   3.1      2.6       2.5         4.9   \n",
       "2000-03-01        3.8    4.5   3.1      2.6       2.4         5.0   \n",
       "2000-04-01        3.8    4.4   3.1      2.7       2.4         5.0   \n",
       "2000-05-01        3.9    4.3   3.2      2.7       2.3         5.1   \n",
       "...               ...    ...   ...      ...       ...         ...   \n",
       "2017-08-01        3.4    4.0   3.2      3.0       3.7         4.8   \n",
       "2017-09-01        3.3    4.0   3.2      2.9       3.6         4.7   \n",
       "2017-10-01        3.3    3.9   3.2      2.9       3.6         4.7   \n",
       "2017-11-01        3.3    3.9   3.2      2.9       3.6         4.7   \n",
       "2017-12-01        3.3    4.0   3.2      2.9       3.6         4.7   \n",
       "\n",
       "state       West Virginia  Wisconsin  Wyoming  \n",
       "Date                                           \n",
       "2000-01-01            5.8        3.2      4.1  \n",
       "2000-02-01            5.6        3.2      3.9  \n",
       "2000-03-01            5.5        3.3      3.9  \n",
       "2000-04-01            5.4        3.4      3.8  \n",
       "2000-05-01            5.4        3.5      3.8  \n",
       "...                   ...        ...      ...  \n",
       "2017-08-01            5.2        3.3      4.1  \n",
       "2017-09-01            5.3        3.3      4.1  \n",
       "2017-10-01            5.4        3.2      4.2  \n",
       "2017-11-01            5.4        3.2      4.2  \n",
       "2017-12-01            5.4        3.2      4.1  \n",
       "\n",
       "[216 rows x 50 columns]"
      ]
     },
     "execution_count": 42,
     "metadata": {},
     "output_type": "execute_result"
    }
   ],
   "source": [
    "# YOUR CODE HERE\n",
    "#raise NotImplementedError()\n",
    "unemp_all = unemp_raw.pivot_table(values =\"UnemploymentRate\", index=  \"Date\", columns = \"state\")\n",
    "unemp_all"
   ]
  },
  {
   "cell_type": "markdown",
   "metadata": {},
   "source": [
    "**l) [1 point]**\n",
    "\n",
    "One of the advantages of a `DatetimeIndex` is that it is easy to slice.\n",
    "\n",
    "Consider the list of states below. Create a DataFrame `unemp` that contains unemployment rates for only those states between January 2006 and December 2015 (including)."
   ]
  },
  {
   "cell_type": "code",
   "execution_count": 43,
   "metadata": {},
   "outputs": [
    {
     "data": {
      "text/html": [
       "<div>\n",
       "<style scoped>\n",
       "    .dataframe tbody tr th:only-of-type {\n",
       "        vertical-align: middle;\n",
       "    }\n",
       "\n",
       "    .dataframe tbody tr th {\n",
       "        vertical-align: top;\n",
       "    }\n",
       "\n",
       "    .dataframe thead th {\n",
       "        text-align: right;\n",
       "    }\n",
       "</style>\n",
       "<table border=\"1\" class=\"dataframe\">\n",
       "  <thead>\n",
       "    <tr style=\"text-align: right;\">\n",
       "      <th>state</th>\n",
       "      <th>Arizona</th>\n",
       "      <th>California</th>\n",
       "      <th>Florida</th>\n",
       "      <th>Illinois</th>\n",
       "      <th>Michigan</th>\n",
       "      <th>New York</th>\n",
       "      <th>Texas</th>\n",
       "    </tr>\n",
       "    <tr>\n",
       "      <th>Date</th>\n",
       "      <th></th>\n",
       "      <th></th>\n",
       "      <th></th>\n",
       "      <th></th>\n",
       "      <th></th>\n",
       "      <th></th>\n",
       "      <th></th>\n",
       "    </tr>\n",
       "  </thead>\n",
       "  <tbody>\n",
       "    <tr>\n",
       "      <th>2006-01-01</th>\n",
       "      <td>4.5</td>\n",
       "      <td>5.0</td>\n",
       "      <td>3.2</td>\n",
       "      <td>5.1</td>\n",
       "      <td>6.8</td>\n",
       "      <td>4.8</td>\n",
       "      <td>5.2</td>\n",
       "    </tr>\n",
       "    <tr>\n",
       "      <th>2006-02-01</th>\n",
       "      <td>4.4</td>\n",
       "      <td>5.0</td>\n",
       "      <td>3.2</td>\n",
       "      <td>4.9</td>\n",
       "      <td>6.9</td>\n",
       "      <td>4.8</td>\n",
       "      <td>5.1</td>\n",
       "    </tr>\n",
       "    <tr>\n",
       "      <th>2006-03-01</th>\n",
       "      <td>4.4</td>\n",
       "      <td>4.9</td>\n",
       "      <td>3.1</td>\n",
       "      <td>4.8</td>\n",
       "      <td>6.9</td>\n",
       "      <td>4.7</td>\n",
       "      <td>5.1</td>\n",
       "    </tr>\n",
       "    <tr>\n",
       "      <th>2006-04-01</th>\n",
       "      <td>4.4</td>\n",
       "      <td>4.9</td>\n",
       "      <td>3.2</td>\n",
       "      <td>4.6</td>\n",
       "      <td>7.0</td>\n",
       "      <td>4.7</td>\n",
       "      <td>5.1</td>\n",
       "    </tr>\n",
       "    <tr>\n",
       "      <th>2006-05-01</th>\n",
       "      <td>4.3</td>\n",
       "      <td>4.9</td>\n",
       "      <td>3.2</td>\n",
       "      <td>4.6</td>\n",
       "      <td>7.0</td>\n",
       "      <td>4.7</td>\n",
       "      <td>5.1</td>\n",
       "    </tr>\n",
       "    <tr>\n",
       "      <th>...</th>\n",
       "      <td>...</td>\n",
       "      <td>...</td>\n",
       "      <td>...</td>\n",
       "      <td>...</td>\n",
       "      <td>...</td>\n",
       "      <td>...</td>\n",
       "      <td>...</td>\n",
       "    </tr>\n",
       "    <tr>\n",
       "      <th>2015-09-01</th>\n",
       "      <td>5.9</td>\n",
       "      <td>5.9</td>\n",
       "      <td>5.3</td>\n",
       "      <td>5.9</td>\n",
       "      <td>5.1</td>\n",
       "      <td>5.0</td>\n",
       "      <td>4.4</td>\n",
       "    </tr>\n",
       "    <tr>\n",
       "      <th>2015-10-01</th>\n",
       "      <td>5.8</td>\n",
       "      <td>5.8</td>\n",
       "      <td>5.2</td>\n",
       "      <td>5.9</td>\n",
       "      <td>5.0</td>\n",
       "      <td>4.9</td>\n",
       "      <td>4.4</td>\n",
       "    </tr>\n",
       "    <tr>\n",
       "      <th>2015-11-01</th>\n",
       "      <td>5.8</td>\n",
       "      <td>5.7</td>\n",
       "      <td>5.1</td>\n",
       "      <td>6.0</td>\n",
       "      <td>4.9</td>\n",
       "      <td>4.9</td>\n",
       "      <td>4.5</td>\n",
       "    </tr>\n",
       "    <tr>\n",
       "      <th>2015-12-01</th>\n",
       "      <td>5.7</td>\n",
       "      <td>5.7</td>\n",
       "      <td>5.1</td>\n",
       "      <td>6.1</td>\n",
       "      <td>4.9</td>\n",
       "      <td>4.9</td>\n",
       "      <td>4.5</td>\n",
       "    </tr>\n",
       "    <tr>\n",
       "      <th>2016-01-01</th>\n",
       "      <td>5.7</td>\n",
       "      <td>5.7</td>\n",
       "      <td>5.0</td>\n",
       "      <td>6.1</td>\n",
       "      <td>4.9</td>\n",
       "      <td>4.9</td>\n",
       "      <td>4.5</td>\n",
       "    </tr>\n",
       "  </tbody>\n",
       "</table>\n",
       "<p>121 rows × 7 columns</p>\n",
       "</div>"
      ],
      "text/plain": [
       "state       Arizona  California  Florida  Illinois  Michigan  New York  Texas\n",
       "Date                                                                         \n",
       "2006-01-01      4.5         5.0      3.2       5.1       6.8       4.8    5.2\n",
       "2006-02-01      4.4         5.0      3.2       4.9       6.9       4.8    5.1\n",
       "2006-03-01      4.4         4.9      3.1       4.8       6.9       4.7    5.1\n",
       "2006-04-01      4.4         4.9      3.2       4.6       7.0       4.7    5.1\n",
       "2006-05-01      4.3         4.9      3.2       4.6       7.0       4.7    5.1\n",
       "...             ...         ...      ...       ...       ...       ...    ...\n",
       "2015-09-01      5.9         5.9      5.3       5.9       5.1       5.0    4.4\n",
       "2015-10-01      5.8         5.8      5.2       5.9       5.0       4.9    4.4\n",
       "2015-11-01      5.8         5.7      5.1       6.0       4.9       4.9    4.5\n",
       "2015-12-01      5.7         5.7      5.1       6.1       4.9       4.9    4.5\n",
       "2016-01-01      5.7         5.7      5.0       6.1       4.9       4.9    4.5\n",
       "\n",
       "[121 rows x 7 columns]"
      ]
     },
     "execution_count": 43,
     "metadata": {},
     "output_type": "execute_result"
    }
   ],
   "source": [
    "states = [\"Arizona\", \"California\", \"Florida\", \"Illinois\",\n",
    "    \"Michigan\", \"New York\", \"Texas\"]\n",
    "# YOUR CODE HERE\n",
    "#raise NotImplementedError()\n",
    "unemp = unemp_all.loc['2006-01-01':'2016-01-01', states]\n",
    "unemp\n",
    "###"
   ]
  },
  {
   "cell_type": "markdown",
   "metadata": {},
   "source": [
    "### Transforms"
   ]
  },
  {
   "cell_type": "markdown",
   "metadata": {},
   "source": [
    "Many analytical operations do not necessarily involve an aggregation. The output of a function applied to a Series might be a new Series.\n",
    "\n",
    "For example,\n",
    "- Calculate the cumulative sum of elements in each column (`cumsum`), as you have seen in Datacamp.\n",
    "- Compute the difference in unemployment from month to month (`diff`).\n",
    "- Compute the percentage change in unemployment from month to month (`pct_change`).\n",
    "\n",
    "**m) [1 point]**\n",
    "\n",
    "Which state had the largest percentage increase in unemployment from one month to another?\n",
    "\n",
    "*Hint:* Once you found the largest percentage increase for each state, you can select the state with the largest increase using the method `idxmax`."
   ]
  },
  {
   "cell_type": "code",
   "execution_count": 45,
   "metadata": {},
   "outputs": [
    {
     "data": {
      "text/plain": [
       "'Texas'"
      ]
     },
     "execution_count": 45,
     "metadata": {},
     "output_type": "execute_result"
    }
   ],
   "source": [
    "# YOUR CODE HERE\n",
    "#raise NotImplementedError()\n",
    "unemp.pct_change().max().idxmax()"
   ]
  },
  {
   "cell_type": "markdown",
   "metadata": {},
   "source": [
    "**n) [1 point]**\n",
    "\n",
    "The DataFrame `unemp` contains dates starting at the height of the boom before the Great Recession, and ends 10 years later.\n",
    "\n",
    "Which state had the smallest absolute increase (or largest absolute decrease) in the unemployment rate over this period as a whole?"
   ]
  },
  {
   "cell_type": "code",
   "execution_count": 46,
   "metadata": {},
   "outputs": [
    {
     "data": {
      "text/plain": [
       "'Michigan'"
      ]
     },
     "execution_count": 46,
     "metadata": {},
     "output_type": "execute_result"
    }
   ],
   "source": [
    "# YOUR CODE HERE\n",
    "#raise NotImplementedError()\n",
    "unemp.diff().sum().idxmin()"
   ]
  }
 ],
 "metadata": {
  "kernelspec": {
   "display_name": "Python 3 (ipykernel)",
   "language": "python",
   "name": "python3"
  },
  "language_info": {
   "codemirror_mode": {
    "name": "ipython",
    "version": 3
   },
   "file_extension": ".py",
   "mimetype": "text/x-python",
   "name": "python",
   "nbconvert_exporter": "python",
   "pygments_lexer": "ipython3",
   "version": "3.9.12"
  }
 },
 "nbformat": 4,
 "nbformat_minor": 4
}
