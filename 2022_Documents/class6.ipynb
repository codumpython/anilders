{
 "cells": [
  {
   "cell_type": "markdown",
   "metadata": {},
   "source": [
    "# Week 6 in class\n",
    "\n",
    "#### Learning goals\n",
    "- Introducing you to advanced data cleaning methods\n",
    "- Introducing you to saving DataFrames\n",
    "- Increasing your comfort with using `groupby`, `pivot_table`, and reshaping."
   ]
  },
  {
   "cell_type": "code",
   "execution_count": 60,
   "metadata": {},
   "outputs": [],
   "source": [
    "import numpy as np\n",
    "import pandas as pd\n",
    "import matplotlib.pyplot as plt\n",
    "%matplotlib inline"
   ]
  },
  {
   "cell_type": "markdown",
   "metadata": {},
   "source": [
    "## Cleaning Data\n",
    "\n",
    "For many data projects, a [significant proportion of\n",
    "time](https://www.forbes.com/sites/gilpress/2016/03/23/data-preparation-most-time-consuming-least-enjoyable-data-science-task-survey-says/#74d447456f63)\n",
    "is spent collecting and cleaning the data — not performing the analysis.\n",
    "\n",
    "This non-analysis work is often called “data cleaning”.\n",
    "\n",
    "pandas provides very powerful data cleaning tools, which we\n",
    "will demonstrate using the following dataset."
   ]
  },
  {
   "cell_type": "code",
   "execution_count": 2,
   "metadata": {
    "hide-output": false
   },
   "outputs": [
    {
     "data": {
      "text/html": [
       "<div>\n",
       "<style scoped>\n",
       "    .dataframe tbody tr th:only-of-type {\n",
       "        vertical-align: middle;\n",
       "    }\n",
       "\n",
       "    .dataframe tbody tr th {\n",
       "        vertical-align: top;\n",
       "    }\n",
       "\n",
       "    .dataframe thead th {\n",
       "        text-align: right;\n",
       "    }\n",
       "</style>\n",
       "<table border=\"1\" class=\"dataframe\">\n",
       "  <thead>\n",
       "    <tr style=\"text-align: right;\">\n",
       "      <th></th>\n",
       "      <th>numbers</th>\n",
       "      <th>nums</th>\n",
       "      <th>colors</th>\n",
       "    </tr>\n",
       "  </thead>\n",
       "  <tbody>\n",
       "    <tr>\n",
       "      <th>0</th>\n",
       "      <td>#23</td>\n",
       "      <td>23</td>\n",
       "      <td>green</td>\n",
       "    </tr>\n",
       "    <tr>\n",
       "      <th>1</th>\n",
       "      <td>#24</td>\n",
       "      <td>24</td>\n",
       "      <td>red</td>\n",
       "    </tr>\n",
       "    <tr>\n",
       "      <th>2</th>\n",
       "      <td>#18</td>\n",
       "      <td>18</td>\n",
       "      <td>yellow</td>\n",
       "    </tr>\n",
       "    <tr>\n",
       "      <th>3</th>\n",
       "      <td>#14</td>\n",
       "      <td>14</td>\n",
       "      <td>orange</td>\n",
       "    </tr>\n",
       "    <tr>\n",
       "      <th>4</th>\n",
       "      <td>#12</td>\n",
       "      <td>NaN</td>\n",
       "      <td>purple</td>\n",
       "    </tr>\n",
       "    <tr>\n",
       "      <th>5</th>\n",
       "      <td>#10</td>\n",
       "      <td>XYZ</td>\n",
       "      <td>blue</td>\n",
       "    </tr>\n",
       "    <tr>\n",
       "      <th>6</th>\n",
       "      <td>#35</td>\n",
       "      <td>35</td>\n",
       "      <td>pink</td>\n",
       "    </tr>\n",
       "  </tbody>\n",
       "</table>\n",
       "</div>"
      ],
      "text/plain": [
       "  numbers nums  colors\n",
       "0     #23   23   green\n",
       "1     #24   24     red\n",
       "2     #18   18  yellow\n",
       "3     #14   14  orange\n",
       "4     #12  NaN  purple\n",
       "5     #10  XYZ    blue\n",
       "6     #35   35    pink"
      ]
     },
     "execution_count": 2,
     "metadata": {},
     "output_type": "execute_result"
    }
   ],
   "source": [
    "df = pd.DataFrame({\"numbers\": [\"#23\", \"#24\", \"#18\", \"#14\", \"#12\", \"#10\", \"#35\"],\n",
    "                   \"nums\": [\"23\", \"24\", \"18\", \"14\", np.nan, \"XYZ\", \"35\"],\n",
    "                   \"colors\": [\"green\", \"red\", \"yellow\", \"orange\", \"purple\", \"blue\", \"pink\"]})\n",
    "df"
   ]
  },
  {
   "cell_type": "markdown",
   "metadata": {},
   "source": [
    "What would happen if we wanted to try and compute the mean of\n",
    "`numbers`?"
   ]
  },
  {
   "cell_type": "code",
   "execution_count": 3,
   "metadata": {
    "hide-output": false
   },
   "outputs": [],
   "source": [
    "#df[\"numbers\"].mean()"
   ]
  },
  {
   "cell_type": "markdown",
   "metadata": {},
   "source": [
    "It throws an error!\n",
    "\n",
    "Can you figure out why? Hint: As always, when looking at error messages, start at the very\n",
    "bottom.\n",
    "\n",
    "The final error says, `TypeError: Could not convert #23#24... to numeric`.\n",
    "\n",
    "---------\n",
    "\n",
    "**Exercise 1**\n",
    "\n",
    "Convert the string below into a number."
   ]
  },
  {
   "cell_type": "code",
   "execution_count": 4,
   "metadata": {},
   "outputs": [],
   "source": [
    "c2n = \"#39\"\n",
    "# YOUR CODE HERE\n",
    "raise NotImplementedError()"
   ]
  },
  {
   "cell_type": "markdown",
   "metadata": {},
   "source": [
    "### String Methods\n",
    "\n",
    "One way to make this change to every element of a column would be to loop through all elements of the column and apply the desired string methods… One significantly faster (and easier) method is to apply a string method to an entire column of data.\n",
    "\n",
    "Most methods that are available to a Python string are also available to a pandas Series that has `dtype` object. We access them by doing `s.str.method_name` where `method_name` is the name of the method. When we apply the method to a Series `s`, it is applied to all rows in the Series in one shot!\n",
    "\n",
    "For example, we can check whether the colors contain blue, as below:"
   ]
  },
  {
   "cell_type": "code",
   "execution_count": 6,
   "metadata": {},
   "outputs": [
    {
     "data": {
      "text/plain": [
       "0    False\n",
       "1    False\n",
       "2    False\n",
       "3    False\n",
       "4    False\n",
       "5     True\n",
       "6    False\n",
       "Name: colors, dtype: bool"
      ]
     },
     "execution_count": 6,
     "metadata": {},
     "output_type": "execute_result"
    }
   ],
   "source": [
    "df[\"colors\"].str.contains(\"blue\")"
   ]
  },
  {
   "cell_type": "markdown",
   "metadata": {},
   "source": [
    "**Exercise 2**\n",
    "\n",
    "Make a new column called `numbers_str` that contains the elements of\n",
    "`numbers` but without `\"#\"`. Afterwards, show the data types in the DataFrame."
   ]
  },
  {
   "cell_type": "code",
   "execution_count": 7,
   "metadata": {},
   "outputs": [],
   "source": [
    "# YOUR CODE HERE\n",
    "raise NotImplementedError()"
   ]
  },
  {
   "cell_type": "markdown",
   "metadata": {},
   "source": [
    "### Type Conversions\n",
    "\n",
    "The `dtype` of the `numbers_str` column shows that pandas still treats it as a string even after we have removed the `\"#\"`.\n",
    "\n",
    "We need to convert this column to numbers. The best way to do this is using the `pd.to_numeric` function.\n",
    "\n",
    "This method attempts to convert whatever is stored in a Series into numeric values. For example, after the `\"#\"` removed, the numbers of column `\"numbers\"` are ready to be converted to actual numbers, as below."
   ]
  },
  {
   "cell_type": "code",
   "execution_count": 9,
   "metadata": {},
   "outputs": [
    {
     "data": {
      "text/plain": [
       "numbers            object\n",
       "nums               object\n",
       "colors             object\n",
       "numbers_str        object\n",
       "numbers_numeric     int64\n",
       "dtype: object"
      ]
     },
     "execution_count": 9,
     "metadata": {},
     "output_type": "execute_result"
    }
   ],
   "source": [
    "df[\"numbers_numeric\"] = pd.to_numeric(df[\"numbers_str\"])\n",
    "df.dtypes"
   ]
  },
  {
   "cell_type": "markdown",
   "metadata": {},
   "source": [
    "We can convert to other types well. Using the `astype` method, we can convert to any of the supported pandas `dtypes`. For example, we can convert our new variable from integers to floats, as below."
   ]
  },
  {
   "cell_type": "code",
   "execution_count": 10,
   "metadata": {},
   "outputs": [
    {
     "data": {
      "text/plain": [
       "numbers             object\n",
       "nums                object\n",
       "colors              object\n",
       "numbers_str         object\n",
       "numbers_numeric    float64\n",
       "dtype: object"
      ]
     },
     "execution_count": 10,
     "metadata": {},
     "output_type": "execute_result"
    }
   ],
   "source": [
    "df[\"numbers_numeric\"] = df[\"numbers_numeric\"].astype(float)\n",
    "df.dtypes"
   ]
  },
  {
   "cell_type": "markdown",
   "metadata": {},
   "source": [
    "**Exercise 3**\n",
    "\n",
    "Convert the column `\"nums\"` to a numeric type and save it to the DataFrame as `\"nums_tonumeric\"`.\n",
    "\n",
    "*Hint:* Notice that there is a missing value, and a value that is not a number. Look at the documentation for `pd.to_numeric` and think about how to overcome this.\n",
    "\n",
    "Why could your solution be a bad idea if used without knowing what your data looks like? \n",
    "\n",
    "*Hint:* Think about what happens when you apply it to the `\"numbers\"` column before replacing the `\"#\"`."
   ]
  },
  {
   "cell_type": "code",
   "execution_count": 11,
   "metadata": {},
   "outputs": [],
   "source": [
    "# YOUR CODE HERE\n",
    "raise NotImplementedError()"
   ]
  },
  {
   "cell_type": "markdown",
   "metadata": {},
   "source": [
    "YOUR ANSWER HERE"
   ]
  },
  {
   "cell_type": "markdown",
   "metadata": {},
   "source": [
    "**Exercise 4**\n",
    "\n",
    "Convert the column `\"numbers_numeric\"` back into integers."
   ]
  },
  {
   "cell_type": "code",
   "execution_count": null,
   "metadata": {},
   "outputs": [],
   "source": [
    "# YOUR CODE HERE\n",
    "raise NotImplementedError()"
   ]
  },
  {
   "cell_type": "markdown",
   "metadata": {},
   "source": [
    "### Missing data"
   ]
  },
  {
   "cell_type": "markdown",
   "metadata": {},
   "source": [
    "**Exercise 5**\n",
    "\n",
    "Looking at the other variables, you notice that the missing item should be 10. Replace the missing item with 10."
   ]
  },
  {
   "cell_type": "code",
   "execution_count": 15,
   "metadata": {},
   "outputs": [],
   "source": [
    "# YOUR CODE HERE\n",
    "raise NotImplementedError()"
   ]
  },
  {
   "cell_type": "markdown",
   "metadata": {},
   "source": [
    "## Case study\n",
    "\n",
    "We will now use data from an [article](https://www.nytimes.com/interactive/2015/02/17/upshot/what-do-people-actually-order-at-chipotle.html) written by The Upshot at the NYTimes.\n",
    "\n",
    "The csv-file `chipotle_raw.csv` has order information from almost 2,000 [Chipotle](https://en.wikipedia.org/wiki/Chipotle_Mexican_Grill) orders and includes information on what was ordered and how much it cost."
   ]
  },
  {
   "cell_type": "code",
   "execution_count": 56,
   "metadata": {},
   "outputs": [
    {
     "data": {
      "text/html": [
       "<div>\n",
       "<style scoped>\n",
       "    .dataframe tbody tr th:only-of-type {\n",
       "        vertical-align: middle;\n",
       "    }\n",
       "\n",
       "    .dataframe tbody tr th {\n",
       "        vertical-align: top;\n",
       "    }\n",
       "\n",
       "    .dataframe thead th {\n",
       "        text-align: right;\n",
       "    }\n",
       "</style>\n",
       "<table border=\"1\" class=\"dataframe\">\n",
       "  <thead>\n",
       "    <tr style=\"text-align: right;\">\n",
       "      <th></th>\n",
       "      <th>order_id</th>\n",
       "      <th>quantity</th>\n",
       "      <th>item_name</th>\n",
       "      <th>choice_description</th>\n",
       "      <th>item_price</th>\n",
       "    </tr>\n",
       "  </thead>\n",
       "  <tbody>\n",
       "    <tr>\n",
       "      <th>0</th>\n",
       "      <td>1</td>\n",
       "      <td>1</td>\n",
       "      <td>Chips and Fresh Tomato Salsa</td>\n",
       "      <td>NaN</td>\n",
       "      <td>$2.39</td>\n",
       "    </tr>\n",
       "    <tr>\n",
       "      <th>1</th>\n",
       "      <td>1</td>\n",
       "      <td>1</td>\n",
       "      <td>Izze</td>\n",
       "      <td>[Clementine]</td>\n",
       "      <td>$3.39</td>\n",
       "    </tr>\n",
       "    <tr>\n",
       "      <th>2</th>\n",
       "      <td>1</td>\n",
       "      <td>1</td>\n",
       "      <td>Nantucket Nectar</td>\n",
       "      <td>[Apple]</td>\n",
       "      <td>$3.39</td>\n",
       "    </tr>\n",
       "    <tr>\n",
       "      <th>3</th>\n",
       "      <td>1</td>\n",
       "      <td>1</td>\n",
       "      <td>Chips and Tomatillo-Green Chili Salsa</td>\n",
       "      <td>NaN</td>\n",
       "      <td>$2.39</td>\n",
       "    </tr>\n",
       "    <tr>\n",
       "      <th>4</th>\n",
       "      <td>2</td>\n",
       "      <td>2</td>\n",
       "      <td>Chicken Bowl</td>\n",
       "      <td>[Tomatillo-Red Chili Salsa (Hot), [Black Beans...</td>\n",
       "      <td>$16.98</td>\n",
       "    </tr>\n",
       "  </tbody>\n",
       "</table>\n",
       "</div>"
      ],
      "text/plain": [
       "   order_id  quantity                              item_name  \\\n",
       "0         1         1           Chips and Fresh Tomato Salsa   \n",
       "1         1         1                                   Izze   \n",
       "2         1         1                       Nantucket Nectar   \n",
       "3         1         1  Chips and Tomatillo-Green Chili Salsa   \n",
       "4         2         2                           Chicken Bowl   \n",
       "\n",
       "                                  choice_description item_price  \n",
       "0                                                NaN     $2.39   \n",
       "1                                       [Clementine]     $3.39   \n",
       "2                                            [Apple]     $3.39   \n",
       "3                                                NaN     $2.39   \n",
       "4  [Tomatillo-Red Chili Salsa (Hot), [Black Beans...    $16.98   "
      ]
     },
     "execution_count": 56,
     "metadata": {},
     "output_type": "execute_result"
    }
   ],
   "source": [
    "chipotle = pd.read_csv(\"chipotle_raw.csv\")\n",
    "chipotle.head()"
   ]
  },
  {
   "cell_type": "markdown",
   "metadata": {},
   "source": [
    "**Exercise 6**\n",
    "\n",
    "We'd like you to use this data and all your data cleaning skills to answer the following questions.\n",
    "\n",
    "- What is the average price of an item with chicken?  \n",
    "- What is the average price of an item with steak?  \n",
    "- Did chicken or steak produce more revenue (total)? \n",
    "\n",
    "*Hint:* You may need to use the string methods shown above, and don't forget to use the variable `quantity`."
   ]
  },
  {
   "cell_type": "code",
   "execution_count": 20,
   "metadata": {},
   "outputs": [],
   "source": [
    "# YOUR CODE HERE\n",
    "raise NotImplementedError()"
   ]
  },
  {
   "cell_type": "markdown",
   "metadata": {},
   "source": [
    "## Writing DataFrames"
   ]
  },
  {
   "cell_type": "markdown",
   "metadata": {},
   "source": [
    "Let’s now talk about saving a DataFrame to a file.\n",
    "\n",
    "As a general rule of thumb, if we have a DataFrame `df` and we would like to save to save it as a file of type `FOO`, then we would call the method named `df.to_FOO(...)`.\n",
    "\n",
    "We will show you how this can be done and try to highlight some issues. But, we will not cover all possible options and features — we feel it is best to learn these as you need them by consulting the appropriate documentation.\n",
    "\n",
    "Let’s show `df.to_csv` as an example.\n",
    "\n",
    "Without any additional arguments, the `df.to_csv` function will return a string containing the csv form of the DataFrame:"
   ]
  },
  {
   "cell_type": "code",
   "execution_count": 23,
   "metadata": {},
   "outputs": [
    {
     "name": "stdout",
     "output_type": "stream",
     "text": [
      ",order_id,quantity,item_name,choice_description,item_price,price_numeric,revenue\r\n",
      "0,1,1,Chips and Fresh Tomato Salsa,,$2.39 ,2.39,2.39\r\n",
      "1,1,1,Izze,[Clementine],$3.39 ,3.39,3.39\r\n",
      "2,1,1,Nantucket Nectar,[Apple],$3.39 ,3.39,3.39\r\n",
      "3,1,1,Chips and Tomatillo-Green Chili Salsa,,$2.39 ,2.39,2.39\r\n",
      "4,2,2,Chicken Bowl,\"[Tomatillo-Red Chili Salsa (Hot), [Black Beans, Rice, Cheese, Sour Cream]]\",$16.98 ,16.98,33.96\r\n",
      "\n"
     ]
    }
   ],
   "source": [
    "print(chipotle.head().to_csv())"
   ]
  },
  {
   "cell_type": "markdown",
   "metadata": {},
   "source": [
    "If we do pass an argument, the first argument will be used as the file name. By default, it ends up in the same folder as your notebook (but you can also specify another path)."
   ]
  },
  {
   "cell_type": "code",
   "execution_count": 24,
   "metadata": {},
   "outputs": [],
   "source": [
    "chipotle.to_csv(\"chipotle.csv\")"
   ]
  },
  {
   "cell_type": "markdown",
   "metadata": {},
   "source": [
    "You can see above and in the file that the csv-form contains the index, which will appear as a variable once you read the csv-file again in pandas. You can prevent this with `index = False`, as below."
   ]
  },
  {
   "cell_type": "code",
   "execution_count": 25,
   "metadata": {},
   "outputs": [],
   "source": [
    "chipotle.to_csv(\"chipotle.csv\", index = False)"
   ]
  },
  {
   "cell_type": "markdown",
   "metadata": {},
   "source": [
    "**Exercise 7**\n",
    "\n",
    "Analogous to above, export the `chipotle` DataFrame as an excel-file `chipotle.xlsx`."
   ]
  },
  {
   "cell_type": "code",
   "execution_count": 26,
   "metadata": {},
   "outputs": [],
   "source": [
    "# YOUR CODE HERE\n",
    "raise NotImplementedError()"
   ]
  },
  {
   "cell_type": "markdown",
   "metadata": {},
   "source": [
    "## Combining groupby, pivot tables, and reshaping.\n",
    "\n",
    "Remember the nlsw88 data on a sample of women from this week's homework."
   ]
  },
  {
   "cell_type": "code",
   "execution_count": 55,
   "metadata": {},
   "outputs": [
    {
     "data": {
      "text/html": [
       "<div>\n",
       "<style scoped>\n",
       "    .dataframe tbody tr th:only-of-type {\n",
       "        vertical-align: middle;\n",
       "    }\n",
       "\n",
       "    .dataframe tbody tr th {\n",
       "        vertical-align: top;\n",
       "    }\n",
       "\n",
       "    .dataframe thead th {\n",
       "        text-align: right;\n",
       "    }\n",
       "</style>\n",
       "<table border=\"1\" class=\"dataframe\">\n",
       "  <thead>\n",
       "    <tr style=\"text-align: right;\">\n",
       "      <th></th>\n",
       "      <th>idcode</th>\n",
       "      <th>age</th>\n",
       "      <th>race</th>\n",
       "      <th>married</th>\n",
       "      <th>never_married</th>\n",
       "      <th>grade</th>\n",
       "      <th>collgrad</th>\n",
       "      <th>south</th>\n",
       "      <th>smsa</th>\n",
       "      <th>c_city</th>\n",
       "      <th>industry</th>\n",
       "      <th>occupation</th>\n",
       "      <th>union</th>\n",
       "      <th>wage</th>\n",
       "      <th>hours</th>\n",
       "      <th>ttl_exp</th>\n",
       "      <th>tenure</th>\n",
       "    </tr>\n",
       "  </thead>\n",
       "  <tbody>\n",
       "    <tr>\n",
       "      <th>0</th>\n",
       "      <td>1</td>\n",
       "      <td>37</td>\n",
       "      <td>black</td>\n",
       "      <td>single</td>\n",
       "      <td>0</td>\n",
       "      <td>12.0</td>\n",
       "      <td>not college grad</td>\n",
       "      <td>0</td>\n",
       "      <td>SMSA</td>\n",
       "      <td>0</td>\n",
       "      <td>Transport/Comm/Utility</td>\n",
       "      <td>Operatives</td>\n",
       "      <td>union</td>\n",
       "      <td>11.739125</td>\n",
       "      <td>48.0</td>\n",
       "      <td>10.333334</td>\n",
       "      <td>5.333334</td>\n",
       "    </tr>\n",
       "    <tr>\n",
       "      <th>1</th>\n",
       "      <td>2</td>\n",
       "      <td>37</td>\n",
       "      <td>black</td>\n",
       "      <td>single</td>\n",
       "      <td>0</td>\n",
       "      <td>12.0</td>\n",
       "      <td>not college grad</td>\n",
       "      <td>0</td>\n",
       "      <td>SMSA</td>\n",
       "      <td>1</td>\n",
       "      <td>Manufacturing</td>\n",
       "      <td>Craftsmen</td>\n",
       "      <td>union</td>\n",
       "      <td>6.400963</td>\n",
       "      <td>40.0</td>\n",
       "      <td>13.621795</td>\n",
       "      <td>5.250000</td>\n",
       "    </tr>\n",
       "    <tr>\n",
       "      <th>2</th>\n",
       "      <td>3</td>\n",
       "      <td>42</td>\n",
       "      <td>black</td>\n",
       "      <td>single</td>\n",
       "      <td>1</td>\n",
       "      <td>12.0</td>\n",
       "      <td>not college grad</td>\n",
       "      <td>0</td>\n",
       "      <td>SMSA</td>\n",
       "      <td>1</td>\n",
       "      <td>Manufacturing</td>\n",
       "      <td>Sales</td>\n",
       "      <td>NaN</td>\n",
       "      <td>5.016723</td>\n",
       "      <td>40.0</td>\n",
       "      <td>17.730770</td>\n",
       "      <td>1.250000</td>\n",
       "    </tr>\n",
       "    <tr>\n",
       "      <th>3</th>\n",
       "      <td>4</td>\n",
       "      <td>43</td>\n",
       "      <td>white</td>\n",
       "      <td>married</td>\n",
       "      <td>0</td>\n",
       "      <td>17.0</td>\n",
       "      <td>college grad</td>\n",
       "      <td>0</td>\n",
       "      <td>SMSA</td>\n",
       "      <td>0</td>\n",
       "      <td>Professional Services</td>\n",
       "      <td>Other</td>\n",
       "      <td>union</td>\n",
       "      <td>9.033812</td>\n",
       "      <td>42.0</td>\n",
       "      <td>13.211537</td>\n",
       "      <td>1.750000</td>\n",
       "    </tr>\n",
       "    <tr>\n",
       "      <th>4</th>\n",
       "      <td>6</td>\n",
       "      <td>42</td>\n",
       "      <td>white</td>\n",
       "      <td>married</td>\n",
       "      <td>0</td>\n",
       "      <td>12.0</td>\n",
       "      <td>not college grad</td>\n",
       "      <td>0</td>\n",
       "      <td>SMSA</td>\n",
       "      <td>0</td>\n",
       "      <td>Manufacturing</td>\n",
       "      <td>Operatives</td>\n",
       "      <td>nonunion</td>\n",
       "      <td>8.083731</td>\n",
       "      <td>48.0</td>\n",
       "      <td>17.820513</td>\n",
       "      <td>17.750000</td>\n",
       "    </tr>\n",
       "  </tbody>\n",
       "</table>\n",
       "</div>"
      ],
      "text/plain": [
       "   idcode  age   race  married  never_married  grade          collgrad  south  \\\n",
       "0       1   37  black   single              0   12.0  not college grad      0   \n",
       "1       2   37  black   single              0   12.0  not college grad      0   \n",
       "2       3   42  black   single              1   12.0  not college grad      0   \n",
       "3       4   43  white  married              0   17.0      college grad      0   \n",
       "4       6   42  white  married              0   12.0  not college grad      0   \n",
       "\n",
       "   smsa  c_city                industry  occupation     union       wage  \\\n",
       "0  SMSA       0  Transport/Comm/Utility  Operatives     union  11.739125   \n",
       "1  SMSA       1           Manufacturing   Craftsmen     union   6.400963   \n",
       "2  SMSA       1           Manufacturing       Sales       NaN   5.016723   \n",
       "3  SMSA       0   Professional Services       Other     union   9.033812   \n",
       "4  SMSA       0           Manufacturing  Operatives  nonunion   8.083731   \n",
       "\n",
       "   hours    ttl_exp     tenure  \n",
       "0   48.0  10.333334   5.333334  \n",
       "1   40.0  13.621795   5.250000  \n",
       "2   40.0  17.730770   1.250000  \n",
       "3   42.0  13.211537   1.750000  \n",
       "4   48.0  17.820513  17.750000  "
      ]
     },
     "execution_count": 55,
     "metadata": {},
     "output_type": "execute_result"
    }
   ],
   "source": [
    "women = pd.read_csv(\"nlsw88.csv\")\n",
    "women.head()"
   ]
  },
  {
   "cell_type": "markdown",
   "metadata": {},
   "source": [
    "### Pivot tables\n",
    "\n",
    "**Exercise 8**\n",
    "\n",
    "In the homework we used `groupby` to create a bar plot showing average wages of women of different race, see the code below. Now use `pivot_table` instead of `groupby` to create the same bar plot."
   ]
  },
  {
   "cell_type": "code",
   "execution_count": null,
   "metadata": {},
   "outputs": [],
   "source": [
    "women.groupby(\"race\")[\"wage\"].mean().plot(kind=\"bar\")\n",
    "# YOUR CODE HERE\n",
    "raise NotImplementedError()"
   ]
  },
  {
   "cell_type": "markdown",
   "metadata": {},
   "source": [
    "**Exercise 9**\n",
    "\n",
    "Use `T` to create a table with each race in a separate column, and rows with average wages, working hours, and education levels (grades)"
   ]
  },
  {
   "cell_type": "code",
   "execution_count": 85,
   "metadata": {},
   "outputs": [],
   "source": [
    "# YOUR CODE HERE\n",
    "raise NotImplementedError()"
   ]
  },
  {
   "cell_type": "markdown",
   "metadata": {},
   "source": [
    "**Exercise 10**\n",
    "\n",
    "The tabel shows that black women earn lower wages and have a lower education level than white women on average. Can the lower education level  explain why black women earn lower wages? \n",
    "\n",
    "Use `pivot_table` to create a two-way table with `race` in the columns, `collgrad` in the rows, and average wages as values."
   ]
  },
  {
   "cell_type": "code",
   "execution_count": 119,
   "metadata": {},
   "outputs": [
    {
     "data": {
      "text/html": [
       "<div>\n",
       "<style scoped>\n",
       "    .dataframe tbody tr th:only-of-type {\n",
       "        vertical-align: middle;\n",
       "    }\n",
       "\n",
       "    .dataframe tbody tr th {\n",
       "        vertical-align: top;\n",
       "    }\n",
       "\n",
       "    .dataframe thead th {\n",
       "        text-align: right;\n",
       "    }\n",
       "</style>\n",
       "<table border=\"1\" class=\"dataframe\">\n",
       "  <thead>\n",
       "    <tr style=\"text-align: right;\">\n",
       "      <th>race</th>\n",
       "      <th>black</th>\n",
       "      <th>other</th>\n",
       "      <th>white</th>\n",
       "    </tr>\n",
       "    <tr>\n",
       "      <th>collgrad</th>\n",
       "      <th></th>\n",
       "      <th></th>\n",
       "      <th></th>\n",
       "    </tr>\n",
       "  </thead>\n",
       "  <tbody>\n",
       "    <tr>\n",
       "      <th>college grad</th>\n",
       "      <td>11.358608</td>\n",
       "      <td>11.596778</td>\n",
       "      <td>10.298948</td>\n",
       "    </tr>\n",
       "    <tr>\n",
       "      <th>not college grad</th>\n",
       "      <td>5.875918</td>\n",
       "      <td>6.938195</td>\n",
       "      <td>7.318251</td>\n",
       "    </tr>\n",
       "  </tbody>\n",
       "</table>\n",
       "</div>"
      ],
      "text/plain": [
       "race                  black      other      white\n",
       "collgrad                                         \n",
       "college grad      11.358608  11.596778  10.298948\n",
       "not college grad   5.875918   6.938195   7.318251"
      ]
     },
     "execution_count": 119,
     "metadata": {},
     "output_type": "execute_result"
    }
   ],
   "source": [
    "women.pivot_table(values=\"wage\", index=\"collgrad\", columns=\"race\")"
   ]
  },
  {
   "cell_type": "markdown",
   "metadata": {},
   "source": [
    "We see that the evidence is mixed. Black women with a college degree earn more than white women with a college degree, but black women without a college degree earn less than white women without a college degree. \n",
    "\n",
    "### Groupby objects\n",
    "\n",
    "You conclude that it may be useful to condition on both race and education level. One way to do so is to use a groupby object, like below:"
   ]
  },
  {
   "cell_type": "code",
   "execution_count": 96,
   "metadata": {},
   "outputs": [
    {
     "data": {
      "text/plain": [
       "pandas.core.groupby.generic.DataFrameGroupBy"
      ]
     },
     "execution_count": 96,
     "metadata": {},
     "output_type": "execute_result"
    }
   ],
   "source": [
    "gbCollegeRace = women.groupby([\"collgrad\", \"race\"])\n",
    "type(gbCollegeRace)"
   ]
  },
  {
   "cell_type": "markdown",
   "metadata": {},
   "source": [
    "You can select those observations that satisfy the group characteristics that you are interested using `get_group`. For instance, the code below shows the first five lines of the DataFrame of all black women without a college degree."
   ]
  },
  {
   "cell_type": "code",
   "execution_count": 102,
   "metadata": {},
   "outputs": [
    {
     "data": {
      "text/html": [
       "<div>\n",
       "<style scoped>\n",
       "    .dataframe tbody tr th:only-of-type {\n",
       "        vertical-align: middle;\n",
       "    }\n",
       "\n",
       "    .dataframe tbody tr th {\n",
       "        vertical-align: top;\n",
       "    }\n",
       "\n",
       "    .dataframe thead th {\n",
       "        text-align: right;\n",
       "    }\n",
       "</style>\n",
       "<table border=\"1\" class=\"dataframe\">\n",
       "  <thead>\n",
       "    <tr style=\"text-align: right;\">\n",
       "      <th></th>\n",
       "      <th>idcode</th>\n",
       "      <th>age</th>\n",
       "      <th>race</th>\n",
       "      <th>married</th>\n",
       "      <th>never_married</th>\n",
       "      <th>grade</th>\n",
       "      <th>collgrad</th>\n",
       "      <th>south</th>\n",
       "      <th>smsa</th>\n",
       "      <th>c_city</th>\n",
       "      <th>industry</th>\n",
       "      <th>occupation</th>\n",
       "      <th>union</th>\n",
       "      <th>wage</th>\n",
       "      <th>hours</th>\n",
       "      <th>ttl_exp</th>\n",
       "      <th>tenure</th>\n",
       "    </tr>\n",
       "  </thead>\n",
       "  <tbody>\n",
       "    <tr>\n",
       "      <th>0</th>\n",
       "      <td>1</td>\n",
       "      <td>37</td>\n",
       "      <td>black</td>\n",
       "      <td>single</td>\n",
       "      <td>0</td>\n",
       "      <td>12.0</td>\n",
       "      <td>not college grad</td>\n",
       "      <td>0</td>\n",
       "      <td>SMSA</td>\n",
       "      <td>0</td>\n",
       "      <td>Transport/Comm/Utility</td>\n",
       "      <td>Operatives</td>\n",
       "      <td>union</td>\n",
       "      <td>11.739125</td>\n",
       "      <td>48.0</td>\n",
       "      <td>10.333334</td>\n",
       "      <td>5.333334</td>\n",
       "    </tr>\n",
       "    <tr>\n",
       "      <th>1</th>\n",
       "      <td>2</td>\n",
       "      <td>37</td>\n",
       "      <td>black</td>\n",
       "      <td>single</td>\n",
       "      <td>0</td>\n",
       "      <td>12.0</td>\n",
       "      <td>not college grad</td>\n",
       "      <td>0</td>\n",
       "      <td>SMSA</td>\n",
       "      <td>1</td>\n",
       "      <td>Manufacturing</td>\n",
       "      <td>Craftsmen</td>\n",
       "      <td>union</td>\n",
       "      <td>6.400963</td>\n",
       "      <td>40.0</td>\n",
       "      <td>13.621795</td>\n",
       "      <td>5.250000</td>\n",
       "    </tr>\n",
       "    <tr>\n",
       "      <th>2</th>\n",
       "      <td>3</td>\n",
       "      <td>42</td>\n",
       "      <td>black</td>\n",
       "      <td>single</td>\n",
       "      <td>1</td>\n",
       "      <td>12.0</td>\n",
       "      <td>not college grad</td>\n",
       "      <td>0</td>\n",
       "      <td>SMSA</td>\n",
       "      <td>1</td>\n",
       "      <td>Manufacturing</td>\n",
       "      <td>Sales</td>\n",
       "      <td>NaN</td>\n",
       "      <td>5.016723</td>\n",
       "      <td>40.0</td>\n",
       "      <td>17.730770</td>\n",
       "      <td>1.250000</td>\n",
       "    </tr>\n",
       "    <tr>\n",
       "      <th>39</th>\n",
       "      <td>75</td>\n",
       "      <td>39</td>\n",
       "      <td>black</td>\n",
       "      <td>single</td>\n",
       "      <td>0</td>\n",
       "      <td>11.0</td>\n",
       "      <td>not college grad</td>\n",
       "      <td>0</td>\n",
       "      <td>nonSMSA</td>\n",
       "      <td>0</td>\n",
       "      <td>Manufacturing</td>\n",
       "      <td>Operatives</td>\n",
       "      <td>union</td>\n",
       "      <td>12.500001</td>\n",
       "      <td>40.0</td>\n",
       "      <td>14.499999</td>\n",
       "      <td>9.333333</td>\n",
       "    </tr>\n",
       "    <tr>\n",
       "      <th>47</th>\n",
       "      <td>106</td>\n",
       "      <td>38</td>\n",
       "      <td>black</td>\n",
       "      <td>single</td>\n",
       "      <td>0</td>\n",
       "      <td>12.0</td>\n",
       "      <td>not college grad</td>\n",
       "      <td>1</td>\n",
       "      <td>SMSA</td>\n",
       "      <td>1</td>\n",
       "      <td>Public Administration</td>\n",
       "      <td>Sales</td>\n",
       "      <td>nonunion</td>\n",
       "      <td>10.837358</td>\n",
       "      <td>40.0</td>\n",
       "      <td>17.416666</td>\n",
       "      <td>17.416666</td>\n",
       "    </tr>\n",
       "  </tbody>\n",
       "</table>\n",
       "</div>"
      ],
      "text/plain": [
       "    idcode  age   race married  never_married  grade          collgrad  south  \\\n",
       "0        1   37  black  single              0   12.0  not college grad      0   \n",
       "1        2   37  black  single              0   12.0  not college grad      0   \n",
       "2        3   42  black  single              1   12.0  not college grad      0   \n",
       "39      75   39  black  single              0   11.0  not college grad      0   \n",
       "47     106   38  black  single              0   12.0  not college grad      1   \n",
       "\n",
       "       smsa  c_city                industry  occupation     union       wage  \\\n",
       "0      SMSA       0  Transport/Comm/Utility  Operatives     union  11.739125   \n",
       "1      SMSA       1           Manufacturing   Craftsmen     union   6.400963   \n",
       "2      SMSA       1           Manufacturing       Sales       NaN   5.016723   \n",
       "39  nonSMSA       0           Manufacturing  Operatives     union  12.500001   \n",
       "47     SMSA       1   Public Administration       Sales  nonunion  10.837358   \n",
       "\n",
       "    hours    ttl_exp     tenure  \n",
       "0    48.0  10.333334   5.333334  \n",
       "1    40.0  13.621795   5.250000  \n",
       "2    40.0  17.730770   1.250000  \n",
       "39   40.0  14.499999   9.333333  \n",
       "47   40.0  17.416666  17.416666  "
      ]
     },
     "execution_count": 102,
     "metadata": {},
     "output_type": "execute_result"
    }
   ],
   "source": [
    "gbCollegeRace.get_group((\"not college grad\",\"black\")).head() # note a tuple!"
   ]
  },
  {
   "cell_type": "markdown",
   "metadata": {},
   "source": [
    "One can directly apply methods to a groupby object. For instance, using `gbCollegeRace` one can compute the mean for each variable splitting observations by both college graduation and race."
   ]
  },
  {
   "cell_type": "code",
   "execution_count": 118,
   "metadata": {},
   "outputs": [
    {
     "data": {
      "text/html": [
       "<div>\n",
       "<style scoped>\n",
       "    .dataframe tbody tr th:only-of-type {\n",
       "        vertical-align: middle;\n",
       "    }\n",
       "\n",
       "    .dataframe tbody tr th {\n",
       "        vertical-align: top;\n",
       "    }\n",
       "\n",
       "    .dataframe thead th {\n",
       "        text-align: right;\n",
       "    }\n",
       "</style>\n",
       "<table border=\"1\" class=\"dataframe\">\n",
       "  <thead>\n",
       "    <tr style=\"text-align: right;\">\n",
       "      <th></th>\n",
       "      <th></th>\n",
       "      <th>idcode</th>\n",
       "      <th>age</th>\n",
       "      <th>never_married</th>\n",
       "      <th>grade</th>\n",
       "      <th>south</th>\n",
       "      <th>c_city</th>\n",
       "      <th>wage</th>\n",
       "      <th>hours</th>\n",
       "      <th>ttl_exp</th>\n",
       "      <th>tenure</th>\n",
       "    </tr>\n",
       "    <tr>\n",
       "      <th>collgrad</th>\n",
       "      <th>race</th>\n",
       "      <th></th>\n",
       "      <th></th>\n",
       "      <th></th>\n",
       "      <th></th>\n",
       "      <th></th>\n",
       "      <th></th>\n",
       "      <th></th>\n",
       "      <th></th>\n",
       "      <th></th>\n",
       "      <th></th>\n",
       "    </tr>\n",
       "  </thead>\n",
       "  <tbody>\n",
       "    <tr>\n",
       "      <th rowspan=\"3\" valign=\"top\">college grad</th>\n",
       "      <th>black</th>\n",
       "      <td>3010.427184</td>\n",
       "      <td>38.378641</td>\n",
       "      <td>0.174757</td>\n",
       "      <td>16.679612</td>\n",
       "      <td>0.631068</td>\n",
       "      <td>0.611650</td>\n",
       "      <td>11.358608</td>\n",
       "      <td>39.728155</td>\n",
       "      <td>13.840055</td>\n",
       "      <td>8.066993</td>\n",
       "    </tr>\n",
       "    <tr>\n",
       "      <th>other</th>\n",
       "      <td>4023.888889</td>\n",
       "      <td>39.777778</td>\n",
       "      <td>0.222222</td>\n",
       "      <td>16.444444</td>\n",
       "      <td>0.000000</td>\n",
       "      <td>0.333333</td>\n",
       "      <td>11.596778</td>\n",
       "      <td>41.111111</td>\n",
       "      <td>13.238604</td>\n",
       "      <td>4.500000</td>\n",
       "    </tr>\n",
       "    <tr>\n",
       "      <th>white</th>\n",
       "      <td>2297.002381</td>\n",
       "      <td>39.278571</td>\n",
       "      <td>0.145238</td>\n",
       "      <td>16.735714</td>\n",
       "      <td>0.364286</td>\n",
       "      <td>0.280952</td>\n",
       "      <td>10.298948</td>\n",
       "      <td>38.556086</td>\n",
       "      <td>13.351221</td>\n",
       "      <td>6.582538</td>\n",
       "    </tr>\n",
       "    <tr>\n",
       "      <th rowspan=\"3\" valign=\"top\">not college grad</th>\n",
       "      <th>black</th>\n",
       "      <td>3191.666667</td>\n",
       "      <td>38.904167</td>\n",
       "      <td>0.181250</td>\n",
       "      <td>11.549061</td>\n",
       "      <td>0.641667</td>\n",
       "      <td>0.464583</td>\n",
       "      <td>5.875918</td>\n",
       "      <td>37.774059</td>\n",
       "      <td>12.478045</td>\n",
       "      <td>6.166141</td>\n",
       "    </tr>\n",
       "    <tr>\n",
       "      <th>other</th>\n",
       "      <td>3688.470588</td>\n",
       "      <td>39.058824</td>\n",
       "      <td>0.058824</td>\n",
       "      <td>11.588235</td>\n",
       "      <td>0.176471</td>\n",
       "      <td>0.235294</td>\n",
       "      <td>6.938195</td>\n",
       "      <td>34.529412</td>\n",
       "      <td>12.259804</td>\n",
       "      <td>5.186274</td>\n",
       "    </tr>\n",
       "    <tr>\n",
       "      <th>white</th>\n",
       "      <td>2434.090386</td>\n",
       "      <td>39.270337</td>\n",
       "      <td>0.053410</td>\n",
       "      <td>12.146382</td>\n",
       "      <td>0.339359</td>\n",
       "      <td>0.200493</td>\n",
       "      <td>7.318251</td>\n",
       "      <td>36.334704</td>\n",
       "      <td>12.163922</td>\n",
       "      <td>5.539666</td>\n",
       "    </tr>\n",
       "  </tbody>\n",
       "</table>\n",
       "</div>"
      ],
      "text/plain": [
       "                             idcode        age  never_married      grade  \\\n",
       "collgrad         race                                                      \n",
       "college grad     black  3010.427184  38.378641       0.174757  16.679612   \n",
       "                 other  4023.888889  39.777778       0.222222  16.444444   \n",
       "                 white  2297.002381  39.278571       0.145238  16.735714   \n",
       "not college grad black  3191.666667  38.904167       0.181250  11.549061   \n",
       "                 other  3688.470588  39.058824       0.058824  11.588235   \n",
       "                 white  2434.090386  39.270337       0.053410  12.146382   \n",
       "\n",
       "                           south    c_city       wage      hours    ttl_exp  \\\n",
       "collgrad         race                                                         \n",
       "college grad     black  0.631068  0.611650  11.358608  39.728155  13.840055   \n",
       "                 other  0.000000  0.333333  11.596778  41.111111  13.238604   \n",
       "                 white  0.364286  0.280952  10.298948  38.556086  13.351221   \n",
       "not college grad black  0.641667  0.464583   5.875918  37.774059  12.478045   \n",
       "                 other  0.176471  0.235294   6.938195  34.529412  12.259804   \n",
       "                 white  0.339359  0.200493   7.318251  36.334704  12.163922   \n",
       "\n",
       "                          tenure  \n",
       "collgrad         race             \n",
       "college grad     black  8.066993  \n",
       "                 other  4.500000  \n",
       "                 white  6.582538  \n",
       "not college grad black  6.166141  \n",
       "                 other  5.186274  \n",
       "                 white  5.539666  "
      ]
     },
     "execution_count": 118,
     "metadata": {},
     "output_type": "execute_result"
    }
   ],
   "source": [
    "gbCollegeRace.mean()"
   ]
  },
  {
   "cell_type": "markdown",
   "metadata": {},
   "source": [
    "Note that `collgrad` and `race` appear as (hierarchical) indices.\n",
    "\n",
    "**Exercise 11**\n",
    "\n",
    "Use one of the reshaping methods studied last week (`set_index`, `reset_index`, `stack`, or `unstack`) and the groupby object `gbCollegeRace` to create the same two-way table as you made for the previous Exercise."
   ]
  },
  {
   "cell_type": "code",
   "execution_count": null,
   "metadata": {},
   "outputs": [],
   "source": [
    "# YOUR CODE HERE\n",
    "raise NotImplementedError()"
   ]
  }
 ],
 "metadata": {
  "kernelspec": {
   "display_name": "Python 3 (ipykernel)",
   "language": "python",
   "name": "python3"
  },
  "language_info": {
   "codemirror_mode": {
    "name": "ipython",
    "version": 3
   },
   "file_extension": ".py",
   "mimetype": "text/x-python",
   "name": "python",
   "nbconvert_exporter": "python",
   "pygments_lexer": "ipython3",
   "version": "3.9.7"
  }
 },
 "nbformat": 4,
 "nbformat_minor": 4
}
