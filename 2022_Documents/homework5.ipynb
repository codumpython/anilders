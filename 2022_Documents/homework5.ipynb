{
 "cells": [
  {
   "cell_type": "markdown",
   "metadata": {},
   "source": [
    "# Python Homework Week 5\n",
    "\n",
    "#### Learning goal\n",
    "Practicing the skills acquired in Datacamp: Data manipulation with Pandas\n",
    "1. Transforming DataFrames\n",
    "2. Aggregating DataFrames\n",
    "3. Slicing and Indexing DataFrames\n",
    "4. Creating and Visualizing DataFrames"
   ]
  },
  {
   "cell_type": "code",
   "execution_count": 1,
   "metadata": {},
   "outputs": [],
   "source": [
    "import numpy as np\n",
    "import pandas as pd\n",
    "import matplotlib.pyplot as plt\n",
    "%matplotlib inline"
   ]
  },
  {
   "cell_type": "markdown",
   "metadata": {},
   "source": [
    "### Introduction"
   ]
  },
  {
   "cell_type": "markdown",
   "metadata": {},
   "source": [
    "**a) [1 point]**\n",
    "\n",
    "Below you find a dictionary with the unemployment rate *every other* year for the four regions of the US starting in 1995. Create a Pandas DataFrame `unemp_region` with these data, and print the first few lines of it."
   ]
  },
  {
   "cell_type": "code",
   "execution_count": 2,
   "metadata": {},
   "outputs": [],
   "source": [
    "data = {\n",
    "    \"NorthEast\": [5.9,  5.6,  4.4,  3.8,  5.8,  4.9,  4.3,  7.1,  8.3,  7.9,  5.7],\n",
    "    \"MidWest\": [4.5,  4.3,  3.6,  4. ,  5.7,  5.7,  4.9,  8.1,  8.7,  7.4,  5.1],\n",
    "    \"South\": [5.3,  5.2,  4.2,  4. ,  5.7,  5.2,  4.3,  7.6,  9.1,  7.4,  5.5],\n",
    "    \"West\": [6.6, 6., 5.2, 4.6, 6.5, 5.5, 4.5, 8.6, 10.7, 8.5, 6.1],\n",
    "    \"National\": [5.6, 5.3, 4.3, 4.2, 5.8, 5.3, 4.6, 7.8, 9.1, 8., 5.7]\n",
    "}\n",
    "# YOUR CODE HERE\n",
    "raise NotImplementedError()"
   ]
  },
  {
   "cell_type": "markdown",
   "metadata": {},
   "source": [
    "**b) [1 point]**\n",
    "\n",
    "Someone claims that the national unemployment rate is not necessarily the same as the average of the four regions. Now we can check whether that is true. \n",
    "\n",
    "Create a new variable `UnweightedMean` that is a simple average of the four regional unemployment rates, and print the first few lines."
   ]
  },
  {
   "cell_type": "code",
   "execution_count": 4,
   "metadata": {},
   "outputs": [],
   "source": [
    "# YOUR CODE HERE\n",
    "raise NotImplementedError()"
   ]
  },
  {
   "cell_type": "markdown",
   "metadata": {},
   "source": [
    "We see that the claim is true. The unweighted mean is not equal to national unemployment rate because the four regions are not equal in size. "
   ]
  },
  {
   "cell_type": "markdown",
   "metadata": {},
   "source": [
    "**c) [1 point]**\n",
    "\n",
    "Unless you have done something special at **a)**, `unemp_region` has an index from 0 to 10. Add a new variable `Year` ranging from 1995 to 2015, set it as index, and print the first few lines of the DataFrame. \n",
    "\n",
    "*Hint:* To protect your DataFrame, many pandas operations do not automatically overwrite it. There are two solutions that make sure that `Year` actually appears as index:\n",
    "1. Assign the output back to your DataFrame: `unemp_region = unemp_region.`... \n",
    "2. Use `inplace=True` as an argument in your method."
   ]
  },
  {
   "cell_type": "code",
   "execution_count": 6,
   "metadata": {},
   "outputs": [],
   "source": [
    "# YOUR CODE HERE\n",
    "raise NotImplementedError()"
   ]
  },
  {
   "cell_type": "markdown",
   "metadata": {},
   "source": [
    "**d) [1 point]**\n",
    "\n",
    "Use google to find out how to drop a variable. Drop the variable `UnweightedMean` from your DataFrame, and print the first few lines. \n",
    "\n",
    "*Hint:* Depending on your method, you may need to reassign the DataFrame just as above."
   ]
  },
  {
   "cell_type": "code",
   "execution_count": 8,
   "metadata": {},
   "outputs": [],
   "source": [
    "# YOUR CODE HERE\n",
    "raise NotImplementedError()"
   ]
  },
  {
   "cell_type": "markdown",
   "metadata": {},
   "source": [
    "**e) [1 point]**\n",
    "\n",
    "One advantage of an index is that you can more easily extract parts of your DataFrame. Use the `loc` method to extract the national unemployment rate in 2009."
   ]
  },
  {
   "cell_type": "code",
   "execution_count": 10,
   "metadata": {},
   "outputs": [],
   "source": [
    "# YOUR CODE HERE\n",
    "raise NotImplementedError()"
   ]
  },
  {
   "cell_type": "markdown",
   "metadata": {},
   "source": [
    "**f) [1 point]**\n",
    "\n",
    "Another advantage of an index is that it becomes the default variable for an x-axis. Similarly, the default for a y-axis variable are all variables. (Obviously, this is only helpful if all variables are somehow comparable.)\n",
    "\n",
    "Create a line-plot that shows the development of unemployment in all regions (and nationwide) over time."
   ]
  },
  {
   "cell_type": "code",
   "execution_count": 12,
   "metadata": {},
   "outputs": [],
   "source": [
    "# YOUR CODE HERE\n",
    "raise NotImplementedError()"
   ]
  },
  {
   "cell_type": "markdown",
   "metadata": {},
   "source": [
    "**g) [1 point]**\n",
    "\n",
    "The line-plot suggests that on average over all years, unemployment is highest in the West. However, the ranking of unemployment across the other regions is harder to see.\n",
    "\n",
    "Compute the average unemployment (over all years) for each region and nationwide."
   ]
  },
  {
   "cell_type": "code",
   "execution_count": 14,
   "metadata": {},
   "outputs": [],
   "source": [
    "# YOUR CODE HERE\n",
    "raise NotImplementedError()"
   ]
  },
  {
   "cell_type": "markdown",
   "metadata": {},
   "source": [
    "**h) [1 point]**\n",
    "\n",
    "We see that the MidWest has the lowest unemployment rate on average. However, arguably high spikes in unemployment are just as harmful as high average unemployment. \n",
    "\n",
    "Compute the 90th percentile of unemployment for each region. Does the MidWest still do so well?"
   ]
  },
  {
   "cell_type": "code",
   "execution_count": 16,
   "metadata": {},
   "outputs": [],
   "source": [
    "# YOUR CODE HERE\n",
    "raise NotImplementedError()"
   ]
  },
  {
   "cell_type": "markdown",
   "metadata": {},
   "source": [
    "**i) [1 point]**\n",
    "\n",
    "Suppose you are particularly interested in the regional unemployment rates in the aftermath of the Great Recession. Select the unemployment rates for all regions in those years in which the national unemployment rate exceeds 7 percent. "
   ]
  },
  {
   "cell_type": "code",
   "execution_count": 21,
   "metadata": {},
   "outputs": [],
   "source": [
    "# YOUR CODE HERE\n",
    "raise NotImplementedError()"
   ]
  },
  {
   "cell_type": "markdown",
   "metadata": {},
   "source": [
    "**j) [1 point]**\n",
    "\n",
    "Unless you have done something very special above, the line-plot shows the years on the x-axis with decimal points. Clearly that doesn't make sense.\n",
    "\n",
    "Reset the index while reassigning the DataFrame to keep the variable `Year` (or use `inplace=True`). Then inspect the types of data using the code `unemp_region.dtypes`. "
   ]
  },
  {
   "cell_type": "code",
   "execution_count": null,
   "metadata": {},
   "outputs": [],
   "source": [
    "unemp_region.dtypes\n",
    "# YOUR CODE HERE\n",
    "raise NotImplementedError()"
   ]
  },
  {
   "cell_type": "markdown",
   "metadata": {},
   "source": [
    "As you can see, the problem is not that `Year` is not an integer. You can solve the problem by turning `Year` into a `datetime` object, as below. We wil learn more about `datetime` objects next week."
   ]
  },
  {
   "cell_type": "code",
   "execution_count": null,
   "metadata": {},
   "outputs": [],
   "source": [
    "unemp_region['Year'] = pd.to_datetime(unemp_region['Year'], format='%Y')\n",
    "unemp_region.plot(x=\"Year\")\n",
    "plt.show()"
   ]
  }
 ],
 "metadata": {
  "kernelspec": {
   "display_name": "Python 3 (ipykernel)",
   "language": "python",
   "name": "python3"
  },
  "language_info": {
   "codemirror_mode": {
    "name": "ipython",
    "version": 3
   },
   "file_extension": ".py",
   "mimetype": "text/x-python",
   "name": "python",
   "nbconvert_exporter": "python",
   "pygments_lexer": "ipython3",
   "version": "3.9.7"
  }
 },
 "nbformat": 4,
 "nbformat_minor": 4
}
