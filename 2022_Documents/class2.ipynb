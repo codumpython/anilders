{
 "cells": [
  {
   "cell_type": "markdown",
   "id": "e82e2df4",
   "metadata": {},
   "source": [
    "# Week 2 in class\n",
    "\n",
    "#### Learning goals\n",
    "- Increasing your comfort with dictionaries and random numbers\n",
    "- Extending your Matplotlib skills to plot functions"
   ]
  },
  {
   "cell_type": "code",
   "execution_count": 90,
   "id": "e8eedb22",
   "metadata": {},
   "outputs": [],
   "source": [
    "import matplotlib.pyplot as plt\n",
    "import numpy as np\n",
    "import pandas as pd\n",
    "%matplotlib inline"
   ]
  },
  {
   "cell_type": "markdown",
   "id": "2d2dd5d4",
   "metadata": {},
   "source": [
    "## Dictionaries"
   ]
  },
  {
   "cell_type": "markdown",
   "id": "61c4adf1",
   "metadata": {},
   "source": [
    "#### Exercise 1\n",
    "\n",
    "Below you can find the dictionary `chinadata`. \n",
    "\n",
    "You should remove the key `\"irrigated_land\"` (and its value) from the dictionary chinadata below using the `pop` method.\n",
    "\n",
    "To figure out how to use the `pop` method, apply the method with a question mark behind it and press SHIFT+ENTER."
   ]
  },
  {
   "cell_type": "code",
   "execution_count": null,
   "id": "c7fbba9e",
   "metadata": {},
   "outputs": [],
   "source": [
    "chinadata={'country': 'China',\n",
    " 'year': 2015,\n",
    " 'GDP': 11.06,\n",
    " 'population': 1.371,\n",
    " 'unemployment': 4.051,\n",
    " 'irrigated_land': 690070,\n",
    " 'top_religions': {'buddhist': 18.2, 'christian': 5.1, 'muslim': 1.8}}\n",
    "\n",
    "# YOUR CODE HERE\n",
    "raise NotImplementedError()"
   ]
  },
  {
   "cell_type": "markdown",
   "id": "e8bf6200",
   "metadata": {},
   "source": [
    "#### Exercise 2\n",
    "\n",
    "Explain what happens to the value you popped, and what happens when calling `pop` twice."
   ]
  },
  {
   "cell_type": "markdown",
   "id": "65c0b458",
   "metadata": {},
   "source": [
    "YOUR ANSWER HERE"
   ]
  },
  {
   "cell_type": "markdown",
   "id": "4ee8ac1a",
   "metadata": {},
   "source": [
    "## Plotting functions"
   ]
  },
  {
   "cell_type": "markdown",
   "id": "7867bff4",
   "metadata": {
    "deletable": false,
    "nbgrader": {
     "checksum": "ead4d3ab34376bc9759c0542a54df59d",
     "grade": false,
     "grade_id": "cell-09dbe4ad2af0866e",
     "locked": true,
     "schema_version": 1,
     "solution": false
    }
   },
   "source": [
    "Suppose we would like to plot the function $f(x)=\\sin(x)$. For this we can also use the plotting library `matplotlib` that we saw in Datacamp and the homework, and that we already imported above. \n",
    "\n",
    "In Datacamp you have seen the function `plt.plot`. To figure out whether and how to use `plt.plot` for plotting functions, explore jupyter's help facilities."
   ]
  },
  {
   "cell_type": "code",
   "execution_count": 5,
   "id": "33a38d2e",
   "metadata": {
    "deletable": false,
    "nbgrader": {
     "checksum": "03b5d2085a675a1f9225910de02d3526",
     "grade": false,
     "grade_id": "cell-c8cf031e75070ab2",
     "locked": true,
     "schema_version": 1,
     "solution": false
    }
   },
   "outputs": [],
   "source": [
    "plt.plot"
   ]
  },
  {
   "cell_type": "markdown",
   "id": "92bfe442",
   "metadata": {
    "deletable": false,
    "nbgrader": {
     "checksum": "d7fa96216d35154be29fc11ae03de592",
     "grade": false,
     "grade_id": "cell-9f26c2249988ff8f",
     "locked": true,
     "schema_version": 1,
     "solution": false
    }
   },
   "source": [
    "You can read a lot of text explaining `plt.plot` not all of which will be helpful for someone who is just starting with python (like you are). However, browsing through the text, you may see that `plt.plot` needs two lists to plot against each other. "
   ]
  },
  {
   "cell_type": "markdown",
   "id": "4390acd3",
   "metadata": {
    "nbgrader": {
     "checksum": "c7c4f30a8ec379e8b3613bc53c60eb4c",
     "grade": false,
     "grade_id": "cell-3dc2ba2d7f5a5dde",
     "locked": true,
     "schema_version": 1,
     "solution": false
    }
   },
   "source": [
    "#### Exercise 3\n",
    "\n",
    "Use the function `linspace` and the value $\\pi$ from numpy to create a list of 60 numbers from $-\\pi$ to (and including) $\\pi$. "
   ]
  },
  {
   "cell_type": "code",
   "execution_count": null,
   "id": "8781c047",
   "metadata": {
    "deletable": false,
    "nbgrader": {
     "checksum": "8ed646f6de312c082ca61c9e6d7434d3",
     "grade": true,
     "grade_id": "cell-b6373b8587b931a3",
     "locked": false,
     "points": 1,
     "schema_version": 1,
     "solution": true
    }
   },
   "outputs": [],
   "source": [
    "# YOUR CODE HERE\n",
    "raise NotImplementedError()"
   ]
  },
  {
   "cell_type": "markdown",
   "id": "dc6a505c",
   "metadata": {
    "nbgrader": {
     "checksum": "8337cb262c4d50866eebdff0117c628c",
     "grade": false,
     "grade_id": "cell-661d240a41f2246a",
     "locked": true,
     "schema_version": 1,
     "solution": false
    }
   },
   "source": [
    "Next we define a list (vector, if you want) of $y=f(x)$ values."
   ]
  },
  {
   "cell_type": "markdown",
   "id": "05ac3e7d",
   "metadata": {
    "deletable": false,
    "nbgrader": {
     "checksum": "752aaea9dd4bddc3b0ccedb83943cdd0",
     "grade": false,
     "grade_id": "cell-4308843a3ce070ad",
     "locked": true,
     "schema_version": 1,
     "solution": false
    }
   },
   "source": [
    "#### Exercise 4\n",
    "\n",
    "Generate a list `y` with as elements $\\sin(x)$."
   ]
  },
  {
   "cell_type": "code",
   "execution_count": null,
   "id": "eb3ee7e6",
   "metadata": {
    "deletable": false,
    "nbgrader": {
     "checksum": "405742c7d54e0f4db145a4321fb6d717",
     "grade": true,
     "grade_id": "cell-beb2632bc5328957",
     "locked": false,
     "points": 1,
     "schema_version": 1,
     "solution": true
    }
   },
   "outputs": [],
   "source": [
    "# YOUR CODE HERE\n",
    "raise NotImplementedError()"
   ]
  },
  {
   "cell_type": "markdown",
   "id": "44ff08b2",
   "metadata": {},
   "source": [
    "#### Exercise 5\n",
    "\n",
    "Now use `plt.plot` to plot $x$ against $y$."
   ]
  },
  {
   "cell_type": "code",
   "execution_count": null,
   "id": "28330216",
   "metadata": {
    "deletable": false,
    "nbgrader": {
     "checksum": "d71f53cefdb37a6d9da7966318672476",
     "grade": true,
     "grade_id": "cell-ef22fb55d4ccbae7",
     "locked": false,
     "points": 1,
     "schema_version": 1,
     "solution": true
    }
   },
   "outputs": [],
   "source": [
    "# YOUR CODE HERE\n",
    "raise NotImplementedError()"
   ]
  },
  {
   "cell_type": "markdown",
   "id": "02303e88",
   "metadata": {
    "deletable": false,
    "nbgrader": {
     "checksum": "0139152c2d00fabb58cde1d7fcc108d2",
     "grade": false,
     "grade_id": "cell-fe2ddf35afdd7b8d",
     "locked": true,
     "schema_version": 1,
     "solution": false
    }
   },
   "source": [
    "In the figure above, $x$ is ordered, hence it makes sense to connect two $x$'s next to each other with a line. This is not always the case. E.g. in most datasets there is no relation between two observations next to each other. \n",
    "\n",
    "**Exercise 6** \n",
    "\n",
    "In the next cell, type `plt.` and press the tab key.  You will see all the functions that you can use after `plt.`. Type the letter \"s\" to find a plot that can be used in such a case."
   ]
  },
  {
   "cell_type": "code",
   "execution_count": null,
   "id": "be8eafd4",
   "metadata": {
    "deletable": false,
    "nbgrader": {
     "checksum": "c963a66d0d5ee0da7c0825398ea9eb20",
     "grade": true,
     "grade_id": "cell-3ddbe1d6f45f3f48",
     "locked": false,
     "points": 1,
     "schema_version": 1,
     "solution": true
    }
   },
   "outputs": [],
   "source": [
    "# YOUR CODE HERE\n",
    "raise NotImplementedError()"
   ]
  },
  {
   "cell_type": "markdown",
   "id": "5cc48a96",
   "metadata": {
    "deletable": false,
    "nbgrader": {
     "checksum": "871daff9f20d81dc0479955d92953379",
     "grade": false,
     "grade_id": "cell-5acf3ee70ff27824",
     "locked": true,
     "schema_version": 1,
     "solution": false
    }
   },
   "source": [
    "#### Exercise 7\n",
    "\n",
    "Use this function from `plt` to plot $x$ against $y$ without a line being drawn."
   ]
  },
  {
   "cell_type": "code",
   "execution_count": null,
   "id": "aad8ef14",
   "metadata": {
    "deletable": false,
    "nbgrader": {
     "checksum": "ddc8c4c1d2927d63a5c929ee264f9e23",
     "grade": true,
     "grade_id": "cell-9ed9dfe1066a65a3",
     "locked": false,
     "points": 1,
     "schema_version": 1,
     "solution": true
    }
   },
   "outputs": [],
   "source": [
    "# YOUR CODE HERE\n",
    "raise NotImplementedError()"
   ]
  },
  {
   "cell_type": "markdown",
   "id": "9d8f94d3",
   "metadata": {},
   "source": [
    "## Hacker statistics\n",
    "\n",
    "To illustrate how to use statistical distributions in python, we will revisit two well known statisticals results. Instead of deriving these, we will simulate them. Then we ask you to recognize what they are.\n",
    "\n",
    "We start with a [Poisson distribution](https://en.wikipedia.org/wiki/Poisson_distribution). To draw one sample out of a Poisson distribution with parameter $\\lambda = 4$, you can do the following:"
   ]
  },
  {
   "cell_type": "code",
   "execution_count": null,
   "id": "db51dc52",
   "metadata": {},
   "outputs": [],
   "source": [
    "np.random.poisson(4,1)"
   ]
  },
  {
   "cell_type": "markdown",
   "id": "a288400c",
   "metadata": {},
   "source": [
    "To get an idea of what the Poisson distribution looks like, we can plot the mathematical equation for this distribution. But another way to do this, is to draw, say, 2000 samples from it and then plot the histogram of these samples. As long as you draw enough samples, this histogram will be reasonable accurate.\n",
    "\n",
    "**Exercise 8** \n",
    "\n",
    "Plot the histogram of 2000 draws from this Poisson distribution with $\\lambda=4$."
   ]
  },
  {
   "cell_type": "code",
   "execution_count": null,
   "id": "2dff94ba",
   "metadata": {},
   "outputs": [],
   "source": [
    "# YOUR CODE HERE\n",
    "raise NotImplementedError()"
   ]
  },
  {
   "cell_type": "markdown",
   "id": "9840d678",
   "metadata": {},
   "source": [
    "Now we are going to use this same idea to generate the distribution of the mean. The function `mean(n)` below does the following. We draw `n` samples out of the Poisson distribution with $\\lambda =4$ and we calculate the average (mean) of these `n` draws. This experiment - of calculating the mean of `n` draws - we do 2000 times."
   ]
  },
  {
   "cell_type": "code",
   "execution_count": 16,
   "id": "46f18c76",
   "metadata": {},
   "outputs": [],
   "source": [
    "number_of_iterations = 2000\n",
    "\n",
    "def mean(n):\n",
    "    averages = []\n",
    "    for i in range(number_of_iterations):\n",
    "        x = np.random.poisson(4,n)\n",
    "        averages.append(np.mean(x))\n",
    "    return averages"
   ]
  },
  {
   "cell_type": "markdown",
   "id": "b7fb3d32",
   "metadata": {},
   "source": [
    "**Exercise 9** \n",
    "\n",
    "Plot the distribution of the average of 100 draws from a Poisson distribution with $\\lambda=4$."
   ]
  },
  {
   "cell_type": "code",
   "execution_count": null,
   "id": "c8268cd3",
   "metadata": {},
   "outputs": [],
   "source": [
    "# YOUR CODE HERE\n",
    "raise NotImplementedError()"
   ]
  },
  {
   "cell_type": "markdown",
   "id": "c320eaa4",
   "metadata": {},
   "source": [
    "**Exercise 10** \n",
    "\n",
    "What shape does this distribution have and why?"
   ]
  },
  {
   "cell_type": "markdown",
   "id": "dd94c7f2",
   "metadata": {},
   "source": [
    "YOUR ANSWER HERE"
   ]
  },
  {
   "cell_type": "markdown",
   "id": "a9558cd6",
   "metadata": {},
   "source": [
    "**Exercise 11** \n",
    "\n",
    "Calculate the average of this distribution. Does this coincide with the theoretical prediction of this average?"
   ]
  },
  {
   "cell_type": "code",
   "execution_count": null,
   "id": "63883d68",
   "metadata": {},
   "outputs": [],
   "source": [
    "# YOUR CODE HERE\n",
    "raise NotImplementedError()"
   ]
  },
  {
   "cell_type": "markdown",
   "id": "cddbd440",
   "metadata": {},
   "source": [
    "YOUR ANSWER HERE"
   ]
  },
  {
   "cell_type": "markdown",
   "id": "8c8478b1",
   "metadata": {},
   "source": [
    "**Exercise 12** \n",
    "\n",
    "Calculate the standard deviation of this average. What is this standard deviation called? What is the theoretical expression for this standard deviation?"
   ]
  },
  {
   "cell_type": "code",
   "execution_count": null,
   "id": "4cc5240b",
   "metadata": {},
   "outputs": [],
   "source": [
    "# YOUR CODE HERE\n",
    "raise NotImplementedError()"
   ]
  },
  {
   "cell_type": "markdown",
   "id": "5d0e1470",
   "metadata": {},
   "source": [
    "YOUR ANSWER HERE"
   ]
  }
 ],
 "metadata": {
  "kernelspec": {
   "display_name": "Python 3 (ipykernel)",
   "language": "python",
   "name": "python3"
  },
  "language_info": {
   "codemirror_mode": {
    "name": "ipython",
    "version": 3
   },
   "file_extension": ".py",
   "mimetype": "text/x-python",
   "name": "python",
   "nbconvert_exporter": "python",
   "pygments_lexer": "ipython3",
   "version": "3.9.7"
  }
 },
 "nbformat": 4,
 "nbformat_minor": 5
}
