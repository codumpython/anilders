{
 "cells": [
  {
   "cell_type": "markdown",
   "metadata": {},
   "source": [
    "# Practice Exam"
   ]
  },
  {
   "cell_type": "code",
   "execution_count": 8,
   "metadata": {},
   "outputs": [],
   "source": [
    "import scipy.optimize as opt\n",
    "import numpy as np\n",
    "import pandas as pd\n",
    "import matplotlib.pyplot as plt\n",
    "%matplotlib inline"
   ]
  },
  {
   "cell_type": "markdown",
   "metadata": {},
   "source": [
    "**Question 1 [12 point]**\n",
    "\n",
    "Compute the sum of the integers between 0 and 100 (including 100), i.e. {0, 1, 2, … , 98, 99, 100}. Enter the sum as your answer, rounded to a whole number (i.e. without decimals)."
   ]
  },
  {
   "cell_type": "code",
   "execution_count": 16,
   "metadata": {},
   "outputs": [
    {
     "data": {
      "text/plain": [
       "5050"
      ]
     },
     "execution_count": 16,
     "metadata": {},
     "output_type": "execute_result"
    }
   ],
   "source": [
    "#ANSWER: 5050\n",
    "\n",
    "#CODE RESULTING IN THE ANSWER\n",
    "values = np.arange(0,101,1)\n",
    "np.sum(values)\n",
    "\n",
    "#ALTERNATIVE CODE RESULTING IN THE ANSWER\n",
    "values = list(range(101))\n",
    "sum(values)"
   ]
  },
  {
   "cell_type": "markdown",
   "metadata": {},
   "source": [
    "**Question 2 [12 point]**\n",
    "\n",
    "Draw one random number from a standard normal distribution (with mean zero and standard deviation one). Just before you sample from this distribution, set the seed using the following code: \n",
    "`np.random.seed(123)`\n",
    "\n",
    "As your answer, give the code for a dictionary with `draw` as key and your randomly drawn number as value, rounded to two decimals. Please don’t add excess spaces because your answer may be considered false if you do."
   ]
  },
  {
   "cell_type": "code",
   "execution_count": 5,
   "metadata": {},
   "outputs": [
    {
     "data": {
      "text/plain": [
       "array([-1.0856306])"
      ]
     },
     "execution_count": 5,
     "metadata": {},
     "output_type": "execute_result"
    }
   ],
   "source": [
    "# CODE RESULTING IN THE ANSWER\n",
    "np.random.seed(123)\n",
    "np.random.normal(0,1,1)"
   ]
  },
  {
   "cell_type": "code",
   "execution_count": 40,
   "metadata": {},
   "outputs": [
    {
     "data": {
      "text/plain": [
       "{'draw': -1.09}"
      ]
     },
     "execution_count": 40,
     "metadata": {},
     "output_type": "execute_result"
    }
   ],
   "source": [
    "#ANSWER:\n",
    "{\"draw\": -1.09}"
   ]
  },
  {
   "cell_type": "markdown",
   "metadata": {},
   "source": [
    "**Question 3 [14 points]**\n",
    "\n",
    "Consider the code below. This code results in an error. Copy the code, make the smallest possible change that gets rid of the error, and enter the full correct code as your answer."
   ]
  },
  {
   "cell_type": "code",
   "execution_count": 6,
   "metadata": {},
   "outputs": [
    {
     "data": {
      "text/plain": [
       "array([101.94174757, 103.82693939, 105.65722271, 107.43419681,\n",
       "       109.15941437, 110.83438289, 112.46056591, 114.03938438,\n",
       "       115.57221784, 117.06040567])"
      ]
     },
     "execution_count": 6,
     "metadata": {},
     "output_type": "execute_result"
    }
   ],
   "source": [
    "#ERROR:\n",
    "#5((1-(1+0.03)**-np.arange(1, 11))/0.03) + 100*(1+0.03)**-np.arange(1, 11)"
   ]
  },
  {
   "cell_type": "code",
   "execution_count": 6,
   "metadata": {},
   "outputs": [
    {
     "data": {
      "text/plain": [
       "array([101.94174757, 103.82693939, 105.65722271, 107.43419681,\n",
       "       109.15941437, 110.83438289, 112.46056591, 114.03938438,\n",
       "       115.57221784, 117.06040567])"
      ]
     },
     "execution_count": 6,
     "metadata": {},
     "output_type": "execute_result"
    }
   ],
   "source": [
    "#ANSWER\n",
    "5*((1-(1+0.03)**-np.arange(1, 11))/0.03) + 100*(1+0.03)**-np.arange(1, 11)"
   ]
  },
  {
   "cell_type": "markdown",
   "metadata": {},
   "source": [
    "**Question 4 [14 points]**\n",
    "\n",
    "Give the minimum value of the function $f(x) = x^2 – 5x + 3$. Give your answer rounded to two decimals"
   ]
  },
  {
   "cell_type": "code",
   "execution_count": 37,
   "metadata": {},
   "outputs": [
    {
     "data": {
      "text/plain": [
       "     fun: -3.25\n",
       "    nfev: 9\n",
       "     nit: 5\n",
       " success: True\n",
       "       x: 2.5"
      ]
     },
     "execution_count": 37,
     "metadata": {},
     "output_type": "execute_result"
    }
   ],
   "source": [
    "#ANSWER: -3.25\n",
    "\n",
    "#CODE SHOWING THE ANSWER\n",
    "def parabola(x):\n",
    "    return x**2 - 5*x + 3\n",
    "opt.minimize_scalar(parabola,[0,5])"
   ]
  },
  {
   "cell_type": "code",
   "execution_count": 35,
   "metadata": {},
   "outputs": [
    {
     "data": {
      "image/png": "[encoded data removed]",
      "text/plain": [
       "<Figure size 432x288 with 1 Axes>"
      ]
     },
     "metadata": {
      "needs_background": "light"
     },
     "output_type": "display_data"
    }
   ],
   "source": [
    "# BACKGROUND CODE\n",
    "x = np.linspace(0, 5, 100)\n",
    "plt.plot(x, parabola(x))\n",
    "plt.show()"
   ]
  },
  {
   "cell_type": "markdown",
   "metadata": {},
   "source": [
    "**Question 5 [16 points]**\n",
    "\n",
    "Run the following code that constructs a pandas dataframe with information on cars in the United States in 1978. "
   ]
  },
  {
   "cell_type": "code",
   "execution_count": 9,
   "metadata": {},
   "outputs": [],
   "source": [
    "np.random.seed(123)\n",
    "list_1 = [\"Domestic\" for i in range(50)]+[\"Foreign\" for i in range(50)]\n",
    "list_2 = np.linspace(1,10,100) + np.random.normal(17,2,100)\n",
    "list_3 = np.round(1000*(np.linspace(10,3,100) + 5.2*np.random.random(100)),2)\n",
    "autos = pd.DataFrame({\"price\":list_3,\"mpg\":list_2,\"origin\":list_1})"
   ]
  },
  {
   "cell_type": "markdown",
   "metadata": {},
   "source": [
    "The dataframe contains three variables for 100 different car types, indexed from 0 to 99. The dataset reports the price (in dollars), miles per gallon (mpg), and origin (Domestic or Foreign) for each type.\n",
    "\n",
    "It is often said that American cars are not as fuel efficient as other cars. Create a bar plot that shows the average miles per gallon (mpg) for each origin. What does the bar plot look like?"
   ]
  },
  {
   "cell_type": "code",
   "execution_count": 12,
   "metadata": {},
   "outputs": [
    {
     "data": {
      "image/png": "[encoded data removed]",
      "text/plain": [
       "<Figure size 432x288 with 1 Axes>"
      ]
     },
     "metadata": {
      "needs_background": "light"
     },
     "output_type": "display_data"
    }
   ],
   "source": [
    "# CODE RESULTING IN THE ANSWER\n",
    "avg_mpg_by_origin = autos.groupby(\"origin\")[\"mpg\"].mean()\n",
    "avg_mpg_by_origin.plot(kind = \"bar\")\n",
    "plt.show()"
   ]
  },
  {
   "cell_type": "markdown",
   "metadata": {},
   "source": [
    "**Question 6 [16 points]**\n",
    "\n",
    "Copy and run the code below to create a DataFrame `sales` that contains information about housing sales in Ames, Iowa. \n",
    "\n",
    "`from sklearn.datasets import fetch_openml\n",
    "housing = fetch_openml(name=\"house_prices\", as_frame=True)\n",
    "sales = pd.DataFrame(housing.data, columns=housing.feature_names).set_index(\"Id\")`\n",
    "\n",
    "The dataset contains many variables, most of which provide information about the characteristics of each house (the unit of observation). You can find background information about these variables by running the following code:\n",
    "\n",
    "`print(housing['DESCR'])`\n",
    "\n",
    "One of these variables is the variable `PoolArea`. This variable gives the pool area (in square feet), which is zero in case the house has no pool.\n",
    "\n",
    "What is the mean pool area of the houses *with* pools? Round your answer to two decimals."
   ]
  },
  {
   "cell_type": "code",
   "execution_count": 29,
   "metadata": {},
   "outputs": [
    {
     "data": {
      "text/plain": [
       "575.4285714285714"
      ]
     },
     "execution_count": 29,
     "metadata": {},
     "output_type": "execute_result"
    }
   ],
   "source": [
    "#ANSWER: 575.43\n",
    "\n",
    "# CODE TO COPY\n",
    "from sklearn.datasets import fetch_openml\n",
    "housing = fetch_openml(name=\"house_prices\", as_frame=True)\n",
    "sales = pd.DataFrame(housing.data, columns=housing.feature_names).set_index(\"Id\")\n",
    "\n",
    "# CODE RESULTING IN THE ANSWER\n",
    "sales[sales[\"PoolArea\"]>0][\"PoolArea\"].mean()"
   ]
  },
  {
   "cell_type": "markdown",
   "metadata": {},
   "source": [
    "**Question 7 [18 points]**\n",
    "\n",
    "Create a list of 1000 random numbers between 0 and 1. Just before you do so, set the seed using the following code: \n",
    "np.random.seed(123). \n",
    "\n",
    "Then write a loop that adds the random numbers from the list one-by-one to each other, starting at the first element, adding the second, then the third, etc. If you continue to the very end, the sum is 499.37. However, you can stop earlier.\n",
    "\n",
    "For which `i` is `sum(x[0:i])>250` and `sum(x[0:i-1])<=250`?\n",
    "\n",
    "(Which element `i` (so the element that you would index with `i-1`) makes the sum to *exceed* 250?)"
   ]
  },
  {
   "cell_type": "code",
   "execution_count": 20,
   "metadata": {},
   "outputs": [
    {
     "name": "stdout",
     "output_type": "stream",
     "text": [
      "506\n",
      "250.19336029481292\n",
      "249.69685232243782\n"
     ]
    }
   ],
   "source": [
    "#ANSWER 506\n",
    "\n",
    "# CODE RESULTING IN THE ANSWER\n",
    "np.random.seed(123)\n",
    "x = np.random.rand(1000)\n",
    "total = 0\n",
    "i = 0\n",
    "while total<250:\n",
    "    total = total + x[i]\n",
    "    i = i+1\n",
    "print(i)\n",
    "# CODE TO CHECK THE ANSWER\n",
    "print(sum(x[0:i]))\n",
    "print(sum(x[0:i-1]))"
   ]
  },
  {
   "cell_type": "code",
   "execution_count": 19,
   "metadata": {},
   "outputs": [
    {
     "data": {
      "text/plain": [
       "0.6964691855978616"
      ]
     },
     "execution_count": 19,
     "metadata": {},
     "output_type": "execute_result"
    }
   ],
   "source": [
    "x[0]"
   ]
  },
  {
   "cell_type": "code",
   "execution_count": 21,
   "metadata": {},
   "outputs": [
    {
     "data": {
      "text/plain": [
       "506"
      ]
     },
     "execution_count": 21,
     "metadata": {},
     "output_type": "execute_result"
    }
   ],
   "source": [
    "#ALTERNATIVE CODE\n",
    "np.random.seed(123)\n",
    "x = np.random.rand(1000)\n",
    "total = 0\n",
    "for i in range(len(x)):\n",
    "    if total>250:\n",
    "        break\n",
    "    else:\n",
    "        total = total + x[i]\n",
    "i"
   ]
  },
  {
   "cell_type": "code",
   "execution_count": null,
   "metadata": {},
   "outputs": [],
   "source": []
  }
 ],
 "metadata": {
  "kernelspec": {
   "display_name": "Python 3 (ipykernel)",
   "language": "python",
   "name": "python3"
  },
  "language_info": {
   "codemirror_mode": {
    "name": "ipython",
    "version": 3
   },
   "file_extension": ".py",
   "mimetype": "text/x-python",
   "name": "python",
   "nbconvert_exporter": "python",
   "pygments_lexer": "ipython3",
   "version": "3.9.7"
  }
 },
 "nbformat": 4,
 "nbformat_minor": 4
}
